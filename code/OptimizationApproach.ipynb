{
 "cells": [
  {
   "cell_type": "markdown",
   "id": "7d4aae39",
   "metadata": {},
   "source": [
    "# Load Essential Packages"
   ]
  },
  {
   "cell_type": "code",
   "execution_count": null,
   "id": "820c2248",
   "metadata": {},
   "outputs": [],
   "source": [
    "import pandas as pd\n",
    "import numpy as np\n",
    "import os\n",
    "import time\n",
    "import hyperopt\n",
    "from hyperopt import hp,fmin,tpe, STATUS_OK, Trials\n",
    "import sklearn\n",
    "import random\n",
    "from sklearn.linear_model import LogisticRegression\n",
    "from sklearn.metrics import roc_auc_score\n",
    "from sklearn.tree import DecisionTreeClassifier\n",
    "from sklearn.metrics import accuracy_score\n",
    "from sklearn.model_selection import KFold, train_test_split\n",
    "from sklearn.preprocessing import LabelEncoder"
   ]
  },
  {
   "cell_type": "code",
   "execution_count": null,
   "id": "46a4a513",
   "metadata": {},
   "outputs": [],
   "source": [
    "import warnings\n",
    "warnings.filterwarnings('ignore')"
   ]
  },
  {
   "cell_type": "markdown",
   "id": "7be0b66f",
   "metadata": {},
   "source": [
    "# Load Data"
   ]
  },
  {
   "cell_type": "code",
   "execution_count": null,
   "id": "81734ae4",
   "metadata": {},
   "outputs": [],
   "source": [
    "train = pd.read_csv('../data/train.csv')\n",
    "test = pd.read_csv('../data/test.csv')\n",
    "test.head()"
   ]
  },
  {
   "cell_type": "code",
   "execution_count": null,
   "id": "152bb04f",
   "metadata": {},
   "outputs": [],
   "source": [
    "x_train = train.loc[:, train.columns != 'salary']\n",
    "y_train = train['salary']"
   ]
  },
  {
   "cell_type": "code",
   "execution_count": null,
   "id": "31917f38",
   "metadata": {},
   "outputs": [],
   "source": [
    "x_test = test.loc[:, test.columns != 'salary']\n",
    "y_test = test['salary']"
   ]
  },
  {
   "cell_type": "code",
   "execution_count": null,
   "id": "ae5168bb",
   "metadata": {},
   "outputs": [],
   "source": [
    "df_gauss = pd.read_csv('../output/Gaussian.csv')\n",
    "df_ctgan = pd.read_csv('../output/CTGAN.csv')\n",
    "df_copgan = pd.read_csv('../output/CopulaGAN.csv')\n",
    "df_tvae = pd.read_csv('../output/TVAE.csv')\n",
    "df_emp = pd.read_csv('../output/Empirical.csv')"
   ]
  },
  {
   "cell_type": "code",
   "execution_count": null,
   "id": "84b4ec45",
   "metadata": {},
   "outputs": [],
   "source": [
    "x_gauss = df_gauss.loc[:, df_gauss.columns != 'salary']\n",
    "y_gauss = df_gauss['salary']\n",
    "x_ctgan = df_ctgan.loc[:, df_ctgan.columns != 'salary']\n",
    "y_ctgan = df_ctgan['salary']\n",
    "x_copgan = df_copgan.loc[:, df_copgan.columns != 'salary']\n",
    "y_copgan = df_copgan['salary']\n",
    "x_tvae = df_tvae.loc[:, df_tvae.columns != 'salary']\n",
    "y_tvae = df_tvae['salary']\n",
    "x_emp = df_emp.loc[:, df_emp.columns != 'salary']\n",
    "y_emp = df_emp['salary']"
   ]
  },
  {
   "cell_type": "markdown",
   "id": "17a5a61a",
   "metadata": {},
   "source": [
    "# Utilities"
   ]
  },
  {
   "cell_type": "code",
   "execution_count": null,
   "id": "32968096",
   "metadata": {},
   "outputs": [],
   "source": [
    "# Create class for encoding\n",
    "class MultiColumnLabelEncoder:\n",
    "    def __init__(self,columns = None):\n",
    "        self.columns = columns # array of column names to encode\n",
    "\n",
    "    def fit(self,X,y=None):\n",
    "        return self # not relevant here\n",
    "\n",
    "    def transform(self,X):\n",
    "        '''\n",
    "        Transforms columns of X specified in self.columns using\n",
    "        LabelEncoder(). If no columns specified, transforms all\n",
    "        columns in X.\n",
    "        '''\n",
    "        output = X.copy()\n",
    "        if self.columns is not None:\n",
    "            for col in self.columns:\n",
    "                output[col] = LabelEncoder().fit_transform(output[col])\n",
    "        else:\n",
    "            for colname,col in output.iteritems():\n",
    "                output[colname] = LabelEncoder().fit_transform(col)\n",
    "        return output\n",
    "\n",
    "    def fit_transform(self,X,y=None):\n",
    "        return self.fit(X,y).transform(X)"
   ]
  },
  {
   "cell_type": "code",
   "execution_count": null,
   "id": "45bee1f4",
   "metadata": {},
   "outputs": [],
   "source": [
    "cat_col = ['wkclass', 'matrimony', 'job', 'connection', 'race', 'origin', \"sex\"]"
   ]
  },
  {
   "cell_type": "markdown",
   "id": "6865e8b1",
   "metadata": {},
   "source": [
    "# Optimization"
   ]
  },
  {
   "cell_type": "code",
   "execution_count": null,
   "id": "29d2c35a",
   "metadata": {},
   "outputs": [],
   "source": [
    "params_range = {\n",
    "            'alpha_1':  hp.uniform('alpha_1', 0, 1),\n",
    "            'alpha_2':  hp.uniform('alpha_2', 0, 1),\n",
    "            'alpha_3':  hp.uniform('alpha_3', 0, 1),\n",
    "            'alpha_4':  hp.uniform('alpha_4', 0, 1),\n",
    "            'alpha_5':  hp.uniform('alpha_5', 0, 1)\n",
    "           } "
   ]
  },
  {
   "cell_type": "code",
   "execution_count": null,
   "id": "e56f717a",
   "metadata": {},
   "outputs": [],
   "source": [
    "generated_data_size = 10000"
   ]
  },
  {
   "cell_type": "code",
   "execution_count": null,
   "id": "cf398fd1",
   "metadata": {},
   "outputs": [],
   "source": [
    "def objective_maximize_roc(params):\n",
    "    # Keep track of the best iteration records\n",
    "    global output \n",
    "    global best_test_roc \n",
    "    global best_train_roc\n",
    "    global best_params\n",
    "    global best_X_synthetic\n",
    "    global best_y_synthetic\n",
    "    \n",
    "    # Scale the alphas so that their sum adds up to 1\n",
    "    alpha_temp = [params['alpha_1'], params['alpha_2'], params['alpha_3'], params['alpha_4'], params['alpha_5']]\n",
    "    scale = sum(alpha_temp)\n",
    "    alpha = [(1 / scale) * alpha_temp[i] for i in range(len(alpha_temp))]\n",
    "    index = np.argmax(alpha)\n",
    "    params['alpha_1'] = alpha[0]\n",
    "    params['alpha_2'] = alpha[1]\n",
    "    params['alpha_3'] = alpha[2]\n",
    "    params['alpha_4'] = alpha[3]\n",
    "    params['alpha_5'] = alpha[4]\n",
    "\n",
    "    # Combine all the data into a single list\n",
    "    X_temp = [x_gauss, x_ctgan, x_copgan, x_tvae, x_emp]\n",
    "    y_temp = [y_gauss, y_ctgan, y_copgan, y_tvae, y_emp]\n",
    "    \n",
    "    # Randomly select the data from each source\n",
    "    randomRows = random.sample(list(y_temp[0].index.values), int(alpha[0] * len(y_temp[0].index.values)))\n",
    "\n",
    "    X_new = X_temp[0].loc[randomRows]\n",
    "    y_new = y_temp[0].loc[randomRows]\n",
    "\n",
    "    x_test = test.loc[:, test.columns != 'salary']\n",
    "    y_test = test['salary']\n",
    "\n",
    "    size = [int(alpha[i] * len(y_temp[i].index.values)) for i in range(5)]\n",
    "    size[index] += (generated_data_size - sum(size))\n",
    "    \n",
    "    # Randomly select the data from each source based on the alpha values\n",
    "    for i in range(1, len(y_temp)):\n",
    "        n = size[i]\n",
    "        randomRows = random.sample(list(y_temp[i].index.values), n)\n",
    "        X_new = X_new.append(X_temp[i].loc[randomRows])\n",
    "        y_new = y_new.append(y_temp[i].loc[randomRows])\n",
    "\n",
    "\n",
    "    X_synthetic = X_new.copy()\n",
    "    y_synthetic = y_new.copy()\n",
    "    \n",
    "    # Handle Categorical Variables\n",
    "    cat_col = [\"wkclass\", \"connection\", \"matrimony\", \"job\", \"race\", \"sex\", \"origin\"]\n",
    "    X_new = MultiColumnLabelEncoder(columns = cat_col).fit_transform(X_new)\n",
    "    x_test = MultiColumnLabelEncoder(columns = cat_col).fit_transform(x_test)\n",
    "    \n",
    "    # Train classifier\n",
    "    clf = DecisionTreeClassifier()\n",
    "    clf.fit(X_new.to_numpy(), y_new.to_numpy().astype(int))\n",
    "    r_probs = [0 for _ in range(len(y_test))]\n",
    "    clf_probs = clf.predict_proba(x_test)\n",
    "    clf_probs = clf_probs[:, 1]\n",
    "        \n",
    "    clf_auc = roc_auc_score(y_test, clf_probs)\n",
    "    \n",
    "    clf_probs_train = clf.predict_proba(X_new)\n",
    "    clf_probs_train = clf_probs_train[:, 1]\n",
    "    \n",
    "    # Evaluate the performance of the classifier\n",
    "    clf_auc_train = roc_auc_score(y_new, clf_probs_train)\n",
    "    params['train_roc']        = clf_auc_train\n",
    "    params['test_roc']        = clf_auc\n",
    "    output = output.append(params,ignore_index=True)\n",
    "    \n",
    "    # Update best record of the loss function and the alpha values based on the optimization\n",
    "    if params['test_roc'] > best_test_roc:\n",
    "        best_test_roc = params['test_roc']\n",
    "        best_params = alpha\n",
    "        best_X_synthetic = X_synthetic\n",
    "        best_y_synthetic = y_synthetic\n",
    "\n",
    "    if params['train_roc'] > best_train_roc:\n",
    "         best_train_roc = params['train_roc']\n",
    "    \n",
    "    # Loss function is to maximize the test roc score\n",
    "    return {\n",
    "        'loss' : 1 - clf_auc,\n",
    "        'status' : STATUS_OK,\n",
    "        'eval_time ': time.time(),\n",
    "        'test_roc' : clf_auc,\n",
    "        }"
   ]
  },
  {
   "cell_type": "code",
   "execution_count": null,
   "id": "84ae8eff",
   "metadata": {},
   "outputs": [],
   "source": [
    "def trainDT(max_evals:int):\n",
    "    # Keep track of the best iteration records\n",
    "    global output \n",
    "    output = pd.DataFrame()\n",
    "    global best_test_roc\n",
    "    global best_train_roc \n",
    "    global best_params\n",
    "    global best_X_synthetic\n",
    "    global best_y_synthetic\n",
    "    best_test_roc = 0\n",
    "    best_train_roc = 0\n",
    "    best_params = []\n",
    "    trials = Trials()\n",
    "    start = time.time()\n",
    "    clf_best_param = fmin(fn=objective_maximize_roc,\n",
    "                    space=params_range,\n",
    "                    max_evals=max_evals,\n",
    "                   # rstate=np.random.default_rng(42),\n",
    "                    algo=tpe.suggest,\n",
    "                    trials=trials)\n",
    "    print(clf_best_param)\n",
    "    print('It takes %s minutes' % ((time.time() - start)/60))\n",
    "    return best_train_roc, best_test_roc, best_params, best_X_synthetic, best_y_synthetic, clf_best_param"
   ]
  },
  {
   "cell_type": "code",
   "execution_count": null,
   "id": "8501b520",
   "metadata": {},
   "outputs": [],
   "source": [
    "# Run the bayseian optimization approach\n",
    "best_train_roc, best_test_roc, best_params, best_X_synthetic, best_y_synthetic, clf_best_param = trainDT(5000)"
   ]
  },
  {
   "cell_type": "code",
   "execution_count": null,
   "id": "642736e1",
   "metadata": {},
   "outputs": [],
   "source": [
    "best_train_roc"
   ]
  },
  {
   "cell_type": "code",
   "execution_count": null,
   "id": "ca3cd195",
   "metadata": {},
   "outputs": [],
   "source": [
    "best_test_roc"
   ]
  },
  {
   "cell_type": "code",
   "execution_count": null,
   "id": "f27c9980",
   "metadata": {},
   "outputs": [],
   "source": [
    "sum(clf_best_param.values())"
   ]
  },
  {
   "cell_type": "code",
   "execution_count": null,
   "id": "8f8dc80d",
   "metadata": {},
   "outputs": [],
   "source": [
    "sum(best_params)"
   ]
  },
  {
   "cell_type": "code",
   "execution_count": null,
   "id": "98d4c498",
   "metadata": {},
   "outputs": [],
   "source": [
    "best_params"
   ]
  },
  {
   "cell_type": "code",
   "execution_count": null,
   "id": "55d09d45",
   "metadata": {},
   "outputs": [],
   "source": [
    "best_X_synthetic.head"
   ]
  },
  {
   "cell_type": "code",
   "execution_count": null,
   "id": "d9269b7e",
   "metadata": {},
   "outputs": [],
   "source": [
    "best_y_synthetic"
   ]
  },
  {
   "cell_type": "markdown",
   "id": "89456a15",
   "metadata": {},
   "source": [
    "# Save the Generated Synthetic Data"
   ]
  },
  {
   "cell_type": "code",
   "execution_count": null,
   "id": "02323070",
   "metadata": {},
   "outputs": [],
   "source": [
    "synthetic_data = best_X_synthetic\n",
    "synthetic_data['salary'] = best_y_synthetic.values\n",
    "synthetic_data.loc[synthetic_data[\"salary\"] == True, \"salary\"] = \" <=50K\"\n",
    "synthetic_data.loc[synthetic_data[\"salary\"] == False, \"salary\"] = \" >50K\""
   ]
  },
  {
   "cell_type": "code",
   "execution_count": null,
   "id": "43246987",
   "metadata": {},
   "outputs": [],
   "source": [
    "synthetic_data"
   ]
  },
  {
   "cell_type": "code",
   "execution_count": null,
   "id": "2db22181",
   "metadata": {},
   "outputs": [],
   "source": [
    "synthetic_data.to_csv(\"../output/synthetic_data.csv\")"
   ]
  }
 ],
 "metadata": {
  "kernelspec": {
   "display_name": "Python 3",
   "language": "python",
   "name": "python3"
  }
 },
 "nbformat": 4,
 "nbformat_minor": 5
}
