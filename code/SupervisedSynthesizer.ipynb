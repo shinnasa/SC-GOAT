{
 "cells": [
  {
   "cell_type": "code",
   "execution_count": 13,
   "metadata": {},
   "outputs": [],
   "source": [
    "import pandas as pd\n",
    "import numpy as np\n",
    "from hyperopt import hp, fmin, tpe, STATUS_OK, Trials\n",
    "from sklearn.model_selection import KFold, train_test_split\n",
    "from sklearn.metrics import roc_curve, roc_auc_score\n",
    "from sdv.single_table import GaussianCopulaSynthesizer\n",
    "from sdv.single_table import CTGANSynthesizer\n",
    "from sdv.single_table import TVAESynthesizer\n",
    "from sdv.single_table import CopulaGANSynthesizer\n",
    "from sdv.metadata import SingleTableMetadata\n",
    "from sklearn.tree import DecisionTreeClassifier\n",
    "import xgboost as xgb\n",
    "import time"
   ]
  },
  {
   "cell_type": "markdown",
   "metadata": {},
   "source": [
    "## Load data\n",
    "Load data and create train test split from the smaller dataset that contains 10% of the full data"
   ]
  },
  {
   "cell_type": "code",
   "execution_count": 14,
   "metadata": {},
   "outputs": [],
   "source": [
    "df = pd.read_csv(\"../data/adult.csv\")\n",
    "df.loc[df[\"income\"] == \"<=50K\", \"income\"] = 0\n",
    "df.loc[df[\"income\"] == \">50K\", \"income\"] = 1\n",
    "df, df_te = train_test_split(df, test_size = 0.1, random_state = 5)\n",
    "df_te.to_csv(\"../data/small_adult.csv\", index=False)\n",
    "\n",
    "df.head()\n",
    "cat_col = ['workclass', 'education', 'marital-status', 'occupation', 'relationship', 'race', 'gender', 'native-country']\n",
    "params_xgb = {\n",
    "        'eval_metric': 'auc'\n",
    "}\n"
   ]
  },
  {
   "cell_type": "code",
   "execution_count": 15,
   "metadata": {},
   "outputs": [],
   "source": [
    "df = pd.read_csv(\"../data/small_adult.csv\")\n",
    "for col in cat_col:\n",
    "    df[col] = df[col].astype('category')\n",
    "df, df_te = train_test_split(df, test_size = 0.2,  random_state = 5)\n",
    "df.to_csv(\"../data/train.csv\", index=False)\n",
    "df_te.to_csv(\"../data/test.csv\", index=False)\n",
    "target = 'income'\n",
    "\n",
    "x_train = df.loc[:, df.columns != target]\n",
    "y_train = df[target]\n",
    "\n",
    "x_test = df_te.loc[:, df_te.columns != target]\n",
    "y_test = df_te[target]"
   ]
  },
  {
   "cell_type": "code",
   "execution_count": null,
   "metadata": {},
   "outputs": [],
   "source": [
    "\n"
   ]
  },
  {
   "cell_type": "markdown",
   "metadata": {},
   "source": [
    "## Create Supervised Synthesizers"
   ]
  },
  {
   "cell_type": "code",
   "execution_count": 24,
   "metadata": {},
   "outputs": [],
   "source": [
    "params_range = {\n",
    "            'method': \"CTGAN\",\n",
    "            'epochs':  1000,\n",
    "            'batch_size':  hp.randint('batch_size',1, 5), # multiple of 100\n",
    "            'g_dim1':  hp.randint('g_dim1',1, 3), # multiple of 128\n",
    "            'g_dim2':  hp.randint('g_dim2',1, 3), # multiple of 128\n",
    "            'g_dim3':  hp.randint('g_dim3',0, 3), # multiple of 128\n",
    "            'd_dim1':  hp.randint('d_dim1',1, 3), # multiple of 128\n",
    "            'd_dim2':  hp.randint('d_dim2',1, 3), # multiple of 128\n",
    "            'd_dim3':  hp.randint('d_dim3',0, 3), # multiple of 128\n",
    "           } \n",
    "\n",
    "def fit_synth(df, params):\n",
    "    metadata = SingleTableMetadata()\n",
    "    metadata.detect_from_dataframe(data=df)\n",
    "    method = params['method']\n",
    "    print(method, method == \"CTGAN\")\n",
    "    if method == \"GaussianCopula\":\n",
    "        synth = GaussianCopulaSynthesizer(metadata=metadata)\n",
    "    elif method == \"CTGAN\" or method ==\"CopulaGAN\":\n",
    "        epoch = params['epochs']\n",
    "        batch_size = params['batch_size']*100\n",
    "        if params[\"g_dim3\"] != 0:\n",
    "            generator_dim = (128*params['g_dim1'], 128*params['g_dim2'], 128*params['g_dim3'])\n",
    "        else:\n",
    "            generator_dim = (128*params['g_dim1'], 128*params['g_dim2'])\n",
    "        if params[\"d_dim3\"] != 0:\n",
    "            discriminator_dim = (128*params['d_dim1'], 128*params['d_dim2'], 128*params['d_dim3'])\n",
    "        else:\n",
    "            discriminator_dim = (128*params['d_dim1'], 128*params['d_dim2'])\n",
    "        discriminator_lr = params['d_lr']\n",
    "        generator_lr = params['g_lr']\n",
    "        if method == \"CTGAN\":\n",
    "            synth = CTGANSynthesizer(metadata=metadata, epochs=epoch, batch_size=batch_size, generator_dim=generator_dim, \n",
    "                                     discriminator_dim=discriminator_dim, generator_lr=generator_lr, \n",
    "                                     discriminator_lr=discriminator_lr)\n",
    "        if method == \"CopulaGAN\":\n",
    "            synth = CopulaGANSynthesizer(metadata=metadata, epochs=epoch, batch_size=batch_size, generator_dim=generator_dim,\n",
    "                                         discriminator_dim=discriminator_dim, generator_lr=generator_lr,\n",
    "                                         discriminator_lr=discriminator_lr)\n",
    "    elif method == \"TVAE\":\n",
    "        epoch = params['epochs']\n",
    "        batch_size = params['batch_size']*100\n",
    "        if params[\"c_dim3\"] != 0:\n",
    "            compress_dims = (64*params['c_dim1'], 64*params['c_dim2'], 64*params['c_dim3'])\n",
    "        else:\n",
    "            compress_dims = (64*params['c_dim1'], 64*params['c_dim2'])\n",
    "        if params[\"d_dim3\"] != 0:\n",
    "            decompress_dims = (64*params['d_dim1'], 64*params['d_dim2'], 64*params['d_dim3'])\n",
    "        else:\n",
    "            decompress_dims = (64*params['d_dim1'], 64*params['d_dim2'])\n",
    "        synth = TVAESynthesizer(metadata=metadata, epochs=epoch, batch_size=batch_size, compress_dims=compress_dims, \n",
    "                                 decompress_dims=decompress_dims)\n",
    "    else:\n",
    "        raise ValueError(\"Invalid model name: \" + method)\n",
    "    return synth\n",
    "\n",
    "def downstream_loss(sampled, df_te, target, classifier):\n",
    "    x_samp = sampled.loc[:, sampled.columns != target]\n",
    "    y_samp = sampled[target]\n",
    "    x_test = df_te.loc[:, sampled.columns != target]\n",
    "    y_test = df_te[target]\n",
    "    if classifier == \"XGB\":\n",
    "        for column in x_samp.columns:\n",
    "            if x_samp[column].dtype == 'object':\n",
    "                x_samp[column] = x_train[column].astype('category')\n",
    "                x_test[column] = x_test[column].astype('category')\n",
    "        dtrain = xgb.DMatrix(data=x_samp, label=y_samp, enable_categorical=True)\n",
    "        dtest = xgb.DMatrix(data=x_test, label=y_test, enable_categorical=True)\n",
    "\n",
    "        clf = xgb.train(params_xgb, dtrain, verbose_eval=False)\n",
    "        clf_probs = clf.predict(dtest)\n",
    "        clf_auc = roc_auc_score(y_test.values.astype(float), clf_probs)\n",
    "        return clf_auc\n",
    "    else:\n",
    "        raise ValueError(\"Invalid classifier: \" + classifier)\n",
    "        \n",
    "    \n",
    "    "
   ]
  },
  {
   "cell_type": "code",
   "execution_count": 25,
   "metadata": {},
   "outputs": [],
   "source": [
    "params_range = {\n",
    "    'N_sim': 10000,\n",
    "    'target': 'income',\n",
    "    'loss': 'ROCAUC',\n",
    "    'method': 'CTGAN',\n",
    "    'epochs':  1000,\n",
    "    'batch_size':  hp.randint('batch_size',1, 5), # multiple of 100\n",
    "    'g_dim1':  hp.randint('g_dim1',1, 3), # multiple of 128\n",
    "    'g_dim2':  hp.randint('g_dim2',1, 3), # multiple of 128\n",
    "    'g_dim3':  hp.randint('g_dim3',0, 3), # multiple of 128\n",
    "    'd_dim1':  hp.randint('d_dim1',1, 3), # multiple of 128\n",
    "    'd_dim2':  hp.randint('d_dim2',1, 3), # multiple of 128\n",
    "    'd_dim3':  hp.randint('d_dim3',0, 3), # multiple of 128\n",
    "    'd_lr': 2e-4, \"g_lr\": 2e-4\n",
    "} \n"
   ]
  },
  {
   "cell_type": "code",
   "execution_count": 26,
   "metadata": {},
   "outputs": [
    {
     "name": "stdout",
     "output_type": "stream",
     "text": [
      "CTGAN                                                 \n",
      "True                                                  \n",
      "  0%|          | 0/10 [00:00<?, ?trial/s, best loss=?]"
     ]
    },
    {
     "name": "stderr",
     "output_type": "stream",
     "text": [
      "/opt/homebrew/anaconda3/lib/python3.10/site-packages/rdt/transformers/base.py:132: FutureWarning: Future versions of RDT will not support the 'model_missing_values' parameter. Please switch to using the 'missing_value_generation' parameter to select your strategy.\n",
      "  warnings.warn(\n",
      "\n",
      "job exception: Cannot interpret 'CategoricalDtype(categories=['?', 'Federal-gov', 'Local-gov', 'Never-worked', 'Private',\n",
      "                  'Self-emp-inc', 'Self-emp-not-inc', 'State-gov',\n",
      "                  'Without-pay'],\n",
      ", ordered=False)' as a data type\n",
      "\n"
     ]
    },
    {
     "name": "stdout",
     "output_type": "stream",
     "text": [
      "  0%|          | 0/10 [00:00<?, ?trial/s, best loss=?]\n"
     ]
    },
    {
     "ename": "TypeError",
     "evalue": "Cannot interpret 'CategoricalDtype(categories=['?', 'Federal-gov', 'Local-gov', 'Never-worked', 'Private',\n                  'Self-emp-inc', 'Self-emp-not-inc', 'State-gov',\n                  'Without-pay'],\n, ordered=False)' as a data type",
     "output_type": "error",
     "traceback": [
      "\u001b[0;31m---------------------------------------------------------------------------\u001b[0m",
      "\u001b[0;31mTypeError\u001b[0m                                 Traceback (most recent call last)",
      "Cell \u001b[0;32mIn[26], line 41\u001b[0m\n\u001b[1;32m     38\u001b[0m     \u001b[39mprint\u001b[39m(\u001b[39m'\u001b[39m\u001b[39mIt takes \u001b[39m\u001b[39m%s\u001b[39;00m\u001b[39m minutes\u001b[39m\u001b[39m'\u001b[39m \u001b[39m%\u001b[39m ((time\u001b[39m.\u001b[39mtime() \u001b[39m-\u001b[39m start)\u001b[39m/\u001b[39m\u001b[39m60\u001b[39m))\n\u001b[1;32m     39\u001b[0m     \u001b[39mreturn\u001b[39;00m best_train_roc, best_test_roc, best_params, best_X_synthetic, best_y_synthetic, clf_best_param\n\u001b[0;32m---> 41\u001b[0m best_train_roc, best_test_roc, best_params, best_X_synthetic, best_y_synthetic, clf_best_param \u001b[39m=\u001b[39m trainDT(\u001b[39m10\u001b[39;49m)\n",
      "Cell \u001b[0;32mIn[26], line 31\u001b[0m, in \u001b[0;36mtrainDT\u001b[0;34m(max_evals)\u001b[0m\n\u001b[1;32m     29\u001b[0m trials \u001b[39m=\u001b[39m Trials()\n\u001b[1;32m     30\u001b[0m start \u001b[39m=\u001b[39m time\u001b[39m.\u001b[39mtime()\n\u001b[0;32m---> 31\u001b[0m clf_best_param \u001b[39m=\u001b[39m fmin(fn\u001b[39m=\u001b[39;49mobjective_maximize,\n\u001b[1;32m     32\u001b[0m                 space\u001b[39m=\u001b[39;49mparams_range,\n\u001b[1;32m     33\u001b[0m                 max_evals\u001b[39m=\u001b[39;49mmax_evals,\n\u001b[1;32m     34\u001b[0m                \u001b[39m# rstate=np.random.default_rng(42),\u001b[39;49;00m\n\u001b[1;32m     35\u001b[0m                 algo\u001b[39m=\u001b[39;49mtpe\u001b[39m.\u001b[39;49msuggest,\n\u001b[1;32m     36\u001b[0m                 trials\u001b[39m=\u001b[39;49mtrials)\n\u001b[1;32m     37\u001b[0m \u001b[39mprint\u001b[39m(clf_best_param)\n\u001b[1;32m     38\u001b[0m \u001b[39mprint\u001b[39m(\u001b[39m'\u001b[39m\u001b[39mIt takes \u001b[39m\u001b[39m%s\u001b[39;00m\u001b[39m minutes\u001b[39m\u001b[39m'\u001b[39m \u001b[39m%\u001b[39m ((time\u001b[39m.\u001b[39mtime() \u001b[39m-\u001b[39m start)\u001b[39m/\u001b[39m\u001b[39m60\u001b[39m))\n",
      "File \u001b[0;32m/opt/homebrew/anaconda3/lib/python3.10/site-packages/hyperopt/fmin.py:540\u001b[0m, in \u001b[0;36mfmin\u001b[0;34m(fn, space, algo, max_evals, timeout, loss_threshold, trials, rstate, allow_trials_fmin, pass_expr_memo_ctrl, catch_eval_exceptions, verbose, return_argmin, points_to_evaluate, max_queue_len, show_progressbar, early_stop_fn, trials_save_file)\u001b[0m\n\u001b[1;32m    537\u001b[0m     fn \u001b[39m=\u001b[39m __objective_fmin_wrapper(fn)\n\u001b[1;32m    539\u001b[0m \u001b[39mif\u001b[39;00m allow_trials_fmin \u001b[39mand\u001b[39;00m \u001b[39mhasattr\u001b[39m(trials, \u001b[39m\"\u001b[39m\u001b[39mfmin\u001b[39m\u001b[39m\"\u001b[39m):\n\u001b[0;32m--> 540\u001b[0m     \u001b[39mreturn\u001b[39;00m trials\u001b[39m.\u001b[39;49mfmin(\n\u001b[1;32m    541\u001b[0m         fn,\n\u001b[1;32m    542\u001b[0m         space,\n\u001b[1;32m    543\u001b[0m         algo\u001b[39m=\u001b[39;49malgo,\n\u001b[1;32m    544\u001b[0m         max_evals\u001b[39m=\u001b[39;49mmax_evals,\n\u001b[1;32m    545\u001b[0m         timeout\u001b[39m=\u001b[39;49mtimeout,\n\u001b[1;32m    546\u001b[0m         loss_threshold\u001b[39m=\u001b[39;49mloss_threshold,\n\u001b[1;32m    547\u001b[0m         max_queue_len\u001b[39m=\u001b[39;49mmax_queue_len,\n\u001b[1;32m    548\u001b[0m         rstate\u001b[39m=\u001b[39;49mrstate,\n\u001b[1;32m    549\u001b[0m         pass_expr_memo_ctrl\u001b[39m=\u001b[39;49mpass_expr_memo_ctrl,\n\u001b[1;32m    550\u001b[0m         verbose\u001b[39m=\u001b[39;49mverbose,\n\u001b[1;32m    551\u001b[0m         catch_eval_exceptions\u001b[39m=\u001b[39;49mcatch_eval_exceptions,\n\u001b[1;32m    552\u001b[0m         return_argmin\u001b[39m=\u001b[39;49mreturn_argmin,\n\u001b[1;32m    553\u001b[0m         show_progressbar\u001b[39m=\u001b[39;49mshow_progressbar,\n\u001b[1;32m    554\u001b[0m         early_stop_fn\u001b[39m=\u001b[39;49mearly_stop_fn,\n\u001b[1;32m    555\u001b[0m         trials_save_file\u001b[39m=\u001b[39;49mtrials_save_file,\n\u001b[1;32m    556\u001b[0m     )\n\u001b[1;32m    558\u001b[0m \u001b[39mif\u001b[39;00m trials \u001b[39mis\u001b[39;00m \u001b[39mNone\u001b[39;00m:\n\u001b[1;32m    559\u001b[0m     \u001b[39mif\u001b[39;00m os\u001b[39m.\u001b[39mpath\u001b[39m.\u001b[39mexists(trials_save_file):\n",
      "File \u001b[0;32m/opt/homebrew/anaconda3/lib/python3.10/site-packages/hyperopt/base.py:671\u001b[0m, in \u001b[0;36mTrials.fmin\u001b[0;34m(self, fn, space, algo, max_evals, timeout, loss_threshold, max_queue_len, rstate, verbose, pass_expr_memo_ctrl, catch_eval_exceptions, return_argmin, show_progressbar, early_stop_fn, trials_save_file)\u001b[0m\n\u001b[1;32m    666\u001b[0m \u001b[39m# -- Stop-gap implementation!\u001b[39;00m\n\u001b[1;32m    667\u001b[0m \u001b[39m#    fmin should have been a Trials method in the first place\u001b[39;00m\n\u001b[1;32m    668\u001b[0m \u001b[39m#    but for now it's still sitting in another file.\u001b[39;00m\n\u001b[1;32m    669\u001b[0m \u001b[39mfrom\u001b[39;00m \u001b[39m.\u001b[39;00m\u001b[39mfmin\u001b[39;00m \u001b[39mimport\u001b[39;00m fmin\n\u001b[0;32m--> 671\u001b[0m \u001b[39mreturn\u001b[39;00m fmin(\n\u001b[1;32m    672\u001b[0m     fn,\n\u001b[1;32m    673\u001b[0m     space,\n\u001b[1;32m    674\u001b[0m     algo\u001b[39m=\u001b[39;49malgo,\n\u001b[1;32m    675\u001b[0m     max_evals\u001b[39m=\u001b[39;49mmax_evals,\n\u001b[1;32m    676\u001b[0m     timeout\u001b[39m=\u001b[39;49mtimeout,\n\u001b[1;32m    677\u001b[0m     loss_threshold\u001b[39m=\u001b[39;49mloss_threshold,\n\u001b[1;32m    678\u001b[0m     trials\u001b[39m=\u001b[39;49m\u001b[39mself\u001b[39;49m,\n\u001b[1;32m    679\u001b[0m     rstate\u001b[39m=\u001b[39;49mrstate,\n\u001b[1;32m    680\u001b[0m     verbose\u001b[39m=\u001b[39;49mverbose,\n\u001b[1;32m    681\u001b[0m     max_queue_len\u001b[39m=\u001b[39;49mmax_queue_len,\n\u001b[1;32m    682\u001b[0m     allow_trials_fmin\u001b[39m=\u001b[39;49m\u001b[39mFalse\u001b[39;49;00m,  \u001b[39m# -- prevent recursion\u001b[39;49;00m\n\u001b[1;32m    683\u001b[0m     pass_expr_memo_ctrl\u001b[39m=\u001b[39;49mpass_expr_memo_ctrl,\n\u001b[1;32m    684\u001b[0m     catch_eval_exceptions\u001b[39m=\u001b[39;49mcatch_eval_exceptions,\n\u001b[1;32m    685\u001b[0m     return_argmin\u001b[39m=\u001b[39;49mreturn_argmin,\n\u001b[1;32m    686\u001b[0m     show_progressbar\u001b[39m=\u001b[39;49mshow_progressbar,\n\u001b[1;32m    687\u001b[0m     early_stop_fn\u001b[39m=\u001b[39;49mearly_stop_fn,\n\u001b[1;32m    688\u001b[0m     trials_save_file\u001b[39m=\u001b[39;49mtrials_save_file,\n\u001b[1;32m    689\u001b[0m )\n",
      "File \u001b[0;32m/opt/homebrew/anaconda3/lib/python3.10/site-packages/hyperopt/fmin.py:586\u001b[0m, in \u001b[0;36mfmin\u001b[0;34m(fn, space, algo, max_evals, timeout, loss_threshold, trials, rstate, allow_trials_fmin, pass_expr_memo_ctrl, catch_eval_exceptions, verbose, return_argmin, points_to_evaluate, max_queue_len, show_progressbar, early_stop_fn, trials_save_file)\u001b[0m\n\u001b[1;32m    583\u001b[0m rval\u001b[39m.\u001b[39mcatch_eval_exceptions \u001b[39m=\u001b[39m catch_eval_exceptions\n\u001b[1;32m    585\u001b[0m \u001b[39m# next line is where the fmin is actually executed\u001b[39;00m\n\u001b[0;32m--> 586\u001b[0m rval\u001b[39m.\u001b[39;49mexhaust()\n\u001b[1;32m    588\u001b[0m \u001b[39mif\u001b[39;00m return_argmin:\n\u001b[1;32m    589\u001b[0m     \u001b[39mif\u001b[39;00m \u001b[39mlen\u001b[39m(trials\u001b[39m.\u001b[39mtrials) \u001b[39m==\u001b[39m \u001b[39m0\u001b[39m:\n",
      "File \u001b[0;32m/opt/homebrew/anaconda3/lib/python3.10/site-packages/hyperopt/fmin.py:364\u001b[0m, in \u001b[0;36mFMinIter.exhaust\u001b[0;34m(self)\u001b[0m\n\u001b[1;32m    362\u001b[0m \u001b[39mdef\u001b[39;00m \u001b[39mexhaust\u001b[39m(\u001b[39mself\u001b[39m):\n\u001b[1;32m    363\u001b[0m     n_done \u001b[39m=\u001b[39m \u001b[39mlen\u001b[39m(\u001b[39mself\u001b[39m\u001b[39m.\u001b[39mtrials)\n\u001b[0;32m--> 364\u001b[0m     \u001b[39mself\u001b[39;49m\u001b[39m.\u001b[39;49mrun(\u001b[39mself\u001b[39;49m\u001b[39m.\u001b[39;49mmax_evals \u001b[39m-\u001b[39;49m n_done, block_until_done\u001b[39m=\u001b[39;49m\u001b[39mself\u001b[39;49m\u001b[39m.\u001b[39;49masynchronous)\n\u001b[1;32m    365\u001b[0m     \u001b[39mself\u001b[39m\u001b[39m.\u001b[39mtrials\u001b[39m.\u001b[39mrefresh()\n\u001b[1;32m    366\u001b[0m     \u001b[39mreturn\u001b[39;00m \u001b[39mself\u001b[39m\n",
      "File \u001b[0;32m/opt/homebrew/anaconda3/lib/python3.10/site-packages/hyperopt/fmin.py:300\u001b[0m, in \u001b[0;36mFMinIter.run\u001b[0;34m(self, N, block_until_done)\u001b[0m\n\u001b[1;32m    297\u001b[0m     time\u001b[39m.\u001b[39msleep(\u001b[39mself\u001b[39m\u001b[39m.\u001b[39mpoll_interval_secs)\n\u001b[1;32m    298\u001b[0m \u001b[39melse\u001b[39;00m:\n\u001b[1;32m    299\u001b[0m     \u001b[39m# -- loop over trials and do the jobs directly\u001b[39;00m\n\u001b[0;32m--> 300\u001b[0m     \u001b[39mself\u001b[39;49m\u001b[39m.\u001b[39;49mserial_evaluate()\n\u001b[1;32m    302\u001b[0m \u001b[39mself\u001b[39m\u001b[39m.\u001b[39mtrials\u001b[39m.\u001b[39mrefresh()\n\u001b[1;32m    303\u001b[0m \u001b[39mif\u001b[39;00m \u001b[39mself\u001b[39m\u001b[39m.\u001b[39mtrials_save_file \u001b[39m!=\u001b[39m \u001b[39m\"\u001b[39m\u001b[39m\"\u001b[39m:\n",
      "File \u001b[0;32m/opt/homebrew/anaconda3/lib/python3.10/site-packages/hyperopt/fmin.py:178\u001b[0m, in \u001b[0;36mFMinIter.serial_evaluate\u001b[0;34m(self, N)\u001b[0m\n\u001b[1;32m    176\u001b[0m ctrl \u001b[39m=\u001b[39m base\u001b[39m.\u001b[39mCtrl(\u001b[39mself\u001b[39m\u001b[39m.\u001b[39mtrials, current_trial\u001b[39m=\u001b[39mtrial)\n\u001b[1;32m    177\u001b[0m \u001b[39mtry\u001b[39;00m:\n\u001b[0;32m--> 178\u001b[0m     result \u001b[39m=\u001b[39m \u001b[39mself\u001b[39;49m\u001b[39m.\u001b[39;49mdomain\u001b[39m.\u001b[39;49mevaluate(spec, ctrl)\n\u001b[1;32m    179\u001b[0m \u001b[39mexcept\u001b[39;00m \u001b[39mException\u001b[39;00m \u001b[39mas\u001b[39;00m e:\n\u001b[1;32m    180\u001b[0m     logger\u001b[39m.\u001b[39merror(\u001b[39m\"\u001b[39m\u001b[39mjob exception: \u001b[39m\u001b[39m%s\u001b[39;00m\u001b[39m\"\u001b[39m \u001b[39m%\u001b[39m \u001b[39mstr\u001b[39m(e))\n",
      "File \u001b[0;32m/opt/homebrew/anaconda3/lib/python3.10/site-packages/hyperopt/base.py:892\u001b[0m, in \u001b[0;36mDomain.evaluate\u001b[0;34m(self, config, ctrl, attach_attachments)\u001b[0m\n\u001b[1;32m    883\u001b[0m \u001b[39melse\u001b[39;00m:\n\u001b[1;32m    884\u001b[0m     \u001b[39m# -- the \"work\" of evaluating `config` can be written\u001b[39;00m\n\u001b[1;32m    885\u001b[0m     \u001b[39m#    either into the pyll part (self.expr)\u001b[39;00m\n\u001b[1;32m    886\u001b[0m     \u001b[39m#    or the normal Python part (self.fn)\u001b[39;00m\n\u001b[1;32m    887\u001b[0m     pyll_rval \u001b[39m=\u001b[39m pyll\u001b[39m.\u001b[39mrec_eval(\n\u001b[1;32m    888\u001b[0m         \u001b[39mself\u001b[39m\u001b[39m.\u001b[39mexpr,\n\u001b[1;32m    889\u001b[0m         memo\u001b[39m=\u001b[39mmemo,\n\u001b[1;32m    890\u001b[0m         print_node_on_error\u001b[39m=\u001b[39m\u001b[39mself\u001b[39m\u001b[39m.\u001b[39mrec_eval_print_node_on_error,\n\u001b[1;32m    891\u001b[0m     )\n\u001b[0;32m--> 892\u001b[0m     rval \u001b[39m=\u001b[39m \u001b[39mself\u001b[39;49m\u001b[39m.\u001b[39;49mfn(pyll_rval)\n\u001b[1;32m    894\u001b[0m \u001b[39mif\u001b[39;00m \u001b[39misinstance\u001b[39m(rval, (\u001b[39mfloat\u001b[39m, \u001b[39mint\u001b[39m, np\u001b[39m.\u001b[39mnumber)):\n\u001b[1;32m    895\u001b[0m     dict_rval \u001b[39m=\u001b[39m {\u001b[39m\"\u001b[39m\u001b[39mloss\u001b[39m\u001b[39m\"\u001b[39m: \u001b[39mfloat\u001b[39m(rval), \u001b[39m\"\u001b[39m\u001b[39mstatus\u001b[39m\u001b[39m\"\u001b[39m: STATUS_OK}\n",
      "Cell \u001b[0;32mIn[26], line 6\u001b[0m, in \u001b[0;36mobjective_maximize\u001b[0;34m(params)\u001b[0m\n\u001b[1;32m      3\u001b[0m \u001b[39mglobal\u001b[39;00m best_synth\n\u001b[1;32m      5\u001b[0m synth \u001b[39m=\u001b[39m fit_synth(df, params)\n\u001b[0;32m----> 6\u001b[0m synth\u001b[39m.\u001b[39;49mfit(df)\n\u001b[1;32m      7\u001b[0m N_sim \u001b[39m=\u001b[39m params[\u001b[39m\"\u001b[39m\u001b[39mN_sim\u001b[39m\u001b[39m\"\u001b[39m]\n\u001b[1;32m      8\u001b[0m sampled \u001b[39m=\u001b[39m synth\u001b[39m.\u001b[39msample(num_rows \u001b[39m=\u001b[39m N_sim)\n",
      "File \u001b[0;32m/opt/homebrew/anaconda3/lib/python3.10/site-packages/sdv/single_table/base.py:487\u001b[0m, in \u001b[0;36mBaseSynthesizer.fit\u001b[0;34m(self, data)\u001b[0m\n\u001b[1;32m    485\u001b[0m \u001b[39mself\u001b[39m\u001b[39m.\u001b[39m_random_state_set \u001b[39m=\u001b[39m \u001b[39mFalse\u001b[39;00m\n\u001b[1;32m    486\u001b[0m processed_data \u001b[39m=\u001b[39m \u001b[39mself\u001b[39m\u001b[39m.\u001b[39m_preprocess(data)\n\u001b[0;32m--> 487\u001b[0m \u001b[39mself\u001b[39;49m\u001b[39m.\u001b[39;49mfit_processed_data(processed_data)\n",
      "File \u001b[0;32m/opt/homebrew/anaconda3/lib/python3.10/site-packages/sdv/single_table/base.py:471\u001b[0m, in \u001b[0;36mBaseSynthesizer.fit_processed_data\u001b[0;34m(self, processed_data)\u001b[0m\n\u001b[1;32m    464\u001b[0m \u001b[39mdef\u001b[39;00m \u001b[39mfit_processed_data\u001b[39m(\u001b[39mself\u001b[39m, processed_data):\n\u001b[1;32m    465\u001b[0m     \u001b[39m\"\"\"Fit this model to the transformed data.\u001b[39;00m\n\u001b[1;32m    466\u001b[0m \n\u001b[1;32m    467\u001b[0m \u001b[39m    Args:\u001b[39;00m\n\u001b[1;32m    468\u001b[0m \u001b[39m        processed_data (pandas.DataFrame):\u001b[39;00m\n\u001b[1;32m    469\u001b[0m \u001b[39m            The transformed data used to fit the model to.\u001b[39;00m\n\u001b[1;32m    470\u001b[0m \u001b[39m    \"\"\"\u001b[39;00m\n\u001b[0;32m--> 471\u001b[0m     \u001b[39mself\u001b[39;49m\u001b[39m.\u001b[39;49m_fit(processed_data)\n\u001b[1;32m    472\u001b[0m     \u001b[39mself\u001b[39m\u001b[39m.\u001b[39m_fitted \u001b[39m=\u001b[39m \u001b[39mTrue\u001b[39;00m\n\u001b[1;32m    473\u001b[0m     \u001b[39mself\u001b[39m\u001b[39m.\u001b[39m_fitted_date \u001b[39m=\u001b[39m datetime\u001b[39m.\u001b[39mdatetime\u001b[39m.\u001b[39mtoday()\u001b[39m.\u001b[39mstrftime(\u001b[39m'\u001b[39m\u001b[39m%\u001b[39m\u001b[39mY-\u001b[39m\u001b[39m%\u001b[39m\u001b[39mm-\u001b[39m\u001b[39m%d\u001b[39;00m\u001b[39m'\u001b[39m)\n",
      "File \u001b[0;32m/opt/homebrew/anaconda3/lib/python3.10/site-packages/sdv/single_table/ctgan.py:117\u001b[0m, in \u001b[0;36mCTGANSynthesizer._fit\u001b[0;34m(self, processed_data)\u001b[0m\n\u001b[1;32m    115\u001b[0m discrete_columns \u001b[39m=\u001b[39m detect_discrete_columns(\u001b[39mself\u001b[39m\u001b[39m.\u001b[39mget_metadata(), processed_data)\n\u001b[1;32m    116\u001b[0m \u001b[39mself\u001b[39m\u001b[39m.\u001b[39m_model \u001b[39m=\u001b[39m CTGAN(\u001b[39m*\u001b[39m\u001b[39m*\u001b[39m\u001b[39mself\u001b[39m\u001b[39m.\u001b[39m_model_kwargs)\n\u001b[0;32m--> 117\u001b[0m \u001b[39mself\u001b[39;49m\u001b[39m.\u001b[39;49m_model\u001b[39m.\u001b[39;49mfit(processed_data, discrete_columns\u001b[39m=\u001b[39;49mdiscrete_columns)\n",
      "File \u001b[0;32m/opt/homebrew/anaconda3/lib/python3.10/site-packages/ctgan/synthesizers/base.py:50\u001b[0m, in \u001b[0;36mrandom_state.<locals>.wrapper\u001b[0;34m(self, *args, **kwargs)\u001b[0m\n\u001b[1;32m     48\u001b[0m \u001b[39mdef\u001b[39;00m \u001b[39mwrapper\u001b[39m(\u001b[39mself\u001b[39m, \u001b[39m*\u001b[39margs, \u001b[39m*\u001b[39m\u001b[39m*\u001b[39mkwargs):\n\u001b[1;32m     49\u001b[0m     \u001b[39mif\u001b[39;00m \u001b[39mself\u001b[39m\u001b[39m.\u001b[39mrandom_states \u001b[39mis\u001b[39;00m \u001b[39mNone\u001b[39;00m:\n\u001b[0;32m---> 50\u001b[0m         \u001b[39mreturn\u001b[39;00m function(\u001b[39mself\u001b[39;49m, \u001b[39m*\u001b[39;49margs, \u001b[39m*\u001b[39;49m\u001b[39m*\u001b[39;49mkwargs)\n\u001b[1;32m     52\u001b[0m     \u001b[39melse\u001b[39;00m:\n\u001b[1;32m     53\u001b[0m         \u001b[39mwith\u001b[39;00m set_random_states(\u001b[39mself\u001b[39m\u001b[39m.\u001b[39mrandom_states, \u001b[39mself\u001b[39m\u001b[39m.\u001b[39mset_random_state):\n",
      "File \u001b[0;32m/opt/homebrew/anaconda3/lib/python3.10/site-packages/ctgan/synthesizers/ctgan.py:302\u001b[0m, in \u001b[0;36mCTGAN.fit\u001b[0;34m(self, train_data, discrete_columns, epochs)\u001b[0m\n\u001b[1;32m    295\u001b[0m     warnings\u001b[39m.\u001b[39mwarn(\n\u001b[1;32m    296\u001b[0m         (\u001b[39m'\u001b[39m\u001b[39m`epochs` argument in `fit` method has been deprecated and will be removed \u001b[39m\u001b[39m'\u001b[39m\n\u001b[1;32m    297\u001b[0m          \u001b[39m'\u001b[39m\u001b[39min a future version. Please pass `epochs` to the constructor instead\u001b[39m\u001b[39m'\u001b[39m),\n\u001b[1;32m    298\u001b[0m         \u001b[39mDeprecationWarning\u001b[39;00m\n\u001b[1;32m    299\u001b[0m     )\n\u001b[1;32m    301\u001b[0m \u001b[39mself\u001b[39m\u001b[39m.\u001b[39m_transformer \u001b[39m=\u001b[39m DataTransformer()\n\u001b[0;32m--> 302\u001b[0m \u001b[39mself\u001b[39;49m\u001b[39m.\u001b[39;49m_transformer\u001b[39m.\u001b[39;49mfit(train_data, discrete_columns)\n\u001b[1;32m    304\u001b[0m train_data \u001b[39m=\u001b[39m \u001b[39mself\u001b[39m\u001b[39m.\u001b[39m_transformer\u001b[39m.\u001b[39mtransform(train_data)\n\u001b[1;32m    306\u001b[0m \u001b[39mself\u001b[39m\u001b[39m.\u001b[39m_data_sampler \u001b[39m=\u001b[39m DataSampler(\n\u001b[1;32m    307\u001b[0m     train_data,\n\u001b[1;32m    308\u001b[0m     \u001b[39mself\u001b[39m\u001b[39m.\u001b[39m_transformer\u001b[39m.\u001b[39moutput_info_list,\n\u001b[1;32m    309\u001b[0m     \u001b[39mself\u001b[39m\u001b[39m.\u001b[39m_log_frequency)\n",
      "File \u001b[0;32m/opt/homebrew/anaconda3/lib/python3.10/site-packages/ctgan/data_transformer.py:102\u001b[0m, in \u001b[0;36mDataTransformer.fit\u001b[0;34m(self, raw_data, discrete_columns)\u001b[0m\n\u001b[1;32m    100\u001b[0m \u001b[39mfor\u001b[39;00m column_name \u001b[39min\u001b[39;00m raw_data\u001b[39m.\u001b[39mcolumns:\n\u001b[1;32m    101\u001b[0m     \u001b[39mif\u001b[39;00m column_name \u001b[39min\u001b[39;00m discrete_columns:\n\u001b[0;32m--> 102\u001b[0m         column_transform_info \u001b[39m=\u001b[39m \u001b[39mself\u001b[39;49m\u001b[39m.\u001b[39;49m_fit_discrete(raw_data[[column_name]])\n\u001b[1;32m    103\u001b[0m     \u001b[39melse\u001b[39;00m:\n\u001b[1;32m    104\u001b[0m         column_transform_info \u001b[39m=\u001b[39m \u001b[39mself\u001b[39m\u001b[39m.\u001b[39m_fit_continuous(raw_data[[column_name]])\n",
      "File \u001b[0;32m/opt/homebrew/anaconda3/lib/python3.10/site-packages/ctgan/data_transformer.py:71\u001b[0m, in \u001b[0;36mDataTransformer._fit_discrete\u001b[0;34m(self, data)\u001b[0m\n\u001b[1;32m     69\u001b[0m column_name \u001b[39m=\u001b[39m data\u001b[39m.\u001b[39mcolumns[\u001b[39m0\u001b[39m]\n\u001b[1;32m     70\u001b[0m ohe \u001b[39m=\u001b[39m OneHotEncoder()\n\u001b[0;32m---> 71\u001b[0m ohe\u001b[39m.\u001b[39;49mfit(data, column_name)\n\u001b[1;32m     72\u001b[0m num_categories \u001b[39m=\u001b[39m \u001b[39mlen\u001b[39m(ohe\u001b[39m.\u001b[39mdummies)\n\u001b[1;32m     74\u001b[0m \u001b[39mreturn\u001b[39;00m ColumnTransformInfo(\n\u001b[1;32m     75\u001b[0m     column_name\u001b[39m=\u001b[39mcolumn_name, column_type\u001b[39m=\u001b[39m\u001b[39m'\u001b[39m\u001b[39mdiscrete\u001b[39m\u001b[39m'\u001b[39m, transform\u001b[39m=\u001b[39mohe,\n\u001b[1;32m     76\u001b[0m     output_info\u001b[39m=\u001b[39m[SpanInfo(num_categories, \u001b[39m'\u001b[39m\u001b[39msoftmax\u001b[39m\u001b[39m'\u001b[39m)],\n\u001b[1;32m     77\u001b[0m     output_dimensions\u001b[39m=\u001b[39mnum_categories)\n",
      "File \u001b[0;32m/opt/homebrew/anaconda3/lib/python3.10/site-packages/rdt/transformers/base.py:55\u001b[0m, in \u001b[0;36mrandom_state.<locals>.wrapper\u001b[0;34m(self, *args, **kwargs)\u001b[0m\n\u001b[1;32m     53\u001b[0m method_name \u001b[39m=\u001b[39m function\u001b[39m.\u001b[39m\u001b[39m__name__\u001b[39m\n\u001b[1;32m     54\u001b[0m \u001b[39mwith\u001b[39;00m set_random_states(\u001b[39mself\u001b[39m\u001b[39m.\u001b[39mrandom_states, method_name, \u001b[39mself\u001b[39m\u001b[39m.\u001b[39mset_random_state):\n\u001b[0;32m---> 55\u001b[0m     \u001b[39mreturn\u001b[39;00m function(\u001b[39mself\u001b[39;49m, \u001b[39m*\u001b[39;49margs, \u001b[39m*\u001b[39;49m\u001b[39m*\u001b[39;49mkwargs)\n",
      "File \u001b[0;32m/opt/homebrew/anaconda3/lib/python3.10/site-packages/rdt/transformers/base.py:386\u001b[0m, in \u001b[0;36mBaseTransformer.fit\u001b[0;34m(self, data, column)\u001b[0m\n\u001b[1;32m    384\u001b[0m \u001b[39mself\u001b[39m\u001b[39m.\u001b[39m_set_seed(data)\n\u001b[1;32m    385\u001b[0m columns_data \u001b[39m=\u001b[39m \u001b[39mself\u001b[39m\u001b[39m.\u001b[39m_get_columns_data(data, \u001b[39mself\u001b[39m\u001b[39m.\u001b[39mcolumns)\n\u001b[0;32m--> 386\u001b[0m \u001b[39mself\u001b[39;49m\u001b[39m.\u001b[39;49m_fit(columns_data)\n\u001b[1;32m    387\u001b[0m \u001b[39mself\u001b[39m\u001b[39m.\u001b[39m_build_output_columns(data)\n",
      "File \u001b[0;32m/opt/homebrew/anaconda3/lib/python3.10/site-packages/rdt/transformers/categorical.py:334\u001b[0m, in \u001b[0;36mOneHotEncoder._fit\u001b[0;34m(self, data)\u001b[0m\n\u001b[1;32m    331\u001b[0m \u001b[39mself\u001b[39m\u001b[39m.\u001b[39m_indexer \u001b[39m=\u001b[39m \u001b[39mlist\u001b[39m(\u001b[39mrange\u001b[39m(\u001b[39mself\u001b[39m\u001b[39m.\u001b[39m_num_dummies))\n\u001b[1;32m    332\u001b[0m \u001b[39mself\u001b[39m\u001b[39m.\u001b[39mdummies \u001b[39m=\u001b[39m \u001b[39mself\u001b[39m\u001b[39m.\u001b[39m_uniques\u001b[39m.\u001b[39mcopy()\n\u001b[0;32m--> 334\u001b[0m \u001b[39mif\u001b[39;00m \u001b[39mnot\u001b[39;00m np\u001b[39m.\u001b[39;49missubdtype(data\u001b[39m.\u001b[39;49mdtype, np\u001b[39m.\u001b[39;49mnumber):\n\u001b[1;32m    335\u001b[0m     \u001b[39mself\u001b[39m\u001b[39m.\u001b[39m_dummy_encoded \u001b[39m=\u001b[39m \u001b[39mTrue\u001b[39;00m\n\u001b[1;32m    337\u001b[0m \u001b[39mif\u001b[39;00m \u001b[39mself\u001b[39m\u001b[39m.\u001b[39m_dummy_na:\n",
      "File \u001b[0;32m/opt/homebrew/anaconda3/lib/python3.10/site-packages/numpy/core/numerictypes.py:416\u001b[0m, in \u001b[0;36missubdtype\u001b[0;34m(arg1, arg2)\u001b[0m\n\u001b[1;32m    358\u001b[0m \u001b[39mr\u001b[39m\u001b[39m\"\"\"\u001b[39;00m\n\u001b[1;32m    359\u001b[0m \u001b[39mReturns True if first argument is a typecode lower/equal in type hierarchy.\u001b[39;00m\n\u001b[1;32m    360\u001b[0m \n\u001b[0;32m   (...)\u001b[0m\n\u001b[1;32m    413\u001b[0m \n\u001b[1;32m    414\u001b[0m \u001b[39m\"\"\"\u001b[39;00m\n\u001b[1;32m    415\u001b[0m \u001b[39mif\u001b[39;00m \u001b[39mnot\u001b[39;00m issubclass_(arg1, generic):\n\u001b[0;32m--> 416\u001b[0m     arg1 \u001b[39m=\u001b[39m dtype(arg1)\u001b[39m.\u001b[39mtype\n\u001b[1;32m    417\u001b[0m \u001b[39mif\u001b[39;00m \u001b[39mnot\u001b[39;00m issubclass_(arg2, generic):\n\u001b[1;32m    418\u001b[0m     arg2 \u001b[39m=\u001b[39m dtype(arg2)\u001b[39m.\u001b[39mtype\n",
      "\u001b[0;31mTypeError\u001b[0m: Cannot interpret 'CategoricalDtype(categories=['?', 'Federal-gov', 'Local-gov', 'Never-worked', 'Private',\n                  'Self-emp-inc', 'Self-emp-not-inc', 'State-gov',\n                  'Without-pay'],\n, ordered=False)' as a data type"
     ]
    }
   ],
   "source": [
    "def objective_maximize(params):\n",
    "    global best_test_roc \n",
    "    global best_synth\n",
    "    \n",
    "    synth = fit_synth(df, params)\n",
    "    synth.fit(df)\n",
    "    N_sim = params[\"N_sim\"]\n",
    "    sampled = synth.sample(num_rows = N_sim)\n",
    "    clf_auc = downstream_loss(sampled, df_te, target, classifier = \"XGB\")\n",
    "\n",
    "    if clf_auc > best_test_roc:\n",
    "        best_test_roc = clf_auc\n",
    "        best_synth = sampled\n",
    "    print(params['test_roc'])\n",
    "    \n",
    "    return {\n",
    "        'loss' : 1 - clf_auc,\n",
    "        'status' : STATUS_OK,\n",
    "        'eval_time ': time.time(),\n",
    "        'test_roc' : clf_auc,\n",
    "        }\n",
    "\n",
    "\n",
    "def trainDT(max_evals:int):\n",
    "    global best_test_roc\n",
    "    global best_synth\n",
    "    \n",
    "    best_test_roc = 0\n",
    "    trials = Trials()\n",
    "    start = time.time()\n",
    "    clf_best_param = fmin(fn=objective_maximize,\n",
    "                    space=params_range,\n",
    "                    max_evals=max_evals,\n",
    "                   # rstate=np.random.default_rng(42),\n",
    "                    algo=tpe.suggest,\n",
    "                    trials=trials)\n",
    "    print(clf_best_param)\n",
    "    print('It takes %s minutes' % ((time.time() - start)/60))\n",
    "    return best_train_roc, best_test_roc, best_params, best_X_synthetic, best_y_synthetic, clf_best_param\n",
    "\n",
    "best_train_roc, best_test_roc, best_params, best_X_synthetic, best_y_synthetic, clf_best_param = trainDT(10)"
   ]
  },
  {
   "cell_type": "code",
   "execution_count": null,
   "metadata": {},
   "outputs": [],
   "source": []
  }
 ],
 "metadata": {
  "kernelspec": {
   "display_name": "base",
   "language": "python",
   "name": "python3"
  },
  "language_info": {
   "codemirror_mode": {
    "name": "ipython",
    "version": 3
   },
   "file_extension": ".py",
   "mimetype": "text/x-python",
   "name": "python",
   "nbconvert_exporter": "python",
   "pygments_lexer": "ipython3",
   "version": "3.10.9"
  },
  "orig_nbformat": 4
 },
 "nbformat": 4,
 "nbformat_minor": 2
}
