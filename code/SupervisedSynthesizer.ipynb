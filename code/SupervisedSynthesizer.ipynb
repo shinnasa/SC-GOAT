{
 "cells": [
  {
   "cell_type": "code",
   "execution_count": 4,
   "metadata": {},
   "outputs": [],
   "source": [
    "import pandas as pd\n",
    "import numpy as np\n",
    "import sdv\n",
    "from hyperopt import hp, fmin, tpe, STATUS_OK, Trials\n",
    "import os\n",
    "from sklearn.model_selection import KFold, train_test_split\n",
    "from sklearn.metrics import roc_curve, roc_auc_score"
   ]
  },
  {
   "cell_type": "markdown",
   "metadata": {},
   "source": [
    "## Load data\n",
    "Load data and create train test split from the smaller dataset that contains 10% of the full data"
   ]
  },
  {
   "cell_type": "code",
   "execution_count": 5,
   "metadata": {},
   "outputs": [],
   "source": [
    "df = pd.read_csv(\"../data/adult.csv\")\n",
    "df, df_te = train_test_split(df, test_size = 0.1,  random_state = 5)\n",
    "# df_te = df.copy()\n",
    "df_te.to_csv(\"../data/small_adult.csv\", index=False)"
   ]
  },
  {
   "cell_type": "code",
   "execution_count": 6,
   "metadata": {},
   "outputs": [],
   "source": [
    "df = pd.read_csv(\"../data/small_adult.csv\")\n",
    "df, df_te = train_test_split(df, test_size = 0.2,  random_state = 5)\n",
    "df.to_csv(\"../data/train.csv\", index=False)\n",
    "df_te.to_csv(\"../data/test.csv\", index=False)"
   ]
  },
  {
   "cell_type": "markdown",
   "metadata": {},
   "source": [
    "## Create Supervised Synthesizers"
   ]
  },
  {
   "cell_type": "code",
   "execution_count": 13,
   "metadata": {},
   "outputs": [],
   "source": [
    "params_range = {\n",
    "            'method': \"CTGAN\",\n",
    "            'epochs':  1000,\n",
    "            'batch_size':  hp.randint('batch_size',1, 5), # multiple of 100\n",
    "            'g_dim1':  hp.randint('g_dim1',1, 3), # multiple of 128\n",
    "            'g_dim2':  hp.randint('g_dim2',1, 3), # multiple of 128\n",
    "            'g_dim3':  hp.randint('g_dim3',0, 3), # multiple of 128\n",
    "            'd_dim1':  hp.randint('d_dim1',1, 3), # multiple of 128\n",
    "            'd_dim2':  hp.randint('d_dim2',1, 3), # multiple of 128\n",
    "            'd_dim3':  hp.randint('d_dim3',0, 3), # multiple of 128\n",
    "           } \n",
    "\n",
    "def get_synth(method):\n",
    "    if method == \"GaussianCopula\":\n",
    "        return sdv.single_table.GaussianCopulaSynthesizer\n",
    "    if method == \"CTGAN\":\n",
    "        return sdv.single_table.CTGANSynthesizer\n",
    "    if method == \"TVAE\":\n",
    "        return sdv.single_table.TVAESynthesizer\n",
    "    if method == \"CopulaGAN\":\n",
    "        return sdv.single_table.CopulaGANSynthesizer\n",
    "    else:\n",
    "        raise ValueError(\"Invalid model name: \" + method)"
   ]
  },
  {
   "cell_type": "code",
   "execution_count": 15,
   "metadata": {},
   "outputs": [
    {
     "data": {
      "text/plain": [
       "sdv.single_table.ctgan.CTGANSynthesizer"
      ]
     },
     "execution_count": 15,
     "metadata": {},
     "output_type": "execute_result"
    }
   ],
   "source": [
    "model = get_synth(\"CTGAN\")\n",
    "model"
   ]
  },
  {
   "cell_type": "code",
   "execution_count": null,
   "metadata": {},
   "outputs": [],
   "source": [
    "def objective_maximize_roc_CTGAN(params):\n",
    "    global i\n",
    "    global output \n",
    "    global best_model_index \n",
    "    global best_test_roc \n",
    "    global best_train_roc\n",
    "    global best_params\n",
    "    global best_X_synthetic\n",
    "    global best_y_synthetic\n",
    "    epoch = params['epochs']\n",
    "    # epoch = 2\n",
    "    batch_size = params['batch_size']*100\n",
    "    if params[\"g_dim3\"] != 0:\n",
    "        generator_dim = (128*params['g_dim1'], 128*params['g_dim2'], 128*params['g_dim3'])\n",
    "    else:\n",
    "        generator_dim = (128*params['g_dim1'], 128*params['g_dim2'])\n",
    "    if params[\"d_dim3\"] != 0:\n",
    "        discriminator_dim = (128*params['d_dim1'], 128*params['d_dim2'], 128*params['d_dim3'])\n",
    "    else:\n",
    "        discriminator_dim = (128*params['d_dim1'], 128*params['d_dim2'])\n",
    "    target = 'salary'\n",
    "    ctgan = TabularDataGenerator(model_name=\"CTGAN\",  \n",
    "                           data_source=df, \n",
    "                           target=target, verbose=True, epochs = epoch, batch_size=batch_size, \n",
    "                           generator_dim=generator_dim, discriminator_dim=discriminator_dim)\n",
    "    ctgan.fit()\n",
    "    sampled = ctgan.sample(num_rows = N_sim)\n",
    "    x_samp = sampled.loc[:, sampled.columns != 'salary']\n",
    "    y_samp = sampled['salary']\n",
    "    X_synthetic = x_samp.copy()\n",
    "    y_synthetic = y_samp.copy()\n",
    "    cat_col = [\"wkclass\", \"connection\", \"matrimony\", \"job\", \"race\", \"sex\", \"origin\"]\n",
    "    x_samp = MultiColumnLabelEncoder(columns = cat_col).fit_transform(x_samp)\n",
    "    print(df_te.shape)\n",
    "    x_test = df_te.loc[:, df_te.columns != 'salary']\n",
    "    y_test = df_te['salary']\n",
    "    x_test = MultiColumnLabelEncoder(columns = cat_col).fit_transform(x_test)\n",
    "\n",
    "    #train Decision Tree Classiifer\n",
    "    clf = DecisionTreeClassifier()\n",
    "    clf.fit(x_samp.to_numpy(), y_samp.to_numpy().astype(int))\n",
    "    clf_probs = clf.predict_proba(x_test)\n",
    "    clf_probs = clf_probs[:, 1]\n",
    "        \n",
    "    clf_auc = roc_auc_score(y_test, clf_probs)\n",
    "    #Predict for Test Dataset\n",
    "    \n",
    "    # y_pred = clf.predict(x_test)\n",
    "    # accuracy = accuracy_score(y_test, y_pred)\n",
    "    \n",
    "    clf_probs_train = clf.predict_proba(x_samp)\n",
    "    clf_probs_train = clf_probs_train[:, 1]\n",
    "        \n",
    "    clf_auc_train = roc_auc_score(y_samp, clf_probs_train)\n",
    "    params['train_roc']        = clf_auc_train\n",
    "    i+=1\n",
    "    params['test_roc']        = clf_auc\n",
    "    output = output.append(params,ignore_index=True)\n",
    "    if params['test_roc'] > best_test_roc:\n",
    "        best_model_index = i\n",
    "        best_test_roc = params['test_roc']\n",
    "        best_params = [epoch, batch_size, discriminator_dim, generator_dim]\n",
    "        best_X_synthetic = X_synthetic\n",
    "        best_y_synthetic = y_synthetic\n",
    "    print(params['test_roc'])\n",
    "    print(best_params)\n",
    "    if params['train_roc'] > best_train_roc:\n",
    "         best_train_roc = params['train_roc']\n",
    "    \n",
    "    return {\n",
    "        'loss' : 1 - clf_auc,\n",
    "        'status' : STATUS_OK,\n",
    "        'eval_time ': time.time(),\n",
    "        'test_roc' : clf_auc,\n",
    "        }\n",
    "\n",
    "\n",
    "def trainDT_CTGAN(max_evals:int):\n",
    "    global output \n",
    "    output = pd.DataFrame()\n",
    "    global i\n",
    "    global best_model_index \n",
    "    global best_test_roc\n",
    "    global best_train_roc \n",
    "    global best_params\n",
    "    global best_X_synthetic\n",
    "    global best_y_synthetic\n",
    "    i = 0\n",
    "    best_model_index = 0\n",
    "    best_test_roc = 0\n",
    "    best_train_roc = 0\n",
    "    best_params = []\n",
    "    trials = Trials()\n",
    "    start = time.time()\n",
    "    clf_best_param = fmin(fn=objective_maximize_roc_CTGAN,\n",
    "                    space=params_range,\n",
    "                    max_evals=max_evals,\n",
    "                   # rstate=np.random.default_rng(42),\n",
    "                    algo=tpe.suggest,\n",
    "                    trials=trials)\n",
    "    print(clf_best_param)\n",
    "    print('It takes %s minutes' % ((time.time() - start)/60))\n",
    "    return best_train_roc, best_test_roc, best_params, best_X_synthetic, best_y_synthetic, clf_best_param\n",
    "\n",
    "best_train_roc, best_test_roc, best_params, best_X_synthetic, best_y_synthetic, clf_best_param = trainDT_CTGAN(10)"
   ]
  }
 ],
 "metadata": {
  "kernelspec": {
   "display_name": "base",
   "language": "python",
   "name": "python3"
  },
  "language_info": {
   "codemirror_mode": {
    "name": "ipython",
    "version": 3
   },
   "file_extension": ".py",
   "mimetype": "text/x-python",
   "name": "python",
   "nbconvert_exporter": "python",
   "pygments_lexer": "ipython3",
   "version": "3.10.9"
  },
  "orig_nbformat": 4
 },
 "nbformat": 4,
 "nbformat_minor": 2
}
