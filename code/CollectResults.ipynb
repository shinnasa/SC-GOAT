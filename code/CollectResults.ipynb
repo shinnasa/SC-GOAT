{
 "cells": [
  {
   "cell_type": "markdown",
   "metadata": {},
   "source": [
    "# Load Packages"
   ]
  },
  {
   "cell_type": "code",
   "execution_count": null,
   "metadata": {},
   "outputs": [],
   "source": [
    "# %%\n",
    "import pandas as pd\n",
    "import numpy as np\n",
    "# import matplotlib.pyplot as plt\n",
    "import warnings\n",
    "\n",
    "warnings.filterwarnings('ignore')"
   ]
  },
  {
   "cell_type": "markdown",
   "metadata": {},
   "source": [
    "# Utilities"
   ]
  },
  {
   "cell_type": "code",
   "execution_count": null,
   "metadata": {},
   "outputs": [],
   "source": [
    "def constructPrefix(data_set_name:str, balanced:bool, encode:bool):\n",
    "    prefix = ''\n",
    "    if data_set_name == 'credit_card':\n",
    "        if balanced:\n",
    "            prefix = 'balanced_'\n",
    "        else:\n",
    "            prefix = 'unbalanced_'\n",
    "\n",
    "    if encode:\n",
    "        prefix =  \"encoded_\" + prefix \n",
    "        \n",
    "    return prefix"
   ]
  },
  {
   "cell_type": "code",
   "execution_count": null,
   "metadata": {},
   "outputs": [],
   "source": [
    "def constructFilePath(directory_name:str, file_name:str, data_set_name:str, balanced:bool, encode:bool, tuned:bool):\n",
    "    prefix = constructPrefix(data_set_name, balanced, encode)\n",
    "    tuned_str = 'untuned'\n",
    "    if tuned:\n",
    "        tuned_str = 'tuned'\n",
    "\n",
    "    file_path = directory_name + '/' + prefix + data_set_name + '_' + tuned_str + '_' + file_name + '.csv'\n",
    "    if file_name == 'baseline_real_data_auc_score':\n",
    "        file_path = directory_name + '/' + prefix + data_set_name + \"_\" + file_name + '.csv'\n",
    "    return file_path"
   ]
  },
  {
   "cell_type": "code",
   "execution_count": null,
   "metadata": {},
   "outputs": [],
   "source": [
    "df_all_results_best_params = pd.DataFrame({'data_set_full_name' : [], 'train_roc' : [], 'val_roc' : [], 'test_roc' : [], 'total_time_GaussianCopula' : [],\n",
    "                                         'total_time_CTGAN' : [], 'total_time_CopulaGAN' : [],  'total_time_TVAE' : [],\n",
    "                                        'total_time_BO' : [] })"
   ]
  },
  {
   "cell_type": "code",
   "execution_count": null,
   "metadata": {},
   "outputs": [],
   "source": [
    "df_all_results_individual_models_performance = pd.DataFrame()"
   ]
  },
  {
   "cell_type": "code",
   "execution_count": null,
   "metadata": {},
   "outputs": [],
   "source": [
    "df_all_results_baseline_real_data_performance = pd.DataFrame({'data_set_full_name' : [], 'train_roc' : [], 'val_roc' : [], 'test_roc' : []})"
   ]
  },
  {
   "cell_type": "code",
   "execution_count": null,
   "metadata": {},
   "outputs": [],
   "source": [
    "file_name_clf_best_params = 'models_clf_best_param_xgboost'\n",
    "file_name_alpha_params_sitory = 'models_params_alpha_history'\n",
    "file_name_individual_clf_auc = 'models_clf_auc_score_and_time_per_each_individual_model'\n",
    "directory_name_output = '../data/output'\n",
    "directory_name_history = '../data/history'\n",
    "\n",
    "print('file_name_clf_best_params: ', file_name_clf_best_params)\n",
    "print('file_name_alpha_params_sitory: ', file_name_alpha_params_sitory)\n",
    "print('file_name_individual_clf_auc: ', file_name_individual_clf_auc)\n",
    "print('directory_name_output: ', directory_name_output)\n",
    "print('directory_name_history: ', directory_name_history)"
   ]
  },
  {
   "cell_type": "markdown",
   "metadata": {},
   "source": [
    "# Adult Data Set Untuned without Target Encoder"
   ]
  },
  {
   "cell_type": "code",
   "execution_count": null,
   "metadata": {},
   "outputs": [],
   "source": [
    "data_set_name = 'adult'\n",
    "target = 'income'\n",
    "encode = False\n",
    "balanced = False\n",
    "tuned = False\n",
    "prefix = constructPrefix(data_set_name, balanced, encode)\n",
    "data_set_full_name = prefix + data_set_name\n",
    "directory_name_data = \"../data/\" + data_set_name\n",
    "\n",
    "print('data_set_name: ', data_set_name)\n",
    "print('target: ', target)\n",
    "print('encode: ', encode)\n",
    "print('balanced: ', balanced)\n",
    "print('prefix: ', prefix)\n",
    "print('data_set_full_name: ', data_set_full_name)\n",
    "print('directory_name_data: ', directory_name_data)"
   ]
  },
  {
   "cell_type": "markdown",
   "metadata": {},
   "source": [
    "### Load Best Params"
   ]
  },
  {
   "cell_type": "code",
   "execution_count": null,
   "metadata": {},
   "outputs": [],
   "source": [
    "file_path_clf_best_params = constructFilePath(directory_name_output, file_name_clf_best_params, data_set_name, balanced, encode, tuned)\n",
    "print('file_path_clf_best_params: ', file_path_clf_best_params)"
   ]
  },
  {
   "cell_type": "code",
   "execution_count": null,
   "metadata": {},
   "outputs": [],
   "source": [
    "df_clf_best_params = pd.read_csv(file_path_clf_best_params)\n",
    "df_clf_best_params['data_set_full_name'] = data_set_full_name\n",
    "df_clf_best_params"
   ]
  },
  {
   "cell_type": "code",
   "execution_count": null,
   "metadata": {},
   "outputs": [],
   "source": [
    "df_all_results_best_params = df_all_results_best_params._append(df_clf_best_params, ignore_index = True)\n",
    "df_all_results_best_params"
   ]
  },
  {
   "cell_type": "markdown",
   "metadata": {},
   "source": [
    "### Individual Models Performance"
   ]
  },
  {
   "cell_type": "code",
   "execution_count": null,
   "metadata": {},
   "outputs": [],
   "source": [
    "file_path_individual_clf_auc = constructFilePath(directory_name_output, file_name_individual_clf_auc, data_set_name, balanced, encode, tuned)\n",
    "print('file_path_individual_clf_auc: ', file_path_individual_clf_auc)"
   ]
  },
  {
   "cell_type": "code",
   "execution_count": null,
   "metadata": {},
   "outputs": [],
   "source": [
    "individual_clf_auc_df = pd.read_csv(file_path_individual_clf_auc)\n",
    "individual_clf_auc_df['data_set_full_name'] = data_set_full_name\n",
    "individual_clf_auc_df"
   ]
  },
  {
   "cell_type": "code",
   "execution_count": null,
   "metadata": {},
   "outputs": [],
   "source": [
    "df_all_results_individual_models_performance = df_all_results_individual_models_performance._append(individual_clf_auc_df, ignore_index = True)\n",
    "df_all_results_individual_models_performance"
   ]
  },
  {
   "cell_type": "markdown",
   "metadata": {},
   "source": [
    "### LoadH istory"
   ]
  },
  {
   "cell_type": "code",
   "execution_count": null,
   "metadata": {},
   "outputs": [],
   "source": [
    "file_path_alpha_params_history = constructFilePath(directory_name_history, file_name_alpha_params_sitory, data_set_name, balanced, encode, tuned)\n",
    "print('file_path_alpha_params_history: ', file_path_alpha_params_history)"
   ]
  },
  {
   "cell_type": "code",
   "execution_count": null,
   "metadata": {},
   "outputs": [],
   "source": [
    "df_alpha_params_history = pd.read_csv(file_path_alpha_params_history)\n",
    "df_alpha_params_history['data_set_full_name'] = data_set_full_name\n",
    "df_alpha_params_history"
   ]
  },
  {
   "cell_type": "code",
   "execution_count": null,
   "metadata": {},
   "outputs": [],
   "source": [
    "df_plot = pd.DataFrame({'train_roc' : [], 'val_roc' : []})\n",
    "df_plot.train_roc = df_alpha_params_history.train_roc\n",
    "df_plot.val_roc = df_alpha_params_history.val_roc\n",
    "df_plot"
   ]
  },
  {
   "cell_type": "code",
   "execution_count": null,
   "metadata": {},
   "outputs": [],
   "source": [
    "# df_plot.plot()\n",
    "# plt.xlabel('epoch')\n",
    "# plt.ylabel('roc')\n",
    "# plt.show()"
   ]
  },
  {
   "cell_type": "markdown",
   "metadata": {},
   "source": [
    "### Baseline Model Performance (XGBoost only real data)"
   ]
  },
  {
   "cell_type": "code",
   "execution_count": null,
   "metadata": {},
   "outputs": [],
   "source": [
    "file_name_clf_auc_df_real_data_only = 'baseline_real_data_auc_score'\n",
    "file_path_clf_auc_df_real_data_only = constructFilePath(directory_name_output, file_name_clf_auc_df_real_data_only, data_set_name, balanced, encode, tuned)\n",
    "print('file_path_clf_auc_df_real_data_only: ', file_path_clf_auc_df_real_data_only)"
   ]
  },
  {
   "cell_type": "code",
   "execution_count": null,
   "metadata": {},
   "outputs": [],
   "source": [
    "df_clf_auc_df_real_data_only = pd.read_csv(file_path_clf_auc_df_real_data_only)\n",
    "df_clf_auc_df_real_data_only['data_set_full_name'] = data_set_full_name\n",
    "df_clf_auc_df_real_data_only"
   ]
  },
  {
   "cell_type": "code",
   "execution_count": null,
   "metadata": {},
   "outputs": [],
   "source": [
    "df_all_results_baseline_real_data_performance = df_all_results_baseline_real_data_performance._append(df_clf_auc_df_real_data_only, ignore_index = True)\n",
    "df_all_results_baseline_real_data_performance"
   ]
  },
  {
   "cell_type": "markdown",
   "metadata": {},
   "source": [
    "# Adult Data Set Untuned with Target Encoder"
   ]
  },
  {
   "cell_type": "code",
   "execution_count": null,
   "metadata": {},
   "outputs": [],
   "source": [
    "data_set_name = 'adult'\n",
    "target = 'income'\n",
    "encode = True\n",
    "balanced = False\n",
    "tuned = False\n",
    "prefix = constructPrefix(data_set_name, balanced, encode)\n",
    "data_set_full_name = prefix + data_set_name\n",
    "directory_name_data = \"../data/\" + data_set_name\n",
    "\n",
    "print('data_set_name: ', data_set_name)\n",
    "print('target: ', target)\n",
    "print('encode: ', encode)\n",
    "print('balanced: ', balanced)\n",
    "print('prefix: ', prefix)\n",
    "print('data_set_full_name: ', data_set_full_name)\n",
    "print('directory_name_data: ', directory_name_data)"
   ]
  },
  {
   "cell_type": "markdown",
   "metadata": {},
   "source": [
    "### Load Best Params"
   ]
  },
  {
   "cell_type": "code",
   "execution_count": null,
   "metadata": {},
   "outputs": [],
   "source": [
    "file_path_clf_best_params = constructFilePath(directory_name_output, file_name_clf_best_params, data_set_name, balanced, encode, tuned)\n",
    "print('file_path_clf_best_params: ', file_path_clf_best_params)"
   ]
  },
  {
   "cell_type": "code",
   "execution_count": null,
   "metadata": {},
   "outputs": [],
   "source": [
    "df_clf_best_params = pd.read_csv(file_path_clf_best_params)\n",
    "df_clf_best_params['data_set_full_name'] = data_set_full_name\n",
    "df_clf_best_params"
   ]
  },
  {
   "cell_type": "code",
   "execution_count": null,
   "metadata": {},
   "outputs": [],
   "source": [
    "df_all_results_best_params = df_all_results_best_params._append(df_clf_best_params, ignore_index = True)\n",
    "df_all_results_best_params"
   ]
  },
  {
   "cell_type": "markdown",
   "metadata": {},
   "source": [
    "### Individual Models Performance"
   ]
  },
  {
   "cell_type": "code",
   "execution_count": null,
   "metadata": {},
   "outputs": [],
   "source": [
    "file_path_individual_clf_auc = constructFilePath(directory_name_output, file_name_individual_clf_auc, data_set_name, balanced, encode, tuned)\n",
    "print('file_path_individual_clf_auc: ', file_path_individual_clf_auc)"
   ]
  },
  {
   "cell_type": "code",
   "execution_count": null,
   "metadata": {},
   "outputs": [],
   "source": [
    "individual_clf_auc_df = pd.read_csv(file_path_individual_clf_auc)\n",
    "individual_clf_auc_df['data_set_full_name'] = data_set_full_name\n",
    "individual_clf_auc_df"
   ]
  },
  {
   "cell_type": "code",
   "execution_count": null,
   "metadata": {},
   "outputs": [],
   "source": [
    "df_all_results_individual_models_performance = df_all_results_individual_models_performance._append(individual_clf_auc_df, ignore_index = True)\n",
    "df_all_results_individual_models_performance"
   ]
  },
  {
   "cell_type": "markdown",
   "metadata": {},
   "source": [
    "### Load History "
   ]
  },
  {
   "cell_type": "code",
   "execution_count": null,
   "metadata": {},
   "outputs": [],
   "source": [
    "file_path_alpha_params_history = constructFilePath(directory_name_history, file_name_alpha_params_sitory, data_set_name, balanced, encode, tuned)\n",
    "print('file_path_alpha_params_history: ', file_path_alpha_params_history)"
   ]
  },
  {
   "cell_type": "code",
   "execution_count": null,
   "metadata": {},
   "outputs": [],
   "source": [
    "df_alpha_params_history = pd.read_csv(file_path_alpha_params_history)\n",
    "df_alpha_params_history['data_set_full_name'] = data_set_full_name\n",
    "df_alpha_params_history"
   ]
  },
  {
   "cell_type": "code",
   "execution_count": null,
   "metadata": {},
   "outputs": [],
   "source": [
    "df_plot = pd.DataFrame({'train_roc' : [], 'val_roc' : []})\n",
    "df_plot.train_roc = df_alpha_params_history.train_roc\n",
    "df_plot.val_roc = df_alpha_params_history.val_roc\n",
    "df_plot"
   ]
  },
  {
   "cell_type": "code",
   "execution_count": null,
   "metadata": {},
   "outputs": [],
   "source": [
    "# df_plot.plot()\n",
    "# plt.xlabel('epoch')\n",
    "# plt.ylabel('roc')\n",
    "# plt.show()"
   ]
  },
  {
   "cell_type": "markdown",
   "metadata": {},
   "source": [
    "### Baseline Model Performance (XGBoost only real data)"
   ]
  },
  {
   "cell_type": "code",
   "execution_count": null,
   "metadata": {},
   "outputs": [],
   "source": [
    "file_name_clf_auc_df_real_data_only = 'baseline_real_data_auc_score'\n",
    "file_path_clf_auc_df_real_data_only = constructFilePath(directory_name_output, file_name_clf_auc_df_real_data_only, data_set_name, balanced, encode, tuned)\n",
    "print('file_path_clf_auc_df_real_data_only: ', file_path_clf_auc_df_real_data_only)"
   ]
  },
  {
   "cell_type": "code",
   "execution_count": null,
   "metadata": {},
   "outputs": [],
   "source": [
    "df_clf_auc_df_real_data_only = pd.read_csv(file_path_clf_auc_df_real_data_only)\n",
    "df_clf_auc_df_real_data_only['data_set_full_name'] = data_set_full_name\n",
    "df_clf_auc_df_real_data_only"
   ]
  },
  {
   "cell_type": "code",
   "execution_count": null,
   "metadata": {},
   "outputs": [],
   "source": [
    "df_all_results_baseline_real_data_performance = df_all_results_baseline_real_data_performance._append(df_clf_auc_df_real_data_only, ignore_index = True)\n",
    "df_all_results_baseline_real_data_performance"
   ]
  },
  {
   "cell_type": "markdown",
   "metadata": {},
   "source": [
    "# Unbalanced Credit Card Data Set Untuned without Target Encoder"
   ]
  },
  {
   "cell_type": "code",
   "execution_count": null,
   "metadata": {},
   "outputs": [],
   "source": [
    "data_set_name = 'credit_card'\n",
    "target = 'Class'\n",
    "encode = False\n",
    "balanced = False\n",
    "tuned = False\n",
    "prefix = constructPrefix(data_set_name, balanced, encode)\n",
    "data_set_full_name = prefix + data_set_name\n",
    "directory_name_data = \"../data/\" + data_set_name\n",
    "\n",
    "print('data_set_name: ', data_set_name)\n",
    "print('target: ', target)\n",
    "print('encode: ', encode)\n",
    "print('balanced: ', balanced)\n",
    "print('prefix: ', prefix)\n",
    "print('data_set_full_name: ', data_set_full_name)\n",
    "print('directory_name_data: ', directory_name_data)"
   ]
  },
  {
   "cell_type": "markdown",
   "metadata": {},
   "source": [
    "### Load Best Params"
   ]
  },
  {
   "cell_type": "code",
   "execution_count": null,
   "metadata": {},
   "outputs": [],
   "source": [
    "file_path_clf_best_params = constructFilePath(directory_name_output, file_name_clf_best_params, data_set_name, balanced, encode, tuned)\n",
    "print('file_path_clf_best_params: ', file_path_clf_best_params)"
   ]
  },
  {
   "cell_type": "code",
   "execution_count": null,
   "metadata": {},
   "outputs": [],
   "source": [
    "df_clf_best_params = pd.read_csv(file_path_clf_best_params)\n",
    "df_clf_best_params['data_set_full_name'] = data_set_full_name\n",
    "df_clf_best_params"
   ]
  },
  {
   "cell_type": "code",
   "execution_count": null,
   "metadata": {},
   "outputs": [],
   "source": [
    "df_all_results_best_params = df_all_results_best_params._append(df_clf_best_params, ignore_index = True)\n",
    "df_all_results_best_params"
   ]
  },
  {
   "cell_type": "markdown",
   "metadata": {},
   "source": [
    "### Individual Models Performance"
   ]
  },
  {
   "cell_type": "code",
   "execution_count": null,
   "metadata": {},
   "outputs": [],
   "source": [
    "file_path_individual_clf_auc = constructFilePath(directory_name_output, file_name_individual_clf_auc, data_set_name, balanced, encode, tuned)\n",
    "print('file_path_individual_clf_auc: ', file_path_individual_clf_auc)"
   ]
  },
  {
   "cell_type": "code",
   "execution_count": null,
   "metadata": {},
   "outputs": [],
   "source": [
    "individual_clf_auc_df = pd.read_csv(file_path_individual_clf_auc)\n",
    "individual_clf_auc_df['data_set_full_name'] = data_set_full_name\n",
    "individual_clf_auc_df"
   ]
  },
  {
   "cell_type": "code",
   "execution_count": null,
   "metadata": {},
   "outputs": [],
   "source": [
    "df_all_results_individual_models_performance = df_all_results_individual_models_performance._append(individual_clf_auc_df, ignore_index = True)\n",
    "df_all_results_individual_models_performance"
   ]
  },
  {
   "cell_type": "markdown",
   "metadata": {},
   "source": [
    "### Load History"
   ]
  },
  {
   "cell_type": "code",
   "execution_count": null,
   "metadata": {},
   "outputs": [],
   "source": [
    "file_path_alpha_params_history = constructFilePath(directory_name_history, file_name_alpha_params_sitory, data_set_name, balanced, encode, tuned)\n",
    "print('file_path_alpha_params_history: ', file_path_alpha_params_history)"
   ]
  },
  {
   "cell_type": "code",
   "execution_count": null,
   "metadata": {},
   "outputs": [],
   "source": [
    "df_alpha_params_history = pd.read_csv(file_path_alpha_params_history)\n",
    "df_alpha_params_history['data_set_full_name'] = data_set_full_name\n",
    "df_alpha_params_history"
   ]
  },
  {
   "cell_type": "code",
   "execution_count": null,
   "metadata": {},
   "outputs": [],
   "source": [
    "df_plot = pd.DataFrame({'train_roc' : [], 'val_roc' : []})\n",
    "df_plot.train_roc = df_alpha_params_history.train_roc\n",
    "df_plot.val_roc = df_alpha_params_history.val_roc\n",
    "df_plot"
   ]
  },
  {
   "cell_type": "code",
   "execution_count": null,
   "metadata": {},
   "outputs": [],
   "source": [
    "# df_plot.plot()\n",
    "# plt.xlabel('epoch')\n",
    "# plt.ylabel('roc')\n",
    "# plt.show()"
   ]
  },
  {
   "cell_type": "markdown",
   "metadata": {},
   "source": [
    "# Baseline Model Performance (XGBoost only real data)"
   ]
  },
  {
   "cell_type": "code",
   "execution_count": null,
   "metadata": {},
   "outputs": [],
   "source": [
    "file_name_clf_auc_df_real_data_only = 'baseline_real_data_auc_score'\n",
    "file_path_clf_auc_df_real_data_only = constructFilePath(directory_name_output, file_name_clf_auc_df_real_data_only, data_set_name, balanced, encode, tuned)\n",
    "print('file_path_clf_auc_df_real_data_only: ', file_path_clf_auc_df_real_data_only)"
   ]
  },
  {
   "cell_type": "code",
   "execution_count": null,
   "metadata": {},
   "outputs": [],
   "source": [
    "df_clf_auc_df_real_data_only = pd.read_csv(file_path_clf_auc_df_real_data_only)\n",
    "df_clf_auc_df_real_data_only['data_set_full_name'] = data_set_full_name\n",
    "df_clf_auc_df_real_data_only"
   ]
  },
  {
   "cell_type": "code",
   "execution_count": null,
   "metadata": {},
   "outputs": [],
   "source": [
    "df_all_results_baseline_real_data_performance = df_all_results_baseline_real_data_performance._append(df_clf_auc_df_real_data_only, ignore_index = True)\n",
    "df_all_results_baseline_real_data_performance"
   ]
  },
  {
   "cell_type": "code",
   "execution_count": null,
   "metadata": {},
   "outputs": [],
   "source": [
    "data_set_name = 'credit_card'\n",
    "target = 'Class'\n",
    "encode = True\n",
    "balanced = False\n",
    "tuned = False\n",
    "prefix = constructPrefix(data_set_name, balanced, encode)\n",
    "data_set_full_name = prefix + data_set_name\n",
    "directory_name_data = \"../data/\" + data_set_name\n",
    "\n",
    "print('data_set_name: ', data_set_name)\n",
    "print('target: ', target)\n",
    "print('encode: ', encode)\n",
    "print('balanced: ', balanced)\n",
    "print('prefix: ', prefix)\n",
    "print('data_set_full_name: ', data_set_full_name)\n",
    "print('directory_name_data: ', directory_name_data)"
   ]
  },
  {
   "cell_type": "markdown",
   "metadata": {},
   "source": [
    "### Load Best Params"
   ]
  },
  {
   "cell_type": "code",
   "execution_count": null,
   "metadata": {},
   "outputs": [],
   "source": [
    "file_path_clf_best_params = constructFilePath(directory_name_output, file_name_clf_best_params, data_set_name, balanced, encode, tuned)\n",
    "print('file_path_clf_best_params: ', file_path_clf_best_params)"
   ]
  },
  {
   "cell_type": "code",
   "execution_count": null,
   "metadata": {},
   "outputs": [],
   "source": [
    "df_clf_best_params = pd.read_csv(file_path_clf_best_params)\n",
    "df_clf_best_params['data_set_full_name'] = data_set_full_name\n",
    "df_clf_best_params"
   ]
  },
  {
   "cell_type": "code",
   "execution_count": null,
   "metadata": {},
   "outputs": [],
   "source": [
    "df_all_results_best_params = df_all_results_best_params._append(df_clf_best_params, ignore_index = True)\n",
    "df_all_results_best_params"
   ]
  },
  {
   "cell_type": "markdown",
   "metadata": {},
   "source": [
    "### Individual Models Performance"
   ]
  },
  {
   "cell_type": "code",
   "execution_count": null,
   "metadata": {},
   "outputs": [],
   "source": [
    "file_path_individual_clf_auc = constructFilePath(directory_name_output, file_name_individual_clf_auc, data_set_name, balanced, encode, tuned)\n",
    "print('file_path_individual_clf_auc: ', file_path_individual_clf_auc)"
   ]
  },
  {
   "cell_type": "code",
   "execution_count": null,
   "metadata": {},
   "outputs": [],
   "source": [
    "individual_clf_auc_df = pd.read_csv(file_path_individual_clf_auc)\n",
    "individual_clf_auc_df['data_set_full_name'] = data_set_full_name\n",
    "individual_clf_auc_df"
   ]
  },
  {
   "cell_type": "code",
   "execution_count": null,
   "metadata": {},
   "outputs": [],
   "source": [
    "df_all_results_individual_models_performance = df_all_results_individual_models_performance._append(individual_clf_auc_df, ignore_index = True)\n",
    "df_all_results_individual_models_performance"
   ]
  },
  {
   "cell_type": "markdown",
   "metadata": {},
   "source": [
    "### Load History"
   ]
  },
  {
   "cell_type": "code",
   "execution_count": null,
   "metadata": {},
   "outputs": [],
   "source": [
    "file_path_alpha_params_history = constructFilePath(directory_name_history, file_name_alpha_params_sitory, data_set_name, balanced, encode, tuned)\n",
    "print('file_path_alpha_params_history: ', file_path_alpha_params_history)"
   ]
  },
  {
   "cell_type": "code",
   "execution_count": null,
   "metadata": {},
   "outputs": [],
   "source": [
    "df_alpha_params_history = pd.read_csv(file_path_alpha_params_history)\n",
    "df_alpha_params_history['data_set_full_name'] = data_set_full_name\n",
    "df_alpha_params_history"
   ]
  },
  {
   "cell_type": "code",
   "execution_count": null,
   "metadata": {},
   "outputs": [],
   "source": [
    "df_plot = pd.DataFrame({'train_roc' : [], 'val_roc' : []})\n",
    "df_plot.train_roc = df_alpha_params_history.train_roc\n",
    "df_plot.val_roc = df_alpha_params_history.val_roc\n",
    "df_plot"
   ]
  },
  {
   "cell_type": "code",
   "execution_count": null,
   "metadata": {},
   "outputs": [],
   "source": [
    "# df_plot.plot()\n",
    "# plt.xlabel('epoch')\n",
    "# plt.ylabel('roc')\n",
    "# plt.show()"
   ]
  },
  {
   "cell_type": "markdown",
   "metadata": {},
   "source": [
    "### Baseline Model Performance (XGBoost only real data)"
   ]
  },
  {
   "cell_type": "code",
   "execution_count": null,
   "metadata": {},
   "outputs": [],
   "source": [
    "file_name_clf_auc_df_real_data_only = 'baseline_real_data_auc_score'\n",
    "file_path_clf_auc_df_real_data_only = constructFilePath(directory_name_output, file_name_clf_auc_df_real_data_only, data_set_name, balanced, encode, tuned)\n",
    "print('file_path_clf_auc_df_real_data_only: ', file_path_clf_auc_df_real_data_only)"
   ]
  },
  {
   "cell_type": "code",
   "execution_count": null,
   "metadata": {},
   "outputs": [],
   "source": [
    "df_clf_auc_df_real_data_only = pd.read_csv(file_path_clf_auc_df_real_data_only)\n",
    "df_clf_auc_df_real_data_only['data_set_full_name'] = data_set_full_name\n",
    "df_clf_auc_df_real_data_only"
   ]
  },
  {
   "cell_type": "code",
   "execution_count": null,
   "metadata": {},
   "outputs": [],
   "source": [
    "df_all_results_baseline_real_data_performance = df_all_results_baseline_real_data_performance._append(df_clf_auc_df_real_data_only, ignore_index = True)\n",
    "df_all_results_baseline_real_data_performance"
   ]
  },
  {
   "cell_type": "markdown",
   "metadata": {},
   "source": [
    "# Balanced Credit Card Data Set Untuned without Target Encoder"
   ]
  },
  {
   "cell_type": "code",
   "execution_count": null,
   "metadata": {},
   "outputs": [],
   "source": [
    "data_set_name = 'credit_card'\n",
    "target = 'Class'\n",
    "encode = False\n",
    "balanced = True\n",
    "tuned = False\n",
    "prefix = constructPrefix(data_set_name, balanced, encode)\n",
    "data_set_full_name = prefix + data_set_name\n",
    "directory_name_data = \"../data/\" + data_set_name\n",
    "\n",
    "print('data_set_name: ', data_set_name)\n",
    "print('target: ', target)\n",
    "print('encode: ', encode)\n",
    "print('balanced: ', balanced)\n",
    "print('prefix: ', prefix)\n",
    "print('data_set_full_name: ', data_set_full_name)\n",
    "print('directory_name_data: ', directory_name_data)"
   ]
  },
  {
   "cell_type": "markdown",
   "metadata": {},
   "source": [
    "### Load Best Params"
   ]
  },
  {
   "cell_type": "code",
   "execution_count": null,
   "metadata": {},
   "outputs": [],
   "source": [
    "file_path_clf_best_params = constructFilePath(directory_name_output, file_name_clf_best_params, data_set_name, balanced, encode, tuned)\n",
    "print('file_path_clf_best_params: ', file_path_clf_best_params)"
   ]
  },
  {
   "cell_type": "code",
   "execution_count": null,
   "metadata": {},
   "outputs": [],
   "source": [
    "df_clf_best_params = pd.read_csv(file_path_clf_best_params)\n",
    "df_clf_best_params['data_set_full_name'] = data_set_full_name\n",
    "df_clf_best_params"
   ]
  },
  {
   "cell_type": "code",
   "execution_count": null,
   "metadata": {},
   "outputs": [],
   "source": [
    "df_all_results_best_params = df_all_results_best_params._append(df_clf_best_params, ignore_index = True)\n",
    "df_all_results_best_params"
   ]
  },
  {
   "cell_type": "markdown",
   "metadata": {},
   "source": [
    "### Individual Models Performance"
   ]
  },
  {
   "cell_type": "code",
   "execution_count": null,
   "metadata": {},
   "outputs": [],
   "source": [
    "file_path_individual_clf_auc = constructFilePath(directory_name_output, file_name_individual_clf_auc, data_set_name, balanced, encode, tuned)\n",
    "print('file_path_individual_clf_auc: ', file_path_individual_clf_auc)"
   ]
  },
  {
   "cell_type": "code",
   "execution_count": null,
   "metadata": {},
   "outputs": [],
   "source": [
    "individual_clf_auc_df = pd.read_csv(file_path_individual_clf_auc)\n",
    "individual_clf_auc_df['data_set_full_name'] = data_set_full_name\n",
    "individual_clf_auc_df"
   ]
  },
  {
   "cell_type": "code",
   "execution_count": null,
   "metadata": {},
   "outputs": [],
   "source": [
    "df_all_results_individual_models_performance = df_all_results_individual_models_performance._append(individual_clf_auc_df, ignore_index = True)\n",
    "df_all_results_individual_models_performance"
   ]
  },
  {
   "cell_type": "markdown",
   "metadata": {},
   "source": [
    "### Load History"
   ]
  },
  {
   "cell_type": "code",
   "execution_count": null,
   "metadata": {},
   "outputs": [],
   "source": [
    "file_path_alpha_params_history = constructFilePath(directory_name_history, file_name_alpha_params_sitory, data_set_name, balanced, encode, tuned)\n",
    "print('file_path_alpha_params_history: ', file_path_alpha_params_history)"
   ]
  },
  {
   "cell_type": "code",
   "execution_count": null,
   "metadata": {},
   "outputs": [],
   "source": [
    "df_alpha_params_history = pd.read_csv(file_path_alpha_params_history)\n",
    "df_alpha_params_history['data_set_full_name'] = data_set_full_name\n",
    "df_alpha_params_history"
   ]
  },
  {
   "cell_type": "code",
   "execution_count": null,
   "metadata": {},
   "outputs": [],
   "source": [
    "df_plot = pd.DataFrame({'train_roc' : [], 'val_roc' : []})\n",
    "df_plot.train_roc = df_alpha_params_history.train_roc\n",
    "df_plot.val_roc = df_alpha_params_history.val_roc\n",
    "df_plot"
   ]
  },
  {
   "cell_type": "code",
   "execution_count": null,
   "metadata": {},
   "outputs": [],
   "source": [
    "# df_plot.plot()\n",
    "# plt.xlabel('epoch')\n",
    "# plt.ylabel('roc')\n",
    "# plt.show()"
   ]
  },
  {
   "cell_type": "markdown",
   "metadata": {},
   "source": [
    "# Baseline Model Performance (XGBoost only real data)"
   ]
  },
  {
   "cell_type": "code",
   "execution_count": null,
   "metadata": {},
   "outputs": [],
   "source": [
    "file_name_clf_auc_df_real_data_only = 'baseline_real_data_auc_score'\n",
    "file_path_clf_auc_df_real_data_only = constructFilePath(directory_name_output, file_name_clf_auc_df_real_data_only, data_set_name, balanced, encode, tuned)\n",
    "print('file_path_clf_auc_df_real_data_only: ', file_path_clf_auc_df_real_data_only)"
   ]
  },
  {
   "cell_type": "code",
   "execution_count": null,
   "metadata": {},
   "outputs": [],
   "source": [
    "df_clf_auc_df_real_data_only = pd.read_csv(file_path_clf_auc_df_real_data_only)\n",
    "df_clf_auc_df_real_data_only['data_set_full_name'] = data_set_full_name\n",
    "df_clf_auc_df_real_data_only"
   ]
  },
  {
   "cell_type": "code",
   "execution_count": null,
   "metadata": {},
   "outputs": [],
   "source": [
    "df_all_results_baseline_real_data_performance = df_all_results_baseline_real_data_performance._append(df_clf_auc_df_real_data_only, ignore_index = True)\n",
    "df_all_results_baseline_real_data_performance"
   ]
  },
  {
   "cell_type": "code",
   "execution_count": null,
   "metadata": {},
   "outputs": [],
   "source": [
    "data_set_name = 'credit_card'\n",
    "target = 'Class'\n",
    "encode = True\n",
    "balanced = True\n",
    "tuned = False\n",
    "prefix = constructPrefix(data_set_name, balanced, encode)\n",
    "data_set_full_name = prefix + data_set_name\n",
    "directory_name_data = \"../data/\" + data_set_name\n",
    "\n",
    "print('data_set_name: ', data_set_name)\n",
    "print('target: ', target)\n",
    "print('encode: ', encode)\n",
    "print('balanced: ', balanced)\n",
    "print('prefix: ', prefix)\n",
    "print('data_set_full_name: ', data_set_full_name)\n",
    "print('directory_name_data: ', directory_name_data)"
   ]
  },
  {
   "cell_type": "markdown",
   "metadata": {},
   "source": [
    "### Load Best Params"
   ]
  },
  {
   "cell_type": "code",
   "execution_count": null,
   "metadata": {},
   "outputs": [],
   "source": [
    "file_path_clf_best_params = constructFilePath(directory_name_output, file_name_clf_best_params, data_set_name, balanced, encode, tuned)\n",
    "print('file_path_clf_best_params: ', file_path_clf_best_params)"
   ]
  },
  {
   "cell_type": "code",
   "execution_count": null,
   "metadata": {},
   "outputs": [],
   "source": [
    "df_clf_best_params = pd.read_csv(file_path_clf_best_params)\n",
    "df_clf_best_params['data_set_full_name'] = data_set_full_name\n",
    "df_clf_best_params"
   ]
  },
  {
   "cell_type": "code",
   "execution_count": null,
   "metadata": {},
   "outputs": [],
   "source": [
    "df_all_results_best_params = df_all_results_best_params._append(df_clf_best_params, ignore_index = True)\n",
    "df_all_results_best_params"
   ]
  },
  {
   "cell_type": "markdown",
   "metadata": {},
   "source": [
    "### Individual Models Performance"
   ]
  },
  {
   "cell_type": "code",
   "execution_count": null,
   "metadata": {},
   "outputs": [],
   "source": [
    "file_path_individual_clf_auc = constructFilePath(directory_name_output, file_name_individual_clf_auc, data_set_name, balanced, encode, tuned)\n",
    "print('file_path_individual_clf_auc: ', file_path_individual_clf_auc)"
   ]
  },
  {
   "cell_type": "code",
   "execution_count": null,
   "metadata": {},
   "outputs": [],
   "source": [
    "individual_clf_auc_df = pd.read_csv(file_path_individual_clf_auc)\n",
    "individual_clf_auc_df['data_set_full_name'] = data_set_full_name\n",
    "individual_clf_auc_df"
   ]
  },
  {
   "cell_type": "code",
   "execution_count": null,
   "metadata": {},
   "outputs": [],
   "source": [
    "df_all_results_individual_models_performance = df_all_results_individual_models_performance._append(individual_clf_auc_df, ignore_index = True)\n",
    "df_all_results_individual_models_performance"
   ]
  },
  {
   "cell_type": "markdown",
   "metadata": {},
   "source": [
    "### Load History"
   ]
  },
  {
   "cell_type": "code",
   "execution_count": null,
   "metadata": {},
   "outputs": [],
   "source": [
    "file_path_alpha_params_history = constructFilePath(directory_name_history, file_name_alpha_params_sitory, data_set_name, balanced, encode, tuned)\n",
    "print('file_path_alpha_params_history: ', file_path_alpha_params_history)"
   ]
  },
  {
   "cell_type": "code",
   "execution_count": null,
   "metadata": {},
   "outputs": [],
   "source": [
    "df_alpha_params_history = pd.read_csv(file_path_alpha_params_history)\n",
    "df_alpha_params_history['data_set_full_name'] = data_set_full_name\n",
    "df_alpha_params_history"
   ]
  },
  {
   "cell_type": "code",
   "execution_count": null,
   "metadata": {},
   "outputs": [],
   "source": [
    "df_plot = pd.DataFrame({'train_roc' : [], 'val_roc' : []})\n",
    "df_plot.train_roc = df_alpha_params_history.train_roc\n",
    "df_plot.val_roc = df_alpha_params_history.val_roc\n",
    "df_plot"
   ]
  },
  {
   "cell_type": "code",
   "execution_count": null,
   "metadata": {},
   "outputs": [],
   "source": [
    "# df_plot.plot()\n",
    "# plt.xlabel('epoch')\n",
    "# plt.show()"
   ]
  },
  {
   "cell_type": "markdown",
   "metadata": {},
   "source": [
    "### Baseline Model Performance (XGBoost only real data)"
   ]
  },
  {
   "cell_type": "code",
   "execution_count": null,
   "metadata": {},
   "outputs": [],
   "source": [
    "file_name_clf_auc_df_real_data_only = 'baseline_real_data_auc_score'\n",
    "file_path_clf_auc_df_real_data_only = constructFilePath(directory_name_output, file_name_clf_auc_df_real_data_only, data_set_name, balanced, encode, tuned)\n",
    "print('file_path_clf_auc_df_real_data_only: ', file_path_clf_auc_df_real_data_only)"
   ]
  },
  {
   "cell_type": "code",
   "execution_count": null,
   "metadata": {},
   "outputs": [],
   "source": [
    "df_clf_auc_df_real_data_only = pd.read_csv(file_path_clf_auc_df_real_data_only)\n",
    "df_clf_auc_df_real_data_only['data_set_full_name'] = data_set_full_name\n",
    "df_clf_auc_df_real_data_only"
   ]
  },
  {
   "cell_type": "code",
   "execution_count": null,
   "metadata": {},
   "outputs": [],
   "source": [
    "df_all_results_baseline_real_data_performance = df_all_results_baseline_real_data_performance._append(df_clf_auc_df_real_data_only, ignore_index = True)\n",
    "df_all_results_baseline_real_data_performance"
   ]
  },
  {
   "cell_type": "markdown",
   "metadata": {},
   "source": [
    "# Adult Data Set Tuned without Target Encoder"
   ]
  },
  {
   "cell_type": "code",
   "execution_count": null,
   "metadata": {},
   "outputs": [],
   "source": [
    "data_set_name = 'adult'\n",
    "target = 'income'\n",
    "encode = False\n",
    "balanced = False\n",
    "tuned = True\n",
    "prefix = constructPrefix(data_set_name, balanced, encode)\n",
    "data_set_full_name = prefix + 'tuned_' + data_set_name\n",
    "directory_name_data = \"../data/\" + data_set_name\n",
    "\n",
    "print('data_set_name: ', data_set_name)\n",
    "print('target: ', target)\n",
    "print('encode: ', encode)\n",
    "print('balanced: ', balanced)\n",
    "print('prefix: ', prefix)\n",
    "print('data_set_full_name: ', data_set_full_name)\n",
    "print('directory_name_data: ', directory_name_data)"
   ]
  },
  {
   "cell_type": "markdown",
   "metadata": {},
   "source": [
    "### Load Best Params"
   ]
  },
  {
   "cell_type": "code",
   "execution_count": null,
   "metadata": {},
   "outputs": [],
   "source": [
    "file_path_clf_best_params = constructFilePath(directory_name_output, file_name_clf_best_params, data_set_name, balanced, encode, tuned)\n",
    "print('file_path_clf_best_params: ', file_path_clf_best_params)"
   ]
  },
  {
   "cell_type": "code",
   "execution_count": null,
   "metadata": {},
   "outputs": [],
   "source": [
    "df_clf_best_params = pd.read_csv(file_path_clf_best_params)\n",
    "df_clf_best_params['data_set_full_name'] = data_set_full_name\n",
    "df_clf_best_params"
   ]
  },
  {
   "cell_type": "code",
   "execution_count": null,
   "metadata": {},
   "outputs": [],
   "source": [
    "df_all_results_best_params = df_all_results_best_params._append(df_clf_best_params, ignore_index = True)\n",
    "df_all_results_best_params"
   ]
  },
  {
   "cell_type": "markdown",
   "metadata": {},
   "source": [
    "### Individual Models Performance"
   ]
  },
  {
   "cell_type": "code",
   "execution_count": null,
   "metadata": {},
   "outputs": [],
   "source": [
    "file_path_individual_clf_auc = constructFilePath(directory_name_output, file_name_individual_clf_auc, data_set_name, balanced, encode, tuned)\n",
    "print('file_path_individual_clf_auc: ', file_path_individual_clf_auc)"
   ]
  },
  {
   "cell_type": "code",
   "execution_count": null,
   "metadata": {},
   "outputs": [],
   "source": [
    "individual_clf_auc_df = pd.read_csv(file_path_individual_clf_auc)\n",
    "individual_clf_auc_df['data_set_full_name'] = data_set_full_name\n",
    "individual_clf_auc_df"
   ]
  },
  {
   "cell_type": "code",
   "execution_count": null,
   "metadata": {},
   "outputs": [],
   "source": [
    "df_all_results_individual_models_performance = df_all_results_individual_models_performance._append(individual_clf_auc_df, ignore_index = True)\n",
    "df_all_results_individual_models_performance"
   ]
  },
  {
   "cell_type": "markdown",
   "metadata": {},
   "source": [
    "### Load History"
   ]
  },
  {
   "cell_type": "code",
   "execution_count": null,
   "metadata": {},
   "outputs": [],
   "source": [
    "file_path_alpha_params_history = constructFilePath(directory_name_history, file_name_alpha_params_sitory, data_set_name, balanced, encode, tuned)\n",
    "print('file_path_alpha_params_history: ', file_path_alpha_params_history)"
   ]
  },
  {
   "cell_type": "markdown",
   "metadata": {},
   "source": [
    "# Adult Data Set Tuned with Target Encoder"
   ]
  },
  {
   "cell_type": "code",
   "execution_count": null,
   "metadata": {},
   "outputs": [],
   "source": [
    "data_set_name = 'adult'\n",
    "target = 'income'\n",
    "encode = True\n",
    "balanced = False\n",
    "tuned = True\n",
    "prefix = constructPrefix(data_set_name, balanced, encode)\n",
    "data_set_full_name = prefix + 'tuned_' + data_set_name\n",
    "directory_name_data = \"../data/\" + data_set_name\n",
    "\n",
    "print('data_set_name: ', data_set_name)\n",
    "print('target: ', target)\n",
    "print('encode: ', encode)\n",
    "print('balanced: ', balanced)\n",
    "print('prefix: ', prefix)\n",
    "print('data_set_full_name: ', data_set_full_name)\n",
    "print('directory_name_data: ', directory_name_data)"
   ]
  },
  {
   "cell_type": "markdown",
   "metadata": {},
   "source": [
    "### Load Best Params"
   ]
  },
  {
   "cell_type": "code",
   "execution_count": null,
   "metadata": {},
   "outputs": [],
   "source": [
    "file_path_clf_best_params = constructFilePath(directory_name_output, file_name_clf_best_params, data_set_name, balanced, encode, tuned)\n",
    "print('file_path_clf_best_params: ', file_path_clf_best_params)"
   ]
  },
  {
   "cell_type": "code",
   "execution_count": null,
   "metadata": {},
   "outputs": [],
   "source": [
    "df_clf_best_params = pd.read_csv(file_path_clf_best_params)\n",
    "df_clf_best_params['data_set_full_name'] = data_set_full_name\n",
    "df_clf_best_params"
   ]
  },
  {
   "cell_type": "code",
   "execution_count": null,
   "metadata": {},
   "outputs": [],
   "source": [
    "df_all_results_best_params = df_all_results_best_params._append(df_clf_best_params, ignore_index = True)\n",
    "df_all_results_best_params"
   ]
  },
  {
   "cell_type": "markdown",
   "metadata": {},
   "source": [
    "### Individual Models Performance"
   ]
  },
  {
   "cell_type": "code",
   "execution_count": null,
   "metadata": {},
   "outputs": [],
   "source": [
    "file_path_individual_clf_auc = constructFilePath(directory_name_output, file_name_individual_clf_auc, data_set_name, balanced, encode, tuned)\n",
    "print('file_path_individual_clf_auc: ', file_path_individual_clf_auc)"
   ]
  },
  {
   "cell_type": "code",
   "execution_count": null,
   "metadata": {},
   "outputs": [],
   "source": [
    "individual_clf_auc_df = pd.read_csv(file_path_individual_clf_auc)\n",
    "individual_clf_auc_df['data_set_full_name'] = data_set_full_name\n",
    "individual_clf_auc_df"
   ]
  },
  {
   "cell_type": "code",
   "execution_count": null,
   "metadata": {},
   "outputs": [],
   "source": [
    "df_all_results_individual_models_performance = df_all_results_individual_models_performance._append(individual_clf_auc_df, ignore_index = True)\n",
    "df_all_results_individual_models_performance"
   ]
  },
  {
   "cell_type": "markdown",
   "metadata": {},
   "source": [
    "### Load History"
   ]
  },
  {
   "cell_type": "code",
   "execution_count": null,
   "metadata": {},
   "outputs": [],
   "source": [
    "file_path_alpha_params_history = constructFilePath(directory_name_history, file_name_alpha_params_sitory, data_set_name, balanced, encode, tuned)\n",
    "print('file_path_alpha_params_history: ', file_path_alpha_params_history)"
   ]
  },
  {
   "cell_type": "markdown",
   "metadata": {},
   "source": [
    "# Unbalanced Credit Card Data Set Tuned without Target Encoder"
   ]
  },
  {
   "cell_type": "code",
   "execution_count": null,
   "metadata": {},
   "outputs": [],
   "source": [
    "data_set_name = 'credit_card'\n",
    "target = 'income'\n",
    "encode = False\n",
    "balanced = False\n",
    "tuned = True\n",
    "prefix = constructPrefix(data_set_name, balanced, encode)\n",
    "data_set_full_name = prefix + 'tuned_' + data_set_name\n",
    "directory_name_data = \"../data/\" + data_set_name\n",
    "\n",
    "print('data_set_name: ', data_set_name)\n",
    "print('target: ', target)\n",
    "print('encode: ', encode)\n",
    "print('balanced: ', balanced)\n",
    "print('prefix: ', prefix)\n",
    "print('data_set_full_name: ', data_set_full_name)\n",
    "print('directory_name_data: ', directory_name_data)"
   ]
  },
  {
   "cell_type": "markdown",
   "metadata": {},
   "source": [
    "### Load Best Params"
   ]
  },
  {
   "cell_type": "code",
   "execution_count": null,
   "metadata": {},
   "outputs": [],
   "source": [
    "file_path_clf_best_params = constructFilePath(directory_name_output, file_name_clf_best_params, data_set_name, balanced, encode, tuned)\n",
    "print('file_path_clf_best_params: ', file_path_clf_best_params)"
   ]
  },
  {
   "cell_type": "code",
   "execution_count": null,
   "metadata": {},
   "outputs": [],
   "source": [
    "df_clf_best_params = pd.read_csv(file_path_clf_best_params)\n",
    "df_clf_best_params['data_set_full_name'] = data_set_full_name\n",
    "df_clf_best_params"
   ]
  },
  {
   "cell_type": "code",
   "execution_count": null,
   "metadata": {},
   "outputs": [],
   "source": [
    "df_all_results_best_params = df_all_results_best_params._append(df_clf_best_params, ignore_index = True)\n",
    "df_all_results_best_params"
   ]
  },
  {
   "cell_type": "markdown",
   "metadata": {},
   "source": [
    "### Individual Models Performance"
   ]
  },
  {
   "cell_type": "code",
   "execution_count": null,
   "metadata": {},
   "outputs": [],
   "source": [
    "file_path_individual_clf_auc = constructFilePath(directory_name_output, file_name_individual_clf_auc, data_set_name, balanced, encode, tuned)\n",
    "print('file_path_individual_clf_auc: ', file_path_individual_clf_auc)"
   ]
  },
  {
   "cell_type": "code",
   "execution_count": null,
   "metadata": {},
   "outputs": [],
   "source": [
    "individual_clf_auc_df = pd.read_csv(file_path_individual_clf_auc)\n",
    "individual_clf_auc_df['data_set_full_name'] = data_set_full_name\n",
    "individual_clf_auc_df"
   ]
  },
  {
   "cell_type": "code",
   "execution_count": null,
   "metadata": {},
   "outputs": [],
   "source": [
    "df_all_results_individual_models_performance = df_all_results_individual_models_performance._append(individual_clf_auc_df, ignore_index = True)\n",
    "df_all_results_individual_models_performance"
   ]
  },
  {
   "cell_type": "markdown",
   "metadata": {},
   "source": [
    "### Load History"
   ]
  },
  {
   "cell_type": "markdown",
   "metadata": {},
   "source": [
    "# Balanced Credit Card Data Set Tuned without Target Encoder"
   ]
  },
  {
   "cell_type": "code",
   "execution_count": null,
   "metadata": {},
   "outputs": [],
   "source": [
    "data_set_name = 'credit_card'\n",
    "target = 'income'\n",
    "encode = False\n",
    "balanced = True\n",
    "tuned = True\n",
    "prefix = constructPrefix(data_set_name, balanced, encode)\n",
    "data_set_full_name = prefix + 'tuned_' + data_set_name\n",
    "directory_name_data = \"../data/\" + data_set_name\n",
    "\n",
    "print('data_set_name: ', data_set_name)\n",
    "print('target: ', target)\n",
    "print('encode: ', encode)\n",
    "print('balanced: ', balanced)\n",
    "print('prefix: ', prefix)\n",
    "print('data_set_full_name: ', data_set_full_name)\n",
    "print('directory_name_data: ', directory_name_data)"
   ]
  },
  {
   "cell_type": "markdown",
   "metadata": {},
   "source": [
    "### Laod Best Params"
   ]
  },
  {
   "cell_type": "code",
   "execution_count": null,
   "metadata": {},
   "outputs": [],
   "source": [
    "file_path_clf_best_params = constructFilePath(directory_name_output, file_name_clf_best_params, data_set_name, balanced, encode, tuned)\n",
    "print('file_path_clf_best_params: ', file_path_clf_best_params)"
   ]
  },
  {
   "cell_type": "code",
   "execution_count": null,
   "metadata": {},
   "outputs": [],
   "source": [
    "df_clf_best_params = pd.read_csv(file_path_clf_best_params)\n",
    "df_clf_best_params['data_set_full_name'] = data_set_full_name\n",
    "df_clf_best_params"
   ]
  },
  {
   "cell_type": "code",
   "execution_count": null,
   "metadata": {},
   "outputs": [],
   "source": [
    "df_all_results_best_params = df_all_results_best_params._append(df_clf_best_params, ignore_index = True)\n",
    "df_all_results_best_params"
   ]
  },
  {
   "cell_type": "markdown",
   "metadata": {},
   "source": [
    "### Individual Models Performance"
   ]
  },
  {
   "cell_type": "code",
   "execution_count": null,
   "metadata": {},
   "outputs": [],
   "source": [
    "file_path_individual_clf_auc = constructFilePath(directory_name_output, file_name_individual_clf_auc, data_set_name, balanced, encode, tuned)\n",
    "print('file_path_individual_clf_auc: ', file_path_individual_clf_auc)"
   ]
  },
  {
   "cell_type": "code",
   "execution_count": null,
   "metadata": {},
   "outputs": [],
   "source": [
    "individual_clf_auc_df = pd.read_csv(file_path_individual_clf_auc)\n",
    "individual_clf_auc_df['data_set_full_name'] = data_set_full_name\n",
    "individual_clf_auc_df"
   ]
  },
  {
   "cell_type": "code",
   "execution_count": null,
   "metadata": {},
   "outputs": [],
   "source": [
    "df_all_results_individual_models_performance = df_all_results_individual_models_performance._append(individual_clf_auc_df, ignore_index = True)\n",
    "df_all_results_individual_models_performance"
   ]
  },
  {
   "cell_type": "markdown",
   "metadata": {},
   "source": [
    "### Load History"
   ]
  },
  {
   "cell_type": "markdown",
   "metadata": {},
   "source": []
  },
  {
   "cell_type": "markdown",
   "metadata": {},
   "source": []
  },
  {
   "cell_type": "markdown",
   "metadata": {},
   "source": [
    "# Save All Results"
   ]
  },
  {
   "cell_type": "code",
   "execution_count": null,
   "metadata": {},
   "outputs": [],
   "source": [
    "df_all_results_best_params"
   ]
  },
  {
   "cell_type": "code",
   "execution_count": null,
   "metadata": {},
   "outputs": [],
   "source": [
    "df_all_results_best_params.to_csv('../data/df_all_results_best_params.csv')"
   ]
  },
  {
   "cell_type": "code",
   "execution_count": null,
   "metadata": {},
   "outputs": [],
   "source": [
    "df_all_results_baseline_real_data_performance"
   ]
  },
  {
   "cell_type": "code",
   "execution_count": null,
   "metadata": {},
   "outputs": [],
   "source": [
    "df_all_results_baseline_real_data_performance.to_csv('../data/df_all_results_baseline_real_data_performance.csv')"
   ]
  },
  {
   "cell_type": "code",
   "execution_count": null,
   "metadata": {},
   "outputs": [],
   "source": [
    "df_all_results_individual_models_performance"
   ]
  },
  {
   "cell_type": "code",
   "execution_count": null,
   "metadata": {},
   "outputs": [],
   "source": [
    "df_all_results_individual_models_performance.to_csv('../data/df_all_results_individual_models_performance.csv')"
   ]
  }
 ],
 "metadata": {
  "kernelspec": {
   "display_name": "Python 3",
   "language": "python",
   "name": "python3"
  },
  "language_info": {
   "codemirror_mode": {
    "name": "ipython",
    "version": 3
   },
   "file_extension": ".py",
   "mimetype": "text/x-python",
   "name": "python",
   "nbconvert_exporter": "python",
   "pygments_lexer": "ipython3",
   "version": "3.10.9"
  },
  "orig_nbformat": 4
 },
 "nbformat": 4,
 "nbformat_minor": 2
}
