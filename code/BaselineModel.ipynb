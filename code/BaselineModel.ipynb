{
 "cells": [
  {
   "cell_type": "code",
   "execution_count": 1,
   "metadata": {},
   "outputs": [],
   "source": [
    "import pandas as pd\n",
    "import numpy as np\n",
    "from hyperopt import hp, fmin, tpe, STATUS_OK, Trials\n",
    "from sklearn.model_selection import KFold, train_test_split\n",
    "from sklearn.metrics import roc_curve, roc_auc_score\n",
    "from sdv.single_table import GaussianCopulaSynthesizer\n",
    "from sdv.single_table import CTGANSynthesizer\n",
    "from sdv.single_table import TVAESynthesizer\n",
    "from sdv.single_table import CopulaGANSynthesizer\n",
    "from sdv.metadata import SingleTableMetadata\n",
    "from sklearn.tree import DecisionTreeClassifier\n",
    "import xgboost as xgb\n",
    "import time\n",
    "import utilities\n",
    "import random"
   ]
  },
  {
   "cell_type": "markdown",
   "metadata": {},
   "source": [
    "# Load data\n",
    "Load data and create train test split from the smaller dataset that contains 10% of the full data"
   ]
  },
  {
   "cell_type": "markdown",
   "metadata": {},
   "source": [
    "## Load Adult Dataset"
   ]
  },
  {
   "cell_type": "code",
   "execution_count": 2,
   "metadata": {},
   "outputs": [],
   "source": [
    "data_set_name = 'adult'\n",
    "target = 'income'\n",
    "optimization_itr = 50\n",
    "df_original = utilities.load_data(data_set_name)"
   ]
  },
  {
   "cell_type": "code",
   "execution_count": 3,
   "metadata": {},
   "outputs": [],
   "source": [
    "df = df_original.copy()"
   ]
  },
  {
   "cell_type": "code",
   "execution_count": 4,
   "metadata": {},
   "outputs": [],
   "source": [
    "df_train, df_test = train_test_split(df, test_size = 0.2,  random_state = 5)\n",
    "\n",
    "utilities.save_test_train_data(data_set_name, df_train, df_test)"
   ]
  },
  {
   "cell_type": "code",
   "execution_count": 5,
   "metadata": {},
   "outputs": [],
   "source": [
    "x_train = df_train.loc[:, df_train.columns != target]\n",
    "y_train = df_train[target]\n",
    "\n",
    "x_test = df_test.loc[:, df_test.columns != target]\n",
    "y_test = df_test[target]"
   ]
  },
  {
   "cell_type": "code",
   "execution_count": 6,
   "metadata": {},
   "outputs": [
    {
     "data": {
      "text/html": [
       "<div>\n",
       "<style scoped>\n",
       "    .dataframe tbody tr th:only-of-type {\n",
       "        vertical-align: middle;\n",
       "    }\n",
       "\n",
       "    .dataframe tbody tr th {\n",
       "        vertical-align: top;\n",
       "    }\n",
       "\n",
       "    .dataframe thead th {\n",
       "        text-align: right;\n",
       "    }\n",
       "</style>\n",
       "<table border=\"1\" class=\"dataframe\">\n",
       "  <thead>\n",
       "    <tr style=\"text-align: right;\">\n",
       "      <th></th>\n",
       "      <th>age</th>\n",
       "      <th>workclass</th>\n",
       "      <th>fnlwgt</th>\n",
       "      <th>education</th>\n",
       "      <th>educational-num</th>\n",
       "      <th>marital-status</th>\n",
       "      <th>occupation</th>\n",
       "      <th>relationship</th>\n",
       "      <th>race</th>\n",
       "      <th>gender</th>\n",
       "      <th>capital-gain</th>\n",
       "      <th>capital-loss</th>\n",
       "      <th>hours-per-week</th>\n",
       "      <th>native-country</th>\n",
       "    </tr>\n",
       "  </thead>\n",
       "  <tbody>\n",
       "    <tr>\n",
       "      <th>15253</th>\n",
       "      <td>45</td>\n",
       "      <td>Private</td>\n",
       "      <td>105779</td>\n",
       "      <td>HS-grad</td>\n",
       "      <td>9</td>\n",
       "      <td>Married-civ-spouse</td>\n",
       "      <td>Craft-repair</td>\n",
       "      <td>Husband</td>\n",
       "      <td>White</td>\n",
       "      <td>Male</td>\n",
       "      <td>0</td>\n",
       "      <td>0</td>\n",
       "      <td>30</td>\n",
       "      <td>United-States</td>\n",
       "    </tr>\n",
       "    <tr>\n",
       "      <th>46787</th>\n",
       "      <td>57</td>\n",
       "      <td>Local-gov</td>\n",
       "      <td>189824</td>\n",
       "      <td>Some-college</td>\n",
       "      <td>10</td>\n",
       "      <td>Married-civ-spouse</td>\n",
       "      <td>Handlers-cleaners</td>\n",
       "      <td>Husband</td>\n",
       "      <td>Black</td>\n",
       "      <td>Male</td>\n",
       "      <td>7298</td>\n",
       "      <td>0</td>\n",
       "      <td>40</td>\n",
       "      <td>United-States</td>\n",
       "    </tr>\n",
       "    <tr>\n",
       "      <th>16489</th>\n",
       "      <td>58</td>\n",
       "      <td>Self-emp-inc</td>\n",
       "      <td>210563</td>\n",
       "      <td>HS-grad</td>\n",
       "      <td>9</td>\n",
       "      <td>Married-civ-spouse</td>\n",
       "      <td>Sales</td>\n",
       "      <td>Wife</td>\n",
       "      <td>White</td>\n",
       "      <td>Female</td>\n",
       "      <td>15024</td>\n",
       "      <td>0</td>\n",
       "      <td>35</td>\n",
       "      <td>United-States</td>\n",
       "    </tr>\n",
       "    <tr>\n",
       "      <th>47272</th>\n",
       "      <td>34</td>\n",
       "      <td>Private</td>\n",
       "      <td>220840</td>\n",
       "      <td>5th-6th</td>\n",
       "      <td>3</td>\n",
       "      <td>Married-civ-spouse</td>\n",
       "      <td>Farming-fishing</td>\n",
       "      <td>Husband</td>\n",
       "      <td>White</td>\n",
       "      <td>Male</td>\n",
       "      <td>0</td>\n",
       "      <td>0</td>\n",
       "      <td>40</td>\n",
       "      <td>Mexico</td>\n",
       "    </tr>\n",
       "    <tr>\n",
       "      <th>32289</th>\n",
       "      <td>35</td>\n",
       "      <td>State-gov</td>\n",
       "      <td>172327</td>\n",
       "      <td>Bachelors</td>\n",
       "      <td>13</td>\n",
       "      <td>Separated</td>\n",
       "      <td>Exec-managerial</td>\n",
       "      <td>Not-in-family</td>\n",
       "      <td>White</td>\n",
       "      <td>Male</td>\n",
       "      <td>0</td>\n",
       "      <td>0</td>\n",
       "      <td>42</td>\n",
       "      <td>United-States</td>\n",
       "    </tr>\n",
       "    <tr>\n",
       "      <th>...</th>\n",
       "      <td>...</td>\n",
       "      <td>...</td>\n",
       "      <td>...</td>\n",
       "      <td>...</td>\n",
       "      <td>...</td>\n",
       "      <td>...</td>\n",
       "      <td>...</td>\n",
       "      <td>...</td>\n",
       "      <td>...</td>\n",
       "      <td>...</td>\n",
       "      <td>...</td>\n",
       "      <td>...</td>\n",
       "      <td>...</td>\n",
       "      <td>...</td>\n",
       "    </tr>\n",
       "    <tr>\n",
       "      <th>5983</th>\n",
       "      <td>25</td>\n",
       "      <td>Private</td>\n",
       "      <td>173593</td>\n",
       "      <td>Some-college</td>\n",
       "      <td>10</td>\n",
       "      <td>Never-married</td>\n",
       "      <td>Exec-managerial</td>\n",
       "      <td>Own-child</td>\n",
       "      <td>White</td>\n",
       "      <td>Male</td>\n",
       "      <td>0</td>\n",
       "      <td>0</td>\n",
       "      <td>75</td>\n",
       "      <td>United-States</td>\n",
       "    </tr>\n",
       "    <tr>\n",
       "      <th>38681</th>\n",
       "      <td>26</td>\n",
       "      <td>Private</td>\n",
       "      <td>375980</td>\n",
       "      <td>HS-grad</td>\n",
       "      <td>9</td>\n",
       "      <td>Separated</td>\n",
       "      <td>Sales</td>\n",
       "      <td>Unmarried</td>\n",
       "      <td>Black</td>\n",
       "      <td>Female</td>\n",
       "      <td>0</td>\n",
       "      <td>0</td>\n",
       "      <td>37</td>\n",
       "      <td>United-States</td>\n",
       "    </tr>\n",
       "    <tr>\n",
       "      <th>22169</th>\n",
       "      <td>64</td>\n",
       "      <td>Local-gov</td>\n",
       "      <td>50442</td>\n",
       "      <td>9th</td>\n",
       "      <td>5</td>\n",
       "      <td>Never-married</td>\n",
       "      <td>Adm-clerical</td>\n",
       "      <td>Other-relative</td>\n",
       "      <td>White</td>\n",
       "      <td>Male</td>\n",
       "      <td>0</td>\n",
       "      <td>0</td>\n",
       "      <td>40</td>\n",
       "      <td>United-States</td>\n",
       "    </tr>\n",
       "    <tr>\n",
       "      <th>20179</th>\n",
       "      <td>29</td>\n",
       "      <td>Local-gov</td>\n",
       "      <td>95393</td>\n",
       "      <td>HS-grad</td>\n",
       "      <td>9</td>\n",
       "      <td>Never-married</td>\n",
       "      <td>Other-service</td>\n",
       "      <td>Own-child</td>\n",
       "      <td>White</td>\n",
       "      <td>Male</td>\n",
       "      <td>0</td>\n",
       "      <td>0</td>\n",
       "      <td>20</td>\n",
       "      <td>United-States</td>\n",
       "    </tr>\n",
       "    <tr>\n",
       "      <th>38539</th>\n",
       "      <td>17</td>\n",
       "      <td>Private</td>\n",
       "      <td>153035</td>\n",
       "      <td>10th</td>\n",
       "      <td>6</td>\n",
       "      <td>Never-married</td>\n",
       "      <td>Sales</td>\n",
       "      <td>Own-child</td>\n",
       "      <td>White</td>\n",
       "      <td>Female</td>\n",
       "      <td>0</td>\n",
       "      <td>0</td>\n",
       "      <td>20</td>\n",
       "      <td>United-States</td>\n",
       "    </tr>\n",
       "  </tbody>\n",
       "</table>\n",
       "<p>36177 rows × 14 columns</p>\n",
       "</div>"
      ],
      "text/plain": [
       "       age     workclass  fnlwgt     education  educational-num  \\\n",
       "15253   45       Private  105779       HS-grad                9   \n",
       "46787   57     Local-gov  189824  Some-college               10   \n",
       "16489   58  Self-emp-inc  210563       HS-grad                9   \n",
       "47272   34       Private  220840       5th-6th                3   \n",
       "32289   35     State-gov  172327     Bachelors               13   \n",
       "...    ...           ...     ...           ...              ...   \n",
       "5983    25       Private  173593  Some-college               10   \n",
       "38681   26       Private  375980       HS-grad                9   \n",
       "22169   64     Local-gov   50442           9th                5   \n",
       "20179   29     Local-gov   95393       HS-grad                9   \n",
       "38539   17       Private  153035          10th                6   \n",
       "\n",
       "           marital-status         occupation    relationship   race  gender  \\\n",
       "15253  Married-civ-spouse       Craft-repair         Husband  White    Male   \n",
       "46787  Married-civ-spouse  Handlers-cleaners         Husband  Black    Male   \n",
       "16489  Married-civ-spouse              Sales            Wife  White  Female   \n",
       "47272  Married-civ-spouse    Farming-fishing         Husband  White    Male   \n",
       "32289           Separated    Exec-managerial   Not-in-family  White    Male   \n",
       "...                   ...                ...             ...    ...     ...   \n",
       "5983        Never-married    Exec-managerial       Own-child  White    Male   \n",
       "38681           Separated              Sales       Unmarried  Black  Female   \n",
       "22169       Never-married       Adm-clerical  Other-relative  White    Male   \n",
       "20179       Never-married      Other-service       Own-child  White    Male   \n",
       "38539       Never-married              Sales       Own-child  White  Female   \n",
       "\n",
       "       capital-gain  capital-loss  hours-per-week native-country  \n",
       "15253             0             0              30  United-States  \n",
       "46787          7298             0              40  United-States  \n",
       "16489         15024             0              35  United-States  \n",
       "47272             0             0              40         Mexico  \n",
       "32289             0             0              42  United-States  \n",
       "...             ...           ...             ...            ...  \n",
       "5983              0             0              75  United-States  \n",
       "38681             0             0              37  United-States  \n",
       "22169             0             0              40  United-States  \n",
       "20179             0             0              20  United-States  \n",
       "38539             0             0              20  United-States  \n",
       "\n",
       "[36177 rows x 14 columns]"
      ]
     },
     "execution_count": 6,
     "metadata": {},
     "output_type": "execute_result"
    }
   ],
   "source": [
    "x_train"
   ]
  },
  {
   "cell_type": "code",
   "execution_count": 7,
   "metadata": {},
   "outputs": [
    {
     "data": {
      "text/html": [
       "<div>\n",
       "<style scoped>\n",
       "    .dataframe tbody tr th:only-of-type {\n",
       "        vertical-align: middle;\n",
       "    }\n",
       "\n",
       "    .dataframe tbody tr th {\n",
       "        vertical-align: top;\n",
       "    }\n",
       "\n",
       "    .dataframe thead th {\n",
       "        text-align: right;\n",
       "    }\n",
       "</style>\n",
       "<table border=\"1\" class=\"dataframe\">\n",
       "  <thead>\n",
       "    <tr style=\"text-align: right;\">\n",
       "      <th></th>\n",
       "      <th>age</th>\n",
       "      <th>workclass</th>\n",
       "      <th>fnlwgt</th>\n",
       "      <th>education</th>\n",
       "      <th>educational-num</th>\n",
       "      <th>marital-status</th>\n",
       "      <th>occupation</th>\n",
       "      <th>relationship</th>\n",
       "      <th>race</th>\n",
       "      <th>gender</th>\n",
       "      <th>capital-gain</th>\n",
       "      <th>capital-loss</th>\n",
       "      <th>hours-per-week</th>\n",
       "      <th>native-country</th>\n",
       "    </tr>\n",
       "  </thead>\n",
       "  <tbody>\n",
       "    <tr>\n",
       "      <th>26895</th>\n",
       "      <td>39</td>\n",
       "      <td>Local-gov</td>\n",
       "      <td>189911</td>\n",
       "      <td>11th</td>\n",
       "      <td>7</td>\n",
       "      <td>Divorced</td>\n",
       "      <td>Adm-clerical</td>\n",
       "      <td>Unmarried</td>\n",
       "      <td>White</td>\n",
       "      <td>Female</td>\n",
       "      <td>0</td>\n",
       "      <td>0</td>\n",
       "      <td>40</td>\n",
       "      <td>United-States</td>\n",
       "    </tr>\n",
       "    <tr>\n",
       "      <th>2071</th>\n",
       "      <td>29</td>\n",
       "      <td>Local-gov</td>\n",
       "      <td>194869</td>\n",
       "      <td>Bachelors</td>\n",
       "      <td>13</td>\n",
       "      <td>Married-civ-spouse</td>\n",
       "      <td>Prof-specialty</td>\n",
       "      <td>Husband</td>\n",
       "      <td>White</td>\n",
       "      <td>Male</td>\n",
       "      <td>0</td>\n",
       "      <td>0</td>\n",
       "      <td>55</td>\n",
       "      <td>United-States</td>\n",
       "    </tr>\n",
       "    <tr>\n",
       "      <th>21459</th>\n",
       "      <td>41</td>\n",
       "      <td>Local-gov</td>\n",
       "      <td>175149</td>\n",
       "      <td>HS-grad</td>\n",
       "      <td>9</td>\n",
       "      <td>Divorced</td>\n",
       "      <td>Transport-moving</td>\n",
       "      <td>Not-in-family</td>\n",
       "      <td>Black</td>\n",
       "      <td>Female</td>\n",
       "      <td>0</td>\n",
       "      <td>0</td>\n",
       "      <td>38</td>\n",
       "      <td>United-States</td>\n",
       "    </tr>\n",
       "    <tr>\n",
       "      <th>22159</th>\n",
       "      <td>28</td>\n",
       "      <td>Private</td>\n",
       "      <td>65389</td>\n",
       "      <td>HS-grad</td>\n",
       "      <td>9</td>\n",
       "      <td>Never-married</td>\n",
       "      <td>Other-service</td>\n",
       "      <td>Not-in-family</td>\n",
       "      <td>Amer-Indian-Eskimo</td>\n",
       "      <td>Male</td>\n",
       "      <td>0</td>\n",
       "      <td>0</td>\n",
       "      <td>30</td>\n",
       "      <td>United-States</td>\n",
       "    </tr>\n",
       "    <tr>\n",
       "      <th>29076</th>\n",
       "      <td>22</td>\n",
       "      <td>Private</td>\n",
       "      <td>320451</td>\n",
       "      <td>Some-college</td>\n",
       "      <td>10</td>\n",
       "      <td>Never-married</td>\n",
       "      <td>Protective-serv</td>\n",
       "      <td>Own-child</td>\n",
       "      <td>Asian-Pac-Islander</td>\n",
       "      <td>Male</td>\n",
       "      <td>0</td>\n",
       "      <td>0</td>\n",
       "      <td>24</td>\n",
       "      <td>India</td>\n",
       "    </tr>\n",
       "    <tr>\n",
       "      <th>...</th>\n",
       "      <td>...</td>\n",
       "      <td>...</td>\n",
       "      <td>...</td>\n",
       "      <td>...</td>\n",
       "      <td>...</td>\n",
       "      <td>...</td>\n",
       "      <td>...</td>\n",
       "      <td>...</td>\n",
       "      <td>...</td>\n",
       "      <td>...</td>\n",
       "      <td>...</td>\n",
       "      <td>...</td>\n",
       "      <td>...</td>\n",
       "      <td>...</td>\n",
       "    </tr>\n",
       "    <tr>\n",
       "      <th>7667</th>\n",
       "      <td>36</td>\n",
       "      <td>Private</td>\n",
       "      <td>167415</td>\n",
       "      <td>HS-grad</td>\n",
       "      <td>9</td>\n",
       "      <td>Divorced</td>\n",
       "      <td>Craft-repair</td>\n",
       "      <td>Unmarried</td>\n",
       "      <td>White</td>\n",
       "      <td>Male</td>\n",
       "      <td>0</td>\n",
       "      <td>0</td>\n",
       "      <td>40</td>\n",
       "      <td>United-States</td>\n",
       "    </tr>\n",
       "    <tr>\n",
       "      <th>46732</th>\n",
       "      <td>47</td>\n",
       "      <td>Private</td>\n",
       "      <td>70943</td>\n",
       "      <td>HS-grad</td>\n",
       "      <td>9</td>\n",
       "      <td>Married-civ-spouse</td>\n",
       "      <td>Machine-op-inspct</td>\n",
       "      <td>Husband</td>\n",
       "      <td>White</td>\n",
       "      <td>Male</td>\n",
       "      <td>5178</td>\n",
       "      <td>0</td>\n",
       "      <td>40</td>\n",
       "      <td>United-States</td>\n",
       "    </tr>\n",
       "    <tr>\n",
       "      <th>1311</th>\n",
       "      <td>34</td>\n",
       "      <td>Private</td>\n",
       "      <td>377850</td>\n",
       "      <td>Some-college</td>\n",
       "      <td>10</td>\n",
       "      <td>Married-civ-spouse</td>\n",
       "      <td>Adm-clerical</td>\n",
       "      <td>Husband</td>\n",
       "      <td>White</td>\n",
       "      <td>Male</td>\n",
       "      <td>0</td>\n",
       "      <td>0</td>\n",
       "      <td>50</td>\n",
       "      <td>United-States</td>\n",
       "    </tr>\n",
       "    <tr>\n",
       "      <th>21764</th>\n",
       "      <td>22</td>\n",
       "      <td>Private</td>\n",
       "      <td>61850</td>\n",
       "      <td>HS-grad</td>\n",
       "      <td>9</td>\n",
       "      <td>Never-married</td>\n",
       "      <td>Other-service</td>\n",
       "      <td>Not-in-family</td>\n",
       "      <td>White</td>\n",
       "      <td>Female</td>\n",
       "      <td>0</td>\n",
       "      <td>0</td>\n",
       "      <td>40</td>\n",
       "      <td>United-States</td>\n",
       "    </tr>\n",
       "    <tr>\n",
       "      <th>201</th>\n",
       "      <td>28</td>\n",
       "      <td>Self-emp-inc</td>\n",
       "      <td>142443</td>\n",
       "      <td>Bachelors</td>\n",
       "      <td>13</td>\n",
       "      <td>Married-civ-spouse</td>\n",
       "      <td>Exec-managerial</td>\n",
       "      <td>Husband</td>\n",
       "      <td>White</td>\n",
       "      <td>Male</td>\n",
       "      <td>0</td>\n",
       "      <td>0</td>\n",
       "      <td>50</td>\n",
       "      <td>United-States</td>\n",
       "    </tr>\n",
       "  </tbody>\n",
       "</table>\n",
       "<p>9045 rows × 14 columns</p>\n",
       "</div>"
      ],
      "text/plain": [
       "       age     workclass  fnlwgt     education  educational-num  \\\n",
       "26895   39     Local-gov  189911          11th                7   \n",
       "2071    29     Local-gov  194869     Bachelors               13   \n",
       "21459   41     Local-gov  175149       HS-grad                9   \n",
       "22159   28       Private   65389       HS-grad                9   \n",
       "29076   22       Private  320451  Some-college               10   \n",
       "...    ...           ...     ...           ...              ...   \n",
       "7667    36       Private  167415       HS-grad                9   \n",
       "46732   47       Private   70943       HS-grad                9   \n",
       "1311    34       Private  377850  Some-college               10   \n",
       "21764   22       Private   61850       HS-grad                9   \n",
       "201     28  Self-emp-inc  142443     Bachelors               13   \n",
       "\n",
       "           marital-status         occupation   relationship  \\\n",
       "26895            Divorced       Adm-clerical      Unmarried   \n",
       "2071   Married-civ-spouse     Prof-specialty        Husband   \n",
       "21459            Divorced   Transport-moving  Not-in-family   \n",
       "22159       Never-married      Other-service  Not-in-family   \n",
       "29076       Never-married    Protective-serv      Own-child   \n",
       "...                   ...                ...            ...   \n",
       "7667             Divorced       Craft-repair      Unmarried   \n",
       "46732  Married-civ-spouse  Machine-op-inspct        Husband   \n",
       "1311   Married-civ-spouse       Adm-clerical        Husband   \n",
       "21764       Never-married      Other-service  Not-in-family   \n",
       "201    Married-civ-spouse    Exec-managerial        Husband   \n",
       "\n",
       "                     race  gender  capital-gain  capital-loss  hours-per-week  \\\n",
       "26895               White  Female             0             0              40   \n",
       "2071                White    Male             0             0              55   \n",
       "21459               Black  Female             0             0              38   \n",
       "22159  Amer-Indian-Eskimo    Male             0             0              30   \n",
       "29076  Asian-Pac-Islander    Male             0             0              24   \n",
       "...                   ...     ...           ...           ...             ...   \n",
       "7667                White    Male             0             0              40   \n",
       "46732               White    Male          5178             0              40   \n",
       "1311                White    Male             0             0              50   \n",
       "21764               White  Female             0             0              40   \n",
       "201                 White    Male             0             0              50   \n",
       "\n",
       "      native-country  \n",
       "26895  United-States  \n",
       "2071   United-States  \n",
       "21459  United-States  \n",
       "22159  United-States  \n",
       "29076          India  \n",
       "...              ...  \n",
       "7667   United-States  \n",
       "46732  United-States  \n",
       "1311   United-States  \n",
       "21764  United-States  \n",
       "201    United-States  \n",
       "\n",
       "[9045 rows x 14 columns]"
      ]
     },
     "execution_count": 7,
     "metadata": {},
     "output_type": "execute_result"
    }
   ],
   "source": [
    "x_test"
   ]
  },
  {
   "cell_type": "markdown",
   "metadata": {},
   "source": [
    "## Load Credit Card Unbalanced Dataset"
   ]
  },
  {
   "cell_type": "code",
   "execution_count": null,
   "metadata": {},
   "outputs": [],
   "source": [
    "data_set_name = 'credit_card'\n",
    "target = 'Class'\n",
    "df_original = utilities.load_data(data_set_name)"
   ]
  },
  {
   "cell_type": "code",
   "execution_count": null,
   "metadata": {},
   "outputs": [],
   "source": [
    "df = df_original.copy()"
   ]
  },
  {
   "cell_type": "code",
   "execution_count": null,
   "metadata": {},
   "outputs": [],
   "source": [
    "df_train, df_test = train_test_split(df, test_size = 0.2,  random_state = 5)\n",
    "\n",
    "utilities.save_test_train_data(data_set_name, df_train, df_test)"
   ]
  },
  {
   "cell_type": "code",
   "execution_count": null,
   "metadata": {},
   "outputs": [],
   "source": [
    "x_train = df_train.loc[:, df_train.columns != target]\n",
    "y_train = df_train[target]\n",
    "\n",
    "x_test = df_test.loc[:, df_test.columns != target]\n",
    "y_test = df_test[target]"
   ]
  },
  {
   "cell_type": "code",
   "execution_count": null,
   "metadata": {},
   "outputs": [],
   "source": [
    "x_train"
   ]
  },
  {
   "cell_type": "code",
   "execution_count": null,
   "metadata": {},
   "outputs": [],
   "source": [
    "x_test"
   ]
  },
  {
   "cell_type": "markdown",
   "metadata": {},
   "source": [
    "## Load Credit Card Balanced Dataset"
   ]
  },
  {
   "cell_type": "code",
   "execution_count": null,
   "metadata": {},
   "outputs": [],
   "source": [
    "data_set_name = 'credit_card'\n",
    "target = 'Class'\n",
    "balanced = True\n",
    "df_original = utilities.load_data(data_set_name, balanced)"
   ]
  },
  {
   "cell_type": "code",
   "execution_count": null,
   "metadata": {},
   "outputs": [],
   "source": [
    "df = df_original.copy()"
   ]
  },
  {
   "cell_type": "code",
   "execution_count": null,
   "metadata": {},
   "outputs": [],
   "source": [
    "df_train, df_test = train_test_split(df, test_size = 0.2,  random_state = 5)\n",
    "\n",
    "utilities.save_test_train_data(data_set_name, df_train, df_test, balanced)"
   ]
  },
  {
   "cell_type": "code",
   "execution_count": null,
   "metadata": {},
   "outputs": [],
   "source": [
    "x_train = df_train.loc[:, df_train.columns != target]\n",
    "y_train = df_train[target]\n",
    "\n",
    "x_test = df_test.loc[:, df_test.columns != target]\n",
    "y_test = df_test[target]"
   ]
  },
  {
   "cell_type": "code",
   "execution_count": null,
   "metadata": {},
   "outputs": [],
   "source": [
    "x_train"
   ]
  },
  {
   "cell_type": "code",
   "execution_count": null,
   "metadata": {},
   "outputs": [],
   "source": [
    "x_test"
   ]
  },
  {
   "cell_type": "code",
   "execution_count": null,
   "metadata": {},
   "outputs": [],
   "source": [
    "prefix = ''\n",
    "if data_set_name == 'credit_card':\n",
    "    if balanced:\n",
    "        prefix = 'balanced_'\n",
    "    else:\n",
    "        prefix = 'unbalanced_'"
   ]
  },
  {
   "cell_type": "markdown",
   "metadata": {},
   "source": [
    "## Create Supervised Synthesizers"
   ]
  },
  {
   "cell_type": "code",
   "execution_count": null,
   "metadata": {},
   "outputs": [],
   "source": [
    "params_xgb = {\n",
    "        'eval_metric': 'auc'\n",
    "}\n",
    "\n",
    "def fit_synth(df, method, epoch):\n",
    "    metadata = SingleTableMetadata()\n",
    "    metadata.detect_from_dataframe(data=df)\n",
    "    if method == \"GaussianCopula\":\n",
    "        synth = GaussianCopulaSynthesizer(metadata=metadata)\n",
    "    elif method == \"CTGAN\" or method ==\"CopulaGAN\":\n",
    "        if method == \"CTGAN\":\n",
    "            synth = CTGANSynthesizer(metadata=metadata, epochs=epoch)\n",
    "        if method == \"CopulaGAN\":\n",
    "            synth = CopulaGANSynthesizer(metadata=metadata, epochs=epoch)\n",
    "    elif method == \"TVAE\":\n",
    "        synth = TVAESynthesizer(metadata=metadata, epochs=epoch)\n",
    "    else:\n",
    "        raise ValueError(\"Invalid model name: \" + method)\n",
    "    return synth\n",
    "\n",
    "def downstream_loss(sampled, df_te, target, classifier):\n",
    "    x_samp = sampled.loc[:, sampled.columns != target]\n",
    "    y_samp = sampled[target]\n",
    "    x_test = df_te.loc[:, sampled.columns != target]\n",
    "    y_test = df_te[target]\n",
    "    if classifier == \"XGB\":\n",
    "        for column in x_samp.columns:\n",
    "            if x_samp[column].dtype == 'object':\n",
    "                x_samp[column] = x_samp[column].astype('category')\n",
    "                x_test[column] = x_test[column].astype('category')\n",
    "        dtrain = xgb.DMatrix(data=x_samp, label=y_samp, enable_categorical=True)\n",
    "        dtest = xgb.DMatrix(data=x_test, label=y_test, enable_categorical=True)\n",
    "        clf = xgb.train(params_xgb, dtrain, 1000, verbose_eval=False)\n",
    "        clf_probs = clf.predict(dtest)\n",
    "        print(clf_probs)\n",
    "        clf_auc = roc_auc_score(y_test.values.astype(float), clf_probs)\n",
    "        return clf_auc\n",
    "    else:\n",
    "        raise ValueError(\"Invalid classifier: \" + classifier)"
   ]
  },
  {
   "cell_type": "markdown",
   "metadata": {},
   "source": [
    "# Generate Synthetic Data from untuned models"
   ]
  },
  {
   "cell_type": "markdown",
   "metadata": {},
   "source": [
    "## GaussianCopula"
   ]
  },
  {
   "cell_type": "code",
   "execution_count": null,
   "metadata": {},
   "outputs": [],
   "source": [
    "method = \"GaussianCopula\"\n",
    "epoch = 300\n",
    "synth = fit_synth(df_train, method, epoch)\n",
    "synth.fit(df_train)\n",
    "N_sim = 10000\n",
    "sampled_gaussain_capula = synth.sample(num_rows = N_sim)"
   ]
  },
  {
   "cell_type": "code",
   "execution_count": null,
   "metadata": {},
   "outputs": [],
   "source": [
    "sampled_gaussain_capula.head()"
   ]
  },
  {
   "cell_type": "code",
   "execution_count": null,
   "metadata": {},
   "outputs": [],
   "source": [
    "x_gauss = sampled_gaussain_capula.loc[:, sampled_gaussain_capula.columns != target]\n",
    "y_gauss = sampled_gaussain_capula[target]  "
   ]
  },
  {
   "cell_type": "code",
   "execution_count": null,
   "metadata": {},
   "outputs": [],
   "source": [
    "sampled_gaussain_capula.to_csv('../data/' + data_set_name + \"/\" + prefix + data_set_name + \"_sampled_untuned_gaussain_capula.csv\", index=False)"
   ]
  },
  {
   "cell_type": "markdown",
   "metadata": {},
   "source": [
    "## CTGAN"
   ]
  },
  {
   "cell_type": "code",
   "execution_count": null,
   "metadata": {},
   "outputs": [],
   "source": [
    "method = \"CTGAN\"\n",
    "epoch = 300\n",
    "synth = fit_synth(df_train, method, epoch)\n",
    "synth.fit(df_train)\n",
    "N_sim = 10000\n",
    "sampled_ct_gan = synth.sample(num_rows = N_sim)"
   ]
  },
  {
   "cell_type": "code",
   "execution_count": null,
   "metadata": {},
   "outputs": [],
   "source": [
    "sampled_ct_gan.head()"
   ]
  },
  {
   "cell_type": "code",
   "execution_count": null,
   "metadata": {},
   "outputs": [],
   "source": [
    "x_ctgan = sampled_ct_gan.loc[:, sampled_ct_gan.columns != target]\n",
    "y_ctgan = sampled_ct_gan[target]   "
   ]
  },
  {
   "cell_type": "code",
   "execution_count": null,
   "metadata": {},
   "outputs": [],
   "source": [
    "sampled_ct_gan.to_csv('../data/' + data_set_name + \"/\" + prefix + data_set_name + \"_sampled_untuned_ct_gan.csv\", index=False)"
   ]
  },
  {
   "cell_type": "markdown",
   "metadata": {},
   "source": [
    "## CopulaGAN"
   ]
  },
  {
   "cell_type": "code",
   "execution_count": null,
   "metadata": {},
   "outputs": [],
   "source": [
    "method = \"CopulaGAN\"\n",
    "epoch = 300\n",
    "synth = fit_synth(df_train, method, epoch)\n",
    "synth.fit(df_train)\n",
    "N_sim = 10000\n",
    "sampled_capula_gan = synth.sample(num_rows = N_sim)"
   ]
  },
  {
   "cell_type": "code",
   "execution_count": null,
   "metadata": {},
   "outputs": [],
   "source": [
    "sampled_capula_gan.head()"
   ]
  },
  {
   "cell_type": "code",
   "execution_count": null,
   "metadata": {},
   "outputs": [],
   "source": [
    "x_copgan = sampled_capula_gan.loc[:, sampled_capula_gan.columns != target]\n",
    "y_copgan = sampled_capula_gan[target]       "
   ]
  },
  {
   "cell_type": "code",
   "execution_count": null,
   "metadata": {},
   "outputs": [],
   "source": [
    "sampled_capula_gan.to_csv('../data/' + data_set_name + \"/\" + prefix + data_set_name + \"_sampled_untuned_capula_gan.csv\", index=False)"
   ]
  },
  {
   "cell_type": "markdown",
   "metadata": {},
   "source": [
    "## TVAE"
   ]
  },
  {
   "cell_type": "code",
   "execution_count": null,
   "metadata": {},
   "outputs": [],
   "source": [
    "method = \"TVAE\"\n",
    "epoch = 300\n",
    "synth = fit_synth(df_train, method, epoch)\n",
    "synth.fit(df_train)\n",
    "N_sim = 10000\n",
    "sampled_tvae = synth.sample(num_rows = N_sim)"
   ]
  },
  {
   "cell_type": "code",
   "execution_count": null,
   "metadata": {},
   "outputs": [],
   "source": [
    "sampled_tvae.head()"
   ]
  },
  {
   "cell_type": "code",
   "execution_count": null,
   "metadata": {},
   "outputs": [],
   "source": [
    "x_tvae = sampled_tvae.loc[:, sampled_tvae.columns != target]\n",
    "y_tvae = sampled_tvae[target]       "
   ]
  },
  {
   "cell_type": "code",
   "execution_count": null,
   "metadata": {},
   "outputs": [],
   "source": [
    "sampled_tvae.to_csv('../data/' + data_set_name + \"/\" + prefix + data_set_name + \"_sampled_untuned_tvae.csv\", index=False)"
   ]
  },
  {
   "cell_type": "markdown",
   "metadata": {},
   "source": [
    "# Train Downstream Task"
   ]
  },
  {
   "cell_type": "code",
   "execution_count": null,
   "metadata": {},
   "outputs": [],
   "source": [
    "params_range = {\n",
    "            'alpha_1':  hp.uniform('alpha_1', 0, 1),\n",
    "            'alpha_2':  hp.uniform('alpha_2', 0, 1),\n",
    "            'alpha_3':  hp.uniform('alpha_3', 0, 1),\n",
    "            'alpha_4':  hp.uniform('alpha_4', 0, 1),\n",
    "            'generated_data_size': 10000\n",
    "           } \n",
    "num_boost_round = 1000"
   ]
  },
  {
   "cell_type": "code",
   "execution_count": null,
   "metadata": {},
   "outputs": [],
   "source": [
    "def objective_maximize_roc(params):\n",
    "    # Keep track of the best iteration records\n",
    "    global output \n",
    "    global best_test_roc \n",
    "    global best_params\n",
    "    global best_X_synthetic\n",
    "    global best_y_synthetic\n",
    "    \n",
    "    # Scale the alphas so that their sum adds up to 1\n",
    "    alpha_temp = [params['alpha_1'], params['alpha_2'], params['alpha_3'], params['alpha_4']]\n",
    "    scale = sum(alpha_temp)\n",
    "    alpha = [(1 / scale) * alpha_temp[i] for i in range(len(alpha_temp))]\n",
    "    index = np.argmax(alpha)\n",
    "    params['alpha_1'] = alpha[0]\n",
    "    params['alpha_2'] = alpha[1]\n",
    "    params['alpha_3'] = alpha[2]\n",
    "    params['alpha_4'] = alpha[3]\n",
    "\n",
    "    # Combine all the data into a single list\n",
    "    X_temp = [x_gauss, x_ctgan, x_copgan, x_tvae]\n",
    "    y_temp = [y_gauss, y_ctgan, y_copgan, y_tvae]\n",
    "    \n",
    "    # Randomly select the data from each source\n",
    "    randomRows = random.sample(list(y_temp[0].index.values), int(alpha[0] * len(y_temp[0].index.values)))\n",
    "\n",
    "    X_new = X_temp[0].loc[randomRows]\n",
    "    y_new = y_temp[0].loc[randomRows].values\n",
    "    x_test_real = x_test.copy()\n",
    "    y_test_real = y_test.copy()\n",
    "\n",
    "    generated_data_size = params['generated_data_size']\n",
    "\n",
    "    size = [int(alpha[i] * len(y_temp[i].index.values)) for i in range(4)]\n",
    "    size[index] += (generated_data_size - sum(size))\n",
    "    \n",
    "    # Randomly select the data from each source based on the alpha values\n",
    "    for i in range(1, len(y_temp)):\n",
    "        n = size[i]\n",
    "        randomRows = random.sample(list(y_temp[i].index.values), n)\n",
    "        # print(type(X_temp[i].loc[randomRows]))\n",
    "        # print(type(X_new))\n",
    "        # X_new = X_new.append(X_temp[i].loc[randomRows])\n",
    "        # y_new = y_new.append(y_temp[i].loc[randomRows].values)\n",
    "        X_new = pd.concat([X_new, X_temp[i].loc[randomRows]])\n",
    "        # y_new = pd.concat([y_new, y_temp[i].loc[randomRows]])\n",
    "        y_new = np.concatenate((y_new, y_temp[i].loc[randomRows].values))\n",
    "\n",
    "\n",
    "    X_synthetic = X_new.copy()\n",
    "    y_synthetic = y_new.copy()\n",
    "    \n",
    "    # Train classifier\n",
    "    for column in X_new.columns:\n",
    "        if X_new[column].dtype == 'object':\n",
    "            X_new[column] = X_new[column].astype('category')\n",
    "            x_test_real[column] = x_test_real[column].astype('category')\n",
    "    dtrain = xgb.DMatrix(data=X_new, label=y_new, enable_categorical=True)\n",
    "    dtest = xgb.DMatrix(data=x_test_real, label=y_test_real, enable_categorical=True)\n",
    "    clf = xgb.train(params = {}, dtrain=dtrain, num_boost_round=num_boost_round, verbose_eval=False)\n",
    "\n",
    "    # Evaluate the performance of the classifier\n",
    "    clf_probs = clf.predict(dtest)\n",
    "    clf_auc = roc_auc_score(y_test.astype(float), clf_probs)\n",
    "    \n",
    "    clf_probs_train = clf.predict(dtrain)\n",
    "    clf_auc_train = roc_auc_score(y_new.astype(float), clf_probs_train)\n",
    "    params['train_roc']        = clf_auc_train\n",
    "    params['test_roc']        = clf_auc\n",
    "\n",
    "    if output.size == 0:\n",
    "        output = pd.DataFrame.from_dict(output)\n",
    "    else:\n",
    "        output = pd.concat((output, params))\n",
    "    \n",
    "    # Update best record of the loss function and the alpha values based on the optimization\n",
    "    if params['test_roc'] > best_test_roc:\n",
    "        best_test_roc = params['test_roc']\n",
    "        best_params = alpha\n",
    "        best_X_synthetic = X_synthetic\n",
    "        best_y_synthetic = y_synthetic\n",
    "    \n",
    "    # Loss function is to maximize the test roc score\n",
    "    return {\n",
    "        'loss' : 1 - clf_auc,\n",
    "        'status' : STATUS_OK,\n",
    "        'eval_time ': time.time(),\n",
    "        'test_roc' : clf_auc,\n",
    "        }"
   ]
  },
  {
   "cell_type": "code",
   "execution_count": null,
   "metadata": {},
   "outputs": [],
   "source": [
    "def trainDT(max_evals:int):\n",
    "    # Keep track of the best iteration records\n",
    "    global output \n",
    "    output = pd.DataFrame()\n",
    "    global best_test_roc\n",
    "    global best_params\n",
    "    global best_X_synthetic\n",
    "    global best_y_synthetic\n",
    "    best_test_roc = 0\n",
    "    best_params = []\n",
    "    trials = Trials()\n",
    "    start = time.time()\n",
    "    clf_best_param = fmin(fn=objective_maximize_roc,\n",
    "                    space=params_range,\n",
    "                    max_evals=max_evals,\n",
    "                   # rstate=np.random.default_rng(42),\n",
    "                    algo=tpe.suggest,\n",
    "                    trials=trials)\n",
    "    print(clf_best_param)\n",
    "    print('It takes %s minutes' % ((time.time() - start)/60))\n",
    "    return best_test_roc, best_params, best_X_synthetic, best_y_synthetic, clf_best_param"
   ]
  },
  {
   "cell_type": "code",
   "execution_count": null,
   "metadata": {},
   "outputs": [],
   "source": [
    "best_test_roc, best_params, best_X_synthetic, best_y_synthetic, clf_best_param = trainDT(optimization_itr)"
   ]
  },
  {
   "cell_type": "code",
   "execution_count": null,
   "metadata": {},
   "outputs": [],
   "source": [
    "best_test_roc"
   ]
  },
  {
   "cell_type": "code",
   "execution_count": null,
   "metadata": {},
   "outputs": [],
   "source": [
    "best_y_synthetic"
   ]
  },
  {
   "cell_type": "code",
   "execution_count": null,
   "metadata": {},
   "outputs": [],
   "source": [
    "best_X_synthetic"
   ]
  },
  {
   "cell_type": "code",
   "execution_count": null,
   "metadata": {},
   "outputs": [],
   "source": [
    "best_params"
   ]
  },
  {
   "cell_type": "code",
   "execution_count": null,
   "metadata": {},
   "outputs": [],
   "source": [
    "def save_synthetic_data(data_set_name:str, best_X_synthetic, best_y_synthetic, balanced:bool=False):\n",
    "    synthetic_data = best_X_synthetic\n",
    "    if data_set_name == 'adult':\n",
    "        target = 'income'\n",
    "        synthetic_data[target] = best_y_synthetic\n",
    "        synthetic_data.loc[synthetic_data[target] == True, target] = \" <=50K\"\n",
    "        synthetic_data.loc[synthetic_data[target] == False, target] = \" >50K\"\n",
    "        synthetic_data.to_csv(\"../data/output/\" + data_set_name + \"_untuned_models_synthetic_data_xgboost.csv\", index=False)\n",
    "    elif data_set_name == 'credit_card':\n",
    "        target = 'class'\n",
    "        synthetic_data[target] = best_y_synthetic\n",
    "        if balanced:\n",
    "            synthetic_data.to_csv(\"../data/output/balanced_\" + data_set_name + \"_untuned_models_synthetic_data_xgboost.csv\", index=False)\n",
    "        else:\n",
    "            synthetic_data.to_csv(\"../data/output/unbalanced_\" + data_set_name + \"_untuned_models_synthetic_data_xgboost.csv\", index=False)\n",
    "    else:\n",
    "        raise ValueError(\"Invalid data set name: \" + data_set_name)\n",
    "    return synthetic_data"
   ]
  },
  {
   "cell_type": "code",
   "execution_count": null,
   "metadata": {},
   "outputs": [],
   "source": [
    "save_synthetic_data(data_set_name, best_X_synthetic, best_y_synthetic)"
   ]
  },
  {
   "cell_type": "code",
   "execution_count": null,
   "metadata": {},
   "outputs": [],
   "source": [
    "clf_best_param[\"test_roc\"] = best_test_roc\n",
    "pd.DataFrame.from_dict(clf_best_param).to_csv(\"../data/output/\" + prefix + data_set_name + \"_untuned_models_clf_best_param_xgboost.csv\", index=False)"
   ]
  }
 ],
 "metadata": {
  "kernelspec": {
   "display_name": "base",
   "language": "python",
   "name": "python3"
  },
  "language_info": {
   "codemirror_mode": {
    "name": "ipython",
    "version": 3
   },
   "file_extension": ".py",
   "mimetype": "text/x-python",
   "name": "python",
   "nbconvert_exporter": "python",
   "pygments_lexer": "ipython3",
   "version": "3.10.9"
  },
  "orig_nbformat": 4
 },
 "nbformat": 4,
 "nbformat_minor": 2
}
