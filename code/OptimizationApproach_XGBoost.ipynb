{
 "cells": [
  {
   "cell_type": "markdown",
   "id": "7d4aae39",
   "metadata": {},
   "source": [
    "# Load Essential Packages"
   ]
  },
  {
   "cell_type": "code",
   "execution_count": 1,
   "id": "02455c18",
   "metadata": {},
   "outputs": [
    {
     "name": "stdout",
     "output_type": "stream",
     "text": [
      "3.10.9\n"
     ]
    }
   ],
   "source": [
    "from platform import python_version\n",
    "print(python_version())"
   ]
  },
  {
   "cell_type": "code",
   "execution_count": 2,
   "id": "d96d90ef",
   "metadata": {},
   "outputs": [],
   "source": [
    "import pandas as pd\n",
    "import numpy as np\n",
    "import hyperopt\n",
    "import sklearn\n",
    "import xgboost as xgb"
   ]
  },
  {
   "cell_type": "code",
   "execution_count": 3,
   "id": "820c2248",
   "metadata": {},
   "outputs": [],
   "source": [
    "import pandas as pd\n",
    "import numpy as np\n",
    "import os\n",
    "import time\n",
    "import hyperopt\n",
    "from hyperopt import hp,fmin,tpe, STATUS_OK, Trials\n",
    "import sklearn\n",
    "import random\n",
    "from sklearn.linear_model import LogisticRegression\n",
    "from sklearn.metrics import roc_auc_score\n",
    "from sklearn.tree import DecisionTreeClassifier\n",
    "from sklearn.metrics import accuracy_score\n",
    "from sklearn.model_selection import KFold, train_test_split\n",
    "from sklearn.preprocessing import LabelEncoder\n",
    "import xgboost as xgb"
   ]
  },
  {
   "cell_type": "code",
   "execution_count": 4,
   "id": "46a4a513",
   "metadata": {},
   "outputs": [],
   "source": [
    "import warnings\n",
    "warnings.filterwarnings('ignore')"
   ]
  },
  {
   "cell_type": "markdown",
   "id": "7be0b66f",
   "metadata": {},
   "source": [
    "# Load Data"
   ]
  },
  {
   "cell_type": "code",
   "execution_count": 73,
   "id": "81734ae4",
   "metadata": {},
   "outputs": [
    {
     "data": {
      "text/html": [
       "<div>\n",
       "<style scoped>\n",
       "    .dataframe tbody tr th:only-of-type {\n",
       "        vertical-align: middle;\n",
       "    }\n",
       "\n",
       "    .dataframe tbody tr th {\n",
       "        vertical-align: top;\n",
       "    }\n",
       "\n",
       "    .dataframe thead th {\n",
       "        text-align: right;\n",
       "    }\n",
       "</style>\n",
       "<table border=\"1\" class=\"dataframe\">\n",
       "  <thead>\n",
       "    <tr style=\"text-align: right;\">\n",
       "      <th></th>\n",
       "      <th>age</th>\n",
       "      <th>workclass</th>\n",
       "      <th>fnlwgt</th>\n",
       "      <th>education</th>\n",
       "      <th>educational-num</th>\n",
       "      <th>marital-status</th>\n",
       "      <th>occupation</th>\n",
       "      <th>relationship</th>\n",
       "      <th>race</th>\n",
       "      <th>gender</th>\n",
       "      <th>capital-gain</th>\n",
       "      <th>capital-loss</th>\n",
       "      <th>hours-per-week</th>\n",
       "      <th>native-country</th>\n",
       "      <th>income</th>\n",
       "    </tr>\n",
       "  </thead>\n",
       "  <tbody>\n",
       "    <tr>\n",
       "      <th>0</th>\n",
       "      <td>31</td>\n",
       "      <td>Private</td>\n",
       "      <td>160594</td>\n",
       "      <td>Assoc-acdm</td>\n",
       "      <td>12</td>\n",
       "      <td>Never-married</td>\n",
       "      <td>Prof-specialty</td>\n",
       "      <td>Own-child</td>\n",
       "      <td>White</td>\n",
       "      <td>Male</td>\n",
       "      <td>0</td>\n",
       "      <td>0</td>\n",
       "      <td>3</td>\n",
       "      <td>United-States</td>\n",
       "      <td>&lt;=50K</td>\n",
       "    </tr>\n",
       "    <tr>\n",
       "      <th>1</th>\n",
       "      <td>70</td>\n",
       "      <td>?</td>\n",
       "      <td>135339</td>\n",
       "      <td>Bachelors</td>\n",
       "      <td>13</td>\n",
       "      <td>Married-civ-spouse</td>\n",
       "      <td>?</td>\n",
       "      <td>Husband</td>\n",
       "      <td>Asian-Pac-Islander</td>\n",
       "      <td>Male</td>\n",
       "      <td>0</td>\n",
       "      <td>0</td>\n",
       "      <td>40</td>\n",
       "      <td>China</td>\n",
       "      <td>&lt;=50K</td>\n",
       "    </tr>\n",
       "    <tr>\n",
       "      <th>2</th>\n",
       "      <td>35</td>\n",
       "      <td>Private</td>\n",
       "      <td>194809</td>\n",
       "      <td>11th</td>\n",
       "      <td>7</td>\n",
       "      <td>Divorced</td>\n",
       "      <td>Machine-op-inspct</td>\n",
       "      <td>Unmarried</td>\n",
       "      <td>White</td>\n",
       "      <td>Female</td>\n",
       "      <td>0</td>\n",
       "      <td>0</td>\n",
       "      <td>40</td>\n",
       "      <td>United-States</td>\n",
       "      <td>&lt;=50K</td>\n",
       "    </tr>\n",
       "    <tr>\n",
       "      <th>3</th>\n",
       "      <td>63</td>\n",
       "      <td>Private</td>\n",
       "      <td>697806</td>\n",
       "      <td>HS-grad</td>\n",
       "      <td>9</td>\n",
       "      <td>Married-civ-spouse</td>\n",
       "      <td>Transport-moving</td>\n",
       "      <td>Husband</td>\n",
       "      <td>White</td>\n",
       "      <td>Male</td>\n",
       "      <td>0</td>\n",
       "      <td>0</td>\n",
       "      <td>60</td>\n",
       "      <td>United-States</td>\n",
       "      <td>&lt;=50K</td>\n",
       "    </tr>\n",
       "    <tr>\n",
       "      <th>4</th>\n",
       "      <td>41</td>\n",
       "      <td>Private</td>\n",
       "      <td>197372</td>\n",
       "      <td>10th</td>\n",
       "      <td>6</td>\n",
       "      <td>Married-civ-spouse</td>\n",
       "      <td>Transport-moving</td>\n",
       "      <td>Husband</td>\n",
       "      <td>White</td>\n",
       "      <td>Male</td>\n",
       "      <td>0</td>\n",
       "      <td>0</td>\n",
       "      <td>70</td>\n",
       "      <td>United-States</td>\n",
       "      <td>&lt;=50K</td>\n",
       "    </tr>\n",
       "  </tbody>\n",
       "</table>\n",
       "</div>"
      ],
      "text/plain": [
       "   age workclass  fnlwgt   education  educational-num      marital-status  \\\n",
       "0   31   Private  160594  Assoc-acdm               12       Never-married   \n",
       "1   70         ?  135339   Bachelors               13  Married-civ-spouse   \n",
       "2   35   Private  194809        11th                7            Divorced   \n",
       "3   63   Private  697806     HS-grad                9  Married-civ-spouse   \n",
       "4   41   Private  197372        10th                6  Married-civ-spouse   \n",
       "\n",
       "          occupation relationship                race  gender  capital-gain  \\\n",
       "0     Prof-specialty    Own-child               White    Male             0   \n",
       "1                  ?      Husband  Asian-Pac-Islander    Male             0   \n",
       "2  Machine-op-inspct    Unmarried               White  Female             0   \n",
       "3   Transport-moving      Husband               White    Male             0   \n",
       "4   Transport-moving      Husband               White    Male             0   \n",
       "\n",
       "   capital-loss  hours-per-week native-country income  \n",
       "0             0               3  United-States  <=50K  \n",
       "1             0              40          China  <=50K  \n",
       "2             0              40  United-States  <=50K  \n",
       "3             0              60  United-States  <=50K  \n",
       "4             0              70  United-States  <=50K  "
      ]
     },
     "execution_count": 73,
     "metadata": {},
     "output_type": "execute_result"
    }
   ],
   "source": [
    "train = pd.read_csv('../data/train.csv')\n",
    "test = pd.read_csv('../data/test.csv')\n",
    "test.head()"
   ]
  },
  {
   "cell_type": "code",
   "execution_count": 74,
   "id": "152bb04f",
   "metadata": {},
   "outputs": [],
   "source": [
    "train.loc[train[\"income\"] == \"<=50K\", \"income\"] = 1\n",
    "train.loc[train[\"income\"] == \">50K\", \"income\"] = 0\n",
    "x_train = train.loc[:, train.columns != 'income']\n",
    "y_train = train['income']"
   ]
  },
  {
   "cell_type": "code",
   "execution_count": 76,
   "id": "31917f38",
   "metadata": {},
   "outputs": [],
   "source": [
    "test.loc[test[\"income\"] == \"<=50K\", \"income\"] = 1.0\n",
    "test.loc[test[\"income\"] == \">50K\", \"income\"] = 0.0\n",
    "x_test = test.loc[:, test.columns != 'income']\n",
    "y_test = test['income']"
   ]
  },
  {
   "cell_type": "code",
   "execution_count": 52,
   "id": "ae5168bb",
   "metadata": {},
   "outputs": [],
   "source": [
    "df_gauss = pd.read_csv('../output/Gaussian.csv')\n",
    "df_ctgan = pd.read_csv('../output/CTGAN.csv')\n",
    "df_copgan = pd.read_csv('../output/CopulaGAN.csv')\n",
    "df_tvae = pd.read_csv('../output/TVAE.csv')\n",
    "df_emp = pd.read_csv('../output/Empirical.csv')"
   ]
  },
  {
   "cell_type": "code",
   "execution_count": null,
   "id": "84b4ec45",
   "metadata": {},
   "outputs": [],
   "source": [
    "x_gauss = df_gauss.loc[:, df_gauss.columns != 'salary']\n",
    "y_gauss = df_gauss['salary']\n",
    "x_ctgan = df_ctgan.loc[:, df_ctgan.columns != 'salary']\n",
    "y_ctgan = df_ctgan['salary']\n",
    "x_copgan = df_copgan.loc[:, df_copgan.columns != 'salary']\n",
    "y_copgan = df_copgan['salary']\n",
    "x_tvae = df_tvae.loc[:, df_tvae.columns != 'salary']\n",
    "y_tvae = df_tvae['salary']\n",
    "x_emp = df_emp.loc[:, df_emp.columns != 'salary']\n",
    "y_emp = df_emp['salary']"
   ]
  },
  {
   "cell_type": "markdown",
   "id": "17a5a61a",
   "metadata": {},
   "source": [
    "# Utilities"
   ]
  },
  {
   "cell_type": "code",
   "execution_count": 9,
   "id": "32968096",
   "metadata": {},
   "outputs": [],
   "source": [
    "# Create class for encoding\n",
    "class MultiColumnLabelEncoder:\n",
    "    def __init__(self,columns = None):\n",
    "        self.columns = columns # array of column names to encode\n",
    "\n",
    "    def fit(self,X,y=None):\n",
    "        return self # not relevant here\n",
    "\n",
    "    def transform(self,X):\n",
    "        '''\n",
    "        Transforms columns of X specified in self.columns using\n",
    "        LabelEncoder(). If no columns specified, transforms all\n",
    "        columns in X.\n",
    "        '''\n",
    "        output = X.copy()\n",
    "        if self.columns is not None:\n",
    "            for col in self.columns:\n",
    "                output[col] = LabelEncoder().fit_transform(output[col])\n",
    "        else:\n",
    "            for colname,col in output.iteritems():\n",
    "                output[colname] = LabelEncoder().fit_transform(col)\n",
    "        return output\n",
    "\n",
    "    def fit_transform(self,X,y=None):\n",
    "        return self.fit(X,y).transform(X)"
   ]
  },
  {
   "cell_type": "code",
   "execution_count": 10,
   "id": "45bee1f4",
   "metadata": {},
   "outputs": [],
   "source": [
    "cat_col = ['wkclass', 'matrimony', 'job', 'connection', 'race', 'origin', \"sex\"]"
   ]
  },
  {
   "cell_type": "markdown",
   "id": "6865e8b1",
   "metadata": {},
   "source": [
    "# Optimization"
   ]
  },
  {
   "cell_type": "code",
   "execution_count": 11,
   "id": "29d2c35a",
   "metadata": {},
   "outputs": [],
   "source": [
    "params_range = {\n",
    "            'alpha_1':  hp.uniform('alpha_1', 0, 1),\n",
    "            'alpha_2':  hp.uniform('alpha_2', 0, 1),\n",
    "            'alpha_3':  hp.uniform('alpha_3', 0, 1),\n",
    "            'alpha_4':  hp.uniform('alpha_4', 0, 1),\n",
    "            'alpha_5':  hp.uniform('alpha_5', 0, 1),\n",
    "            'colsample_bylevel': hp.uniform('colsample_bylevel', 0, 1),\n",
    "            'colsample_bytree': hp.uniform('colsample_bylevel', 0, 1),\n",
    "            'tree_method': 'hist',\n",
    "            'eta': hp.uniform('eta', 0.01, 0.2),\n",
    "            'alpha': hp.uniform('alpha', 0, 100),\n",
    "            'lambda': hp.uniform('lambda', 0, 100),\n",
    "            'gamma': hp.uniform('gamma', 0, 10),\n",
    "            'objective': 'binary:logistic',\n",
    "            'max_depth': hp.randint('max_depth', 2, 10),\n",
    "            'seed': 123,\n",
    "            'subsample': hp.uniform('subsample', 0, 1),\n",
    "            'eval_metric': 'auc',\n",
    "            'max_delta_step': 1.0,\n",
    "            'min_child_weight': hp.uniform('min_child_weight', 10, 100),\n",
    "            'num_boost_round': 1000\n",
    "           } "
   ]
  },
  {
   "cell_type": "code",
   "execution_count": 12,
   "id": "e56f717a",
   "metadata": {},
   "outputs": [],
   "source": [
    "generated_data_size = 10000"
   ]
  },
  {
   "cell_type": "markdown",
   "id": "45302b2f",
   "metadata": {},
   "source": [
    "# This part of the code is temporary just to show that XGBOOST Model works"
   ]
  },
  {
   "cell_type": "code",
   "execution_count": 44,
   "id": "94b1013a",
   "metadata": {},
   "outputs": [],
   "source": [
    "params_xgboost = {'colsample_bylevel': 0.8,\n",
    "            'colsample_bytree': 0.8,\n",
    "            'tree_method': 'hist',\n",
    "            'eta': 0.01,\n",
    "            'alpha': 50,\n",
    "            'lambda': 30,\n",
    "            'gamma': 0,\n",
    "            'objective': 'binary:logistic',\n",
    "            'max_depth': 6,\n",
    "            'seed': 123,\n",
    "            'subsample': 0.9,\n",
    "            'eval_metric': 'auc',\n",
    "            'max_delta_step': 1.0,\n",
    "            'min_child_weight': 70\n",
    "}"
   ]
  },
  {
   "cell_type": "code",
   "execution_count": 78,
   "id": "4ce8f7db",
   "metadata": {},
   "outputs": [],
   "source": [
    "num_boost_round = 1000\n",
    "for column in x_train.columns:\n",
    "     if x_train[column].dtype == 'object':\n",
    "        x_train[column] = x_train[column].astype('category')\n",
    "        x_test[column] = x_test[column].astype('category')\n",
    "dtrain = xgb.DMatrix(data=x_train, label=y_train, enable_categorical=True)\n",
    "dtest = xgb.DMatrix(data=x_test, label=y_test, enable_categorical=True)\n",
    " \n",
    "clf = xgb.train(params_xgboost, dtrain, num_boost_round, verbose_eval=False)"
   ]
  },
  {
   "cell_type": "code",
   "execution_count": 79,
   "id": "579554ac",
   "metadata": {},
   "outputs": [],
   "source": [
    "clf_probs = clf.predict(dtest)"
   ]
  },
  {
   "cell_type": "code",
   "execution_count": 91,
   "id": "7d069024",
   "metadata": {},
   "outputs": [],
   "source": [
    "clf_auc = roc_auc_score(y_test.values.astype(float), clf_probs)"
   ]
  },
  {
   "cell_type": "code",
   "execution_count": 93,
   "id": "63d7bb31",
   "metadata": {},
   "outputs": [
    {
     "data": {
      "text/plain": [
       "0.8705196675397717"
      ]
     },
     "execution_count": 93,
     "metadata": {},
     "output_type": "execute_result"
    }
   ],
   "source": [
    "clf_auc"
   ]
  },
  {
   "cell_type": "markdown",
   "id": "52d36e59",
   "metadata": {},
   "source": [
    "# HERE the temp code ends"
   ]
  },
  {
   "cell_type": "code",
   "execution_count": 16,
   "id": "cf398fd1",
   "metadata": {},
   "outputs": [],
   "source": [
    "def objective_maximize_roc(params):\n",
    "    # Keep track of the best iteration records\n",
    "    global output \n",
    "    global best_test_roc \n",
    "    global best_train_roc\n",
    "    global best_params\n",
    "    global best_X_synthetic\n",
    "    global best_y_synthetic\n",
    "    \n",
    "    # Scale the alphas so that their sum adds up to 1\n",
    "    alpha_temp = [params['alpha_1'], params['alpha_2'], params['alpha_3'], params['alpha_4'], params['alpha_5']]\n",
    "    scale = sum(alpha_temp)\n",
    "    alpha = [(1 / scale) * alpha_temp[i] for i in range(len(alpha_temp))]\n",
    "    index = np.argmax(alpha)\n",
    "    params['alpha_1'] = alpha[0]\n",
    "    params['alpha_2'] = alpha[1]\n",
    "    params['alpha_3'] = alpha[2]\n",
    "    params['alpha_4'] = alpha[3]\n",
    "    params['alpha_5'] = alpha[4]\n",
    "\n",
    "    # Combine all the data into a single list\n",
    "    X_temp = [x_gauss, x_ctgan, x_copgan, x_tvae, x_emp]\n",
    "    y_temp = [y_gauss, y_ctgan, y_copgan, y_tvae, y_emp]\n",
    "    \n",
    "    # Randomly select the data from each source\n",
    "    randomRows = random.sample(list(y_temp[0].index.values), int(alpha[0] * len(y_temp[0].index.values)))\n",
    "\n",
    "    X_new = X_temp[0].loc[randomRows]\n",
    "    y_new = y_temp[0].loc[randomRows]\n",
    "\n",
    "    x_test = test.loc[:, test.columns != 'salary']\n",
    "    y_test = test['salary']\n",
    "\n",
    "    size = [int(alpha[i] * len(y_temp[i].index.values)) for i in range(5)]\n",
    "    size[index] += (generated_data_size - sum(size))\n",
    "    \n",
    "    # Randomly select the data from each source based on the alpha values\n",
    "    for i in range(1, len(y_temp)):\n",
    "        n = size[i]\n",
    "        randomRows = random.sample(list(y_temp[i].index.values), n)\n",
    "        X_new = X_new.append(X_temp[i].loc[randomRows])\n",
    "        y_new = y_new.append(y_temp[i].loc[randomRows])\n",
    "\n",
    "\n",
    "    X_synthetic = X_new.copy()\n",
    "    y_synthetic = y_new.copy()\n",
    "    \n",
    "    # Handle Categorical Variables\n",
    "    cat_col = [\"wkclass\", \"connection\", \"matrimony\", \"job\", \"race\", \"sex\", \"origin\"]\n",
    "    X_new = MultiColumnLabelEncoder(columns = cat_col).fit_transform(X_new)\n",
    "    x_test = MultiColumnLabelEncoder(columns = cat_col).fit_transform(x_test)\n",
    "    num_boost_round = params['num_boost_round']\n",
    "    params_xgboost = {\n",
    "            'colsample_bylevel': params['colsample_bylevel'],\n",
    "            'colsample_bytree': params['colsample_bytree'],\n",
    "            'tree_method': 'hist',\n",
    "            'eta': params['eta'],\n",
    "            'alpha': params['params'],\n",
    "            'lambda': params['lambda'],\n",
    "            'gamma': params['gamma'],\n",
    "            'objective': 'binary:logistic',\n",
    "            'max_depth': params['max_depth'],\n",
    "            'seed': 123,\n",
    "            'subsample': params['subsample'],\n",
    "            'eval_metric': 'auc',\n",
    "            'max_delta_step': 1.0,\n",
    "            'min_child_weight': params['min_child_weight'] \n",
    "           }\n",
    "    \n",
    "    # Train classifier\n",
    "    for column in X_new.columns:\n",
    "        if X_new[column].dtype == 'object':\n",
    "            X_new[column] = X_new[column].astype('category')\n",
    "            x_test[column] = x_test[column].astype('category')\n",
    "    dtrain = xgb.DMatrix(data=X_new, label=y_new, enable_categorical=True)\n",
    "    dtest = xgb.DMatrix(data=x_test, label=y_test, enable_categorical=True)\n",
    "    \n",
    "    clf = xgb.train(params_xgboost, dtrain, num_boost_round, verbose_eval=False)\n",
    "    \n",
    "    # Evaluate the performance of the classifier\n",
    "    clf_probs = clf.predict(dtest)\n",
    "    clf_auc = roc_auc_score(y_test.values.astype(float), clf_probs)\n",
    "    \n",
    "    clf_probs_train = clf.predict(dtrain)\n",
    "    clf_auc_train = roc_auc_score(y_new.values.astype(float), clf_probs_train)\n",
    "    params['train_roc']        = clf_auc_train\n",
    "    params['test_roc']        = clf_auc\n",
    "    output = output.append(params,ignore_index=True)\n",
    "    \n",
    "    # Update best record of the loss function and the alpha values based on the optimization\n",
    "    if params['test_roc'] > best_test_roc:\n",
    "        best_test_roc = params['test_roc']\n",
    "        best_params = alpha\n",
    "        best_X_synthetic = X_synthetic\n",
    "        best_y_synthetic = y_synthetic\n",
    "\n",
    "    if params['train_roc'] > best_train_roc:\n",
    "         best_train_roc = params['train_roc']\n",
    "    \n",
    "    # Loss function is to maximize the test roc score\n",
    "    return {\n",
    "        'loss' : 1 - clf_auc,\n",
    "        'status' : STATUS_OK,\n",
    "        'eval_time ': time.time(),\n",
    "        'test_roc' : clf_auc,\n",
    "        }"
   ]
  },
  {
   "cell_type": "code",
   "execution_count": 17,
   "id": "84ae8eff",
   "metadata": {},
   "outputs": [],
   "source": [
    "def trainDT(max_evals:int):\n",
    "    # Keep track of the best iteration records\n",
    "    global output \n",
    "    output = pd.DataFrame()\n",
    "    global best_test_roc\n",
    "    global best_train_roc \n",
    "    global best_params\n",
    "    global best_X_synthetic\n",
    "    global best_y_synthetic\n",
    "    best_test_roc = 0\n",
    "    best_train_roc = 0\n",
    "    best_params = []\n",
    "    trials = Trials()\n",
    "    start = time.time()\n",
    "    clf_best_param = fmin(fn=objective_maximize_roc,\n",
    "                    space=params_range,\n",
    "                    max_evals=max_evals,\n",
    "                   # rstate=np.random.default_rng(42),\n",
    "                    algo=tpe.suggest,\n",
    "                    trials=trials)\n",
    "    print(clf_best_param)\n",
    "    print('It takes %s minutes' % ((time.time() - start)/60))\n",
    "    return best_train_roc, best_test_roc, best_params, best_X_synthetic, best_y_synthetic, clf_best_param"
   ]
  },
  {
   "cell_type": "code",
   "execution_count": null,
   "id": "8501b520",
   "metadata": {},
   "outputs": [],
   "source": [
    "# Run the bayseian optimization approach\n",
    "best_train_roc, best_test_roc, best_params, best_X_synthetic, best_y_synthetic, clf_best_param = trainDT(5000)"
   ]
  },
  {
   "cell_type": "code",
   "execution_count": null,
   "id": "642736e1",
   "metadata": {},
   "outputs": [],
   "source": [
    "best_train_roc"
   ]
  },
  {
   "cell_type": "code",
   "execution_count": null,
   "id": "ca3cd195",
   "metadata": {},
   "outputs": [],
   "source": [
    "best_test_roc"
   ]
  },
  {
   "cell_type": "code",
   "execution_count": null,
   "id": "f27c9980",
   "metadata": {},
   "outputs": [],
   "source": [
    "sum(clf_best_param.values())"
   ]
  },
  {
   "cell_type": "code",
   "execution_count": null,
   "id": "8f8dc80d",
   "metadata": {},
   "outputs": [],
   "source": [
    "sum(best_params)"
   ]
  },
  {
   "cell_type": "code",
   "execution_count": null,
   "id": "98d4c498",
   "metadata": {},
   "outputs": [],
   "source": [
    "best_params"
   ]
  },
  {
   "cell_type": "code",
   "execution_count": null,
   "id": "55d09d45",
   "metadata": {},
   "outputs": [],
   "source": [
    "best_X_synthetic.head"
   ]
  },
  {
   "cell_type": "code",
   "execution_count": null,
   "id": "d9269b7e",
   "metadata": {},
   "outputs": [],
   "source": [
    "best_y_synthetic"
   ]
  },
  {
   "cell_type": "markdown",
   "id": "89456a15",
   "metadata": {},
   "source": [
    "# Save the Generated Synthetic Data"
   ]
  },
  {
   "cell_type": "code",
   "execution_count": null,
   "id": "02323070",
   "metadata": {},
   "outputs": [],
   "source": [
    "synthetic_data = best_X_synthetic\n",
    "synthetic_data['salary'] = best_y_synthetic.values\n",
    "synthetic_data.loc[synthetic_data[\"salary\"] == True, \"salary\"] = \" <=50K\"\n",
    "synthetic_data.loc[synthetic_data[\"salary\"] == False, \"salary\"] = \" >50K\""
   ]
  },
  {
   "cell_type": "code",
   "execution_count": null,
   "id": "43246987",
   "metadata": {},
   "outputs": [],
   "source": [
    "synthetic_data"
   ]
  },
  {
   "cell_type": "code",
   "execution_count": null,
   "id": "2db22181",
   "metadata": {},
   "outputs": [],
   "source": [
    "synthetic_data.to_csv(\"../output/synthetic_data_xgboost.csv\")"
   ]
  }
 ],
 "metadata": {
  "kernelspec": {
   "display_name": "Python 3",
   "language": "python",
   "name": "python3"
  },
  "language_info": {
   "codemirror_mode": {
    "name": "ipython",
    "version": 3
   },
   "file_extension": ".py",
   "mimetype": "text/x-python",
   "name": "python",
   "nbconvert_exporter": "python",
   "pygments_lexer": "ipython3",
   "version": "3.10.9"
  }
 },
 "nbformat": 4,
 "nbformat_minor": 5
}
