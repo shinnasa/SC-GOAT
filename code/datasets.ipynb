{
 "cells": [
  {
   "cell_type": "code",
   "execution_count": 1,
   "id": "f95f0aa3-5981-4ca9-9fea-95647762ebe5",
   "metadata": {},
   "outputs": [],
   "source": [
    "import pandas as pd\n",
    "import numpy as np\n",
    "from sklearn.preprocessing import StandardScaler\n",
    "from sklearn.impute import SimpleImputer\n",
    "from sklearn.utils import resample\n",
    "from sklearn.metrics import roc_curve, roc_auc_score\n",
    "from sklearn.tree import DecisionTreeClassifier\n",
    "from sklearn.model_selection import KFold, train_test_split\n",
    "from sklearn.metrics import accuracy_score, f1_score, precision_score, recall_score\n",
    "from sklearn.preprocessing import LabelEncoder\n",
    "import warnings\n",
    "warnings.filterwarnings('ignore')\n",
    "\n",
    "\n",
    "# Other Libraries\n",
    "from collections import Counter\n",
    "from sklearn.model_selection import train_test_split\n",
    "from sklearn.pipeline import make_pipeline\n",
    "from imblearn.pipeline import make_pipeline as imbalanced_make_pipeline\n",
    "from imblearn.over_sampling import SMOTE\n",
    "from imblearn.under_sampling import NearMiss, RandomUnderSampler\n",
    "from imblearn.metrics import classification_report_imbalanced\n",
    "from imblearn.pipeline import Pipeline\n",
    "from numpy import where"
   ]
  },
  {
   "cell_type": "markdown",
   "id": "207eba95-c074-468a-b4cc-a15fbca08953",
   "metadata": {},
   "source": [
    "### Adult Dataset"
   ]
  },
  {
   "cell_type": "markdown",
   "id": "9b43d842-25a8-460a-a965-bf300a81e57f",
   "metadata": {},
   "source": [
    "#### Get Data remotely"
   ]
  },
  {
   "cell_type": "code",
   "execution_count": null,
   "id": "2979ebad-d184-48d4-bee3-2f064cf95773",
   "metadata": {},
   "outputs": [],
   "source": [
    "# ! mkdir -p data/adult\n",
    "# ! wget http://archive.ics.uci.edu/ml/machine-learning-databases/adult/adult.data\n",
    "# ! mv adult.data data/adult/adult1.csv\n",
    "# ! sed  -i -e '1i\"age\",\"workclass\",\"fnlwgt\",\"education\",\"education-num\",\"marital-status\",\"occupation\",\"relationship\",\"race\",\"sex\",\"capital-gain\",\"capital-loss\",\"hours-per-week\",\"native-country\",\"salary\"' data/adult/adult1.csv"
   ]
  },
  {
   "cell_type": "code",
   "execution_count": null,
   "id": "0bd2349f-e332-48b9-95be-cf146bfcc1de",
   "metadata": {},
   "outputs": [],
   "source": [
    "dataset_adult = pd.read_csv('../data/adult.csv')"
   ]
  },
  {
   "cell_type": "code",
   "execution_count": null,
   "id": "bbedf239-da9a-4343-9819-a60554b40adc",
   "metadata": {},
   "outputs": [],
   "source": [
    "dataset_adult.head()"
   ]
  },
  {
   "cell_type": "code",
   "execution_count": null,
   "id": "d7eca59b-fdc7-495e-a3af-d363464e849e",
   "metadata": {},
   "outputs": [],
   "source": [
    "dataset_adult.replace(' ?', np.NaN,inplace=True)\n",
    "dataset_adult.dropna(axis=0,how='any',inplace=True)\n",
    "dataset_adult = dataset_adult.drop('education', axis =1) #drop education col as its the same as education-num"
   ]
  },
  {
   "cell_type": "code",
   "execution_count": null,
   "id": "dae95135-9e7b-458a-9c0f-4ecf922a54ba",
   "metadata": {},
   "outputs": [],
   "source": [
    "dataset_adult.shape"
   ]
  },
  {
   "cell_type": "code",
   "execution_count": null,
   "id": "62da8940-6ccc-4bf9-bd0a-20189c1f9934",
   "metadata": {},
   "outputs": [],
   "source": [
    "# Create class for encoding\n",
    "class MultiColumnLabelEncoder:\n",
    "    def __init__(self,columns = None):\n",
    "        self.columns = columns # array of column names to encode\n",
    "\n",
    "    def fit(self,X,y=None):\n",
    "        return self # not relevant here\n",
    "\n",
    "    def transform(self,X):\n",
    "        '''\n",
    "        Transforms columns of X specified in self.columns using\n",
    "        LabelEncoder(). If no columns specified, transforms all\n",
    "        columns in X.\n",
    "        '''\n",
    "        output = X.copy()\n",
    "        if self.columns is not None:\n",
    "            for col in self.columns:\n",
    "                output[col] = LabelEncoder().fit_transform(output[col])\n",
    "        else:\n",
    "            for colname,col in output.iteritems():\n",
    "                output[colname] = LabelEncoder().fit_transform(col)\n",
    "        return output\n",
    "\n",
    "    def fit_transform(self,X,y=None):\n",
    "        return self.fit(X,y).transform(X)\n",
    "cat_col = ['workclass', 'marital-status', 'occupation', 'relationship', 'race', 'sex', 'native-country']"
   ]
  },
  {
   "cell_type": "code",
   "execution_count": null,
   "id": "19f0bc62-b924-496b-ab6b-2e9fd659031e",
   "metadata": {},
   "outputs": [],
   "source": [
    "dataset_adult.loc[dataset_adult[\"income\"] == \" <=50K\", \"income\"] = 0\n",
    "dataset_adult.loc[dataset_adult[\"income\"] == \" >50K\", \"income\"] = 1\n",
    "\n",
    "# data_adult_processed = MultiColumnLabelEncoder(columns = cat_col).fit_transform(dataset_adult)"
   ]
  },
  {
   "cell_type": "code",
   "execution_count": null,
   "id": "1e30e01a-2d4d-4e28-8286-f69eb03a724f",
   "metadata": {},
   "outputs": [],
   "source": [
    "# data_adult_processed.head()"
   ]
  },
  {
   "cell_type": "code",
   "execution_count": null,
   "id": "d6c3c68a-9e32-464c-a3dd-bbc871df298f",
   "metadata": {},
   "outputs": [],
   "source": [
    "# data_adult_processed.to_csv(r'data/process_adult.csv', index=False)\n",
    "dataset_adult.to_csv(r'../data/process_adult.csv', index=False)"
   ]
  },
  {
   "cell_type": "markdown",
   "id": "e034cb20-21b5-491d-a4af-fdc3175a0b1a",
   "metadata": {},
   "source": [
    "### Credit Dataset (Unbalanced)"
   ]
  },
  {
   "cell_type": "markdown",
   "id": "9c17d4f6-5121-4a1d-9983-85b619178259",
   "metadata": {},
   "source": [
    "#### Upload Data Locally"
   ]
  },
  {
   "cell_type": "code",
   "execution_count": 2,
   "id": "e0781804",
   "metadata": {},
   "outputs": [],
   "source": [
    "credit_card_data_dir = \"../data/credit_card\""
   ]
  },
  {
   "cell_type": "code",
   "execution_count": 4,
   "id": "bd70cff9-2ce7-40c1-9a94-214405348985",
   "metadata": {},
   "outputs": [],
   "source": [
    "df_credit = pd.read_csv(credit_card_data_dir + '/creditcard.csv')"
   ]
  },
  {
   "cell_type": "code",
   "execution_count": 5,
   "id": "3e1bf2b1-381f-4721-bf52-81b7c29ad22c",
   "metadata": {},
   "outputs": [
    {
     "name": "stdout",
     "output_type": "stream",
     "text": [
      "No Frauds 99.83 % of the dataset\n",
      "Frauds 0.17 % of the dataset\n"
     ]
    }
   ],
   "source": [
    "# The classes are heavily skewed we need to solve this issue later.\n",
    "print('No Frauds', round(df_credit['Class'].value_counts()[0]/len(df_credit) * 100,2), '% of the dataset')\n",
    "print('Frauds', round(df_credit['Class'].value_counts()[1]/len(df_credit) * 100,2), '% of the dataset')"
   ]
  },
  {
   "cell_type": "code",
   "execution_count": 6,
   "id": "fbec3c75-f6db-471c-8aa5-57a01de0c18a",
   "metadata": {},
   "outputs": [],
   "source": [
    "# Since most of our data has already been scaled we should scale the columns that are left to scale (Amount and Time)\n",
    "from sklearn.preprocessing import StandardScaler, RobustScaler\n",
    "\n",
    "# RobustScaler is less prone to outliers.\n",
    "\n",
    "std_scaler = StandardScaler()\n",
    "rob_scaler = RobustScaler()\n",
    "\n",
    "df_credit['scaled_amount'] = rob_scaler.fit_transform(df_credit['Amount'].values.reshape(-1,1))\n",
    "df_credit['scaled_time'] = rob_scaler.fit_transform(df_credit['Time'].values.reshape(-1,1))\n",
    "\n",
    "df_credit.drop(['Time','Amount'], axis=1, inplace=True)"
   ]
  },
  {
   "cell_type": "code",
   "execution_count": 7,
   "id": "ea4e3d6e-4f0b-4f4a-82cb-295695ef60b9",
   "metadata": {},
   "outputs": [
    {
     "data": {
      "text/html": [
       "<div>\n",
       "<style scoped>\n",
       "    .dataframe tbody tr th:only-of-type {\n",
       "        vertical-align: middle;\n",
       "    }\n",
       "\n",
       "    .dataframe tbody tr th {\n",
       "        vertical-align: top;\n",
       "    }\n",
       "\n",
       "    .dataframe thead th {\n",
       "        text-align: right;\n",
       "    }\n",
       "</style>\n",
       "<table border=\"1\" class=\"dataframe\">\n",
       "  <thead>\n",
       "    <tr style=\"text-align: right;\">\n",
       "      <th></th>\n",
       "      <th>scaled_amount</th>\n",
       "      <th>scaled_time</th>\n",
       "      <th>V1</th>\n",
       "      <th>V2</th>\n",
       "      <th>V3</th>\n",
       "      <th>V4</th>\n",
       "      <th>V5</th>\n",
       "      <th>V6</th>\n",
       "      <th>V7</th>\n",
       "      <th>V8</th>\n",
       "      <th>...</th>\n",
       "      <th>V20</th>\n",
       "      <th>V21</th>\n",
       "      <th>V22</th>\n",
       "      <th>V23</th>\n",
       "      <th>V24</th>\n",
       "      <th>V25</th>\n",
       "      <th>V26</th>\n",
       "      <th>V27</th>\n",
       "      <th>V28</th>\n",
       "      <th>Class</th>\n",
       "    </tr>\n",
       "  </thead>\n",
       "  <tbody>\n",
       "    <tr>\n",
       "      <th>0</th>\n",
       "      <td>1.783274</td>\n",
       "      <td>-0.994983</td>\n",
       "      <td>-1.359807</td>\n",
       "      <td>-0.072781</td>\n",
       "      <td>2.536347</td>\n",
       "      <td>1.378155</td>\n",
       "      <td>-0.338321</td>\n",
       "      <td>0.462388</td>\n",
       "      <td>0.239599</td>\n",
       "      <td>0.098698</td>\n",
       "      <td>...</td>\n",
       "      <td>0.251412</td>\n",
       "      <td>-0.018307</td>\n",
       "      <td>0.277838</td>\n",
       "      <td>-0.110474</td>\n",
       "      <td>0.066928</td>\n",
       "      <td>0.128539</td>\n",
       "      <td>-0.189115</td>\n",
       "      <td>0.133558</td>\n",
       "      <td>-0.021053</td>\n",
       "      <td>0</td>\n",
       "    </tr>\n",
       "    <tr>\n",
       "      <th>1</th>\n",
       "      <td>-0.269825</td>\n",
       "      <td>-0.994983</td>\n",
       "      <td>1.191857</td>\n",
       "      <td>0.266151</td>\n",
       "      <td>0.166480</td>\n",
       "      <td>0.448154</td>\n",
       "      <td>0.060018</td>\n",
       "      <td>-0.082361</td>\n",
       "      <td>-0.078803</td>\n",
       "      <td>0.085102</td>\n",
       "      <td>...</td>\n",
       "      <td>-0.069083</td>\n",
       "      <td>-0.225775</td>\n",
       "      <td>-0.638672</td>\n",
       "      <td>0.101288</td>\n",
       "      <td>-0.339846</td>\n",
       "      <td>0.167170</td>\n",
       "      <td>0.125895</td>\n",
       "      <td>-0.008983</td>\n",
       "      <td>0.014724</td>\n",
       "      <td>0</td>\n",
       "    </tr>\n",
       "    <tr>\n",
       "      <th>2</th>\n",
       "      <td>4.983721</td>\n",
       "      <td>-0.994972</td>\n",
       "      <td>-1.358354</td>\n",
       "      <td>-1.340163</td>\n",
       "      <td>1.773209</td>\n",
       "      <td>0.379780</td>\n",
       "      <td>-0.503198</td>\n",
       "      <td>1.800499</td>\n",
       "      <td>0.791461</td>\n",
       "      <td>0.247676</td>\n",
       "      <td>...</td>\n",
       "      <td>0.524980</td>\n",
       "      <td>0.247998</td>\n",
       "      <td>0.771679</td>\n",
       "      <td>0.909412</td>\n",
       "      <td>-0.689281</td>\n",
       "      <td>-0.327642</td>\n",
       "      <td>-0.139097</td>\n",
       "      <td>-0.055353</td>\n",
       "      <td>-0.059752</td>\n",
       "      <td>0</td>\n",
       "    </tr>\n",
       "    <tr>\n",
       "      <th>3</th>\n",
       "      <td>1.418291</td>\n",
       "      <td>-0.994972</td>\n",
       "      <td>-0.966272</td>\n",
       "      <td>-0.185226</td>\n",
       "      <td>1.792993</td>\n",
       "      <td>-0.863291</td>\n",
       "      <td>-0.010309</td>\n",
       "      <td>1.247203</td>\n",
       "      <td>0.237609</td>\n",
       "      <td>0.377436</td>\n",
       "      <td>...</td>\n",
       "      <td>-0.208038</td>\n",
       "      <td>-0.108300</td>\n",
       "      <td>0.005274</td>\n",
       "      <td>-0.190321</td>\n",
       "      <td>-1.175575</td>\n",
       "      <td>0.647376</td>\n",
       "      <td>-0.221929</td>\n",
       "      <td>0.062723</td>\n",
       "      <td>0.061458</td>\n",
       "      <td>0</td>\n",
       "    </tr>\n",
       "    <tr>\n",
       "      <th>4</th>\n",
       "      <td>0.670579</td>\n",
       "      <td>-0.994960</td>\n",
       "      <td>-1.158233</td>\n",
       "      <td>0.877737</td>\n",
       "      <td>1.548718</td>\n",
       "      <td>0.403034</td>\n",
       "      <td>-0.407193</td>\n",
       "      <td>0.095921</td>\n",
       "      <td>0.592941</td>\n",
       "      <td>-0.270533</td>\n",
       "      <td>...</td>\n",
       "      <td>0.408542</td>\n",
       "      <td>-0.009431</td>\n",
       "      <td>0.798278</td>\n",
       "      <td>-0.137458</td>\n",
       "      <td>0.141267</td>\n",
       "      <td>-0.206010</td>\n",
       "      <td>0.502292</td>\n",
       "      <td>0.219422</td>\n",
       "      <td>0.215153</td>\n",
       "      <td>0</td>\n",
       "    </tr>\n",
       "  </tbody>\n",
       "</table>\n",
       "<p>5 rows × 31 columns</p>\n",
       "</div>"
      ],
      "text/plain": [
       "   scaled_amount  scaled_time        V1        V2        V3        V4  \\\n",
       "0       1.783274    -0.994983 -1.359807 -0.072781  2.536347  1.378155   \n",
       "1      -0.269825    -0.994983  1.191857  0.266151  0.166480  0.448154   \n",
       "2       4.983721    -0.994972 -1.358354 -1.340163  1.773209  0.379780   \n",
       "3       1.418291    -0.994972 -0.966272 -0.185226  1.792993 -0.863291   \n",
       "4       0.670579    -0.994960 -1.158233  0.877737  1.548718  0.403034   \n",
       "\n",
       "         V5        V6        V7        V8  ...       V20       V21       V22  \\\n",
       "0 -0.338321  0.462388  0.239599  0.098698  ...  0.251412 -0.018307  0.277838   \n",
       "1  0.060018 -0.082361 -0.078803  0.085102  ... -0.069083 -0.225775 -0.638672   \n",
       "2 -0.503198  1.800499  0.791461  0.247676  ...  0.524980  0.247998  0.771679   \n",
       "3 -0.010309  1.247203  0.237609  0.377436  ... -0.208038 -0.108300  0.005274   \n",
       "4 -0.407193  0.095921  0.592941 -0.270533  ...  0.408542 -0.009431  0.798278   \n",
       "\n",
       "        V23       V24       V25       V26       V27       V28  Class  \n",
       "0 -0.110474  0.066928  0.128539 -0.189115  0.133558 -0.021053      0  \n",
       "1  0.101288 -0.339846  0.167170  0.125895 -0.008983  0.014724      0  \n",
       "2  0.909412 -0.689281 -0.327642 -0.139097 -0.055353 -0.059752      0  \n",
       "3 -0.190321 -1.175575  0.647376 -0.221929  0.062723  0.061458      0  \n",
       "4 -0.137458  0.141267 -0.206010  0.502292  0.219422  0.215153      0  \n",
       "\n",
       "[5 rows x 31 columns]"
      ]
     },
     "execution_count": 7,
     "metadata": {},
     "output_type": "execute_result"
    }
   ],
   "source": [
    "scaled_amount = df_credit['scaled_amount']\n",
    "scaled_time = df_credit['scaled_time'] \n",
    "\n",
    "df_credit.drop(['scaled_amount', 'scaled_time'], axis=1, inplace=True)\n",
    "df_credit.insert(0, 'scaled_amount', scaled_amount)\n",
    "df_credit.insert(1, 'scaled_time', scaled_time)\n",
    "\n",
    "# Amount and Time are Scaled\n",
    "\n",
    "df_credit.head()"
   ]
  },
  {
   "cell_type": "code",
   "execution_count": 8,
   "id": "8d069227",
   "metadata": {},
   "outputs": [],
   "source": [
    "df_credit.to_csv(credit_card_data_dir + \"/credit_card_unbalanced.csv\", index = False)"
   ]
  },
  {
   "cell_type": "markdown",
   "id": "1f2ce83c-dd45-42f8-98fd-b7c94c353c4d",
   "metadata": {},
   "source": [
    "### Credit Dataset (Balanced)"
   ]
  },
  {
   "cell_type": "code",
   "execution_count": 9,
   "id": "1340ffe7-a24c-47c4-8af7-33532d3c9a4a",
   "metadata": {},
   "outputs": [],
   "source": [
    "df_credit_balance = df_credit.copy()"
   ]
  },
  {
   "cell_type": "markdown",
   "id": "d8d57c7d-9dbc-4df0-bd49-73a78ef2d7c5",
   "metadata": {},
   "source": [
    "#### Without Undersampling"
   ]
  },
  {
   "cell_type": "code",
   "execution_count": 10,
   "id": "27fc2829-2e2d-4a9e-96e3-0db224b862ad",
   "metadata": {},
   "outputs": [
    {
     "name": "stdout",
     "output_type": "stream",
     "text": [
      "Counter({0: 284315, 1: 492})\n",
      "Counter({0: 284315, 1: 284315})\n"
     ]
    }
   ],
   "source": [
    "#get X and y\n",
    "X = df_credit_balance.drop('Class', axis =1)\n",
    "y = df_credit_balance['Class'].astype('int')\n",
    "# summarize class distribution\n",
    "counter = Counter(y)\n",
    "print(counter)\n",
    "# transform the dataset\n",
    "oversample = SMOTE()\n",
    "X, y = oversample.fit_resample(X, y)\n",
    "# summarize the new class distribution\n",
    "counter = Counter(y)\n",
    "print(counter)"
   ]
  },
  {
   "cell_type": "code",
   "execution_count": 11,
   "id": "33ef69c6-9234-4a13-b39f-9b331db264dc",
   "metadata": {},
   "outputs": [],
   "source": [
    "df_credit_bal = X\n",
    "df_credit_bal['Class'] = y"
   ]
  },
  {
   "cell_type": "markdown",
   "id": "1749bb7a-dc01-49b3-9ca5-45f494060ef8",
   "metadata": {},
   "source": [
    "#### With Undersampling (One we will use)"
   ]
  },
  {
   "cell_type": "code",
   "execution_count": 12,
   "id": "653cea05-f1d9-4169-a3a6-5da0402189a2",
   "metadata": {},
   "outputs": [
    {
     "name": "stdout",
     "output_type": "stream",
     "text": [
      "Counter({0: 284315, 1: 492})\n",
      "Counter({0: 56862, 1: 28431})\n"
     ]
    }
   ],
   "source": [
    "#get X and y\n",
    "X = df_credit_balance.drop('Class', axis =1)\n",
    "y = df_credit_balance['Class'].astype('int')\n",
    "\n",
    "# summarize class distribution\n",
    "counter = Counter(y)\n",
    "print(counter)\n",
    "\n",
    "#define pipleine\n",
    "over = SMOTE(sampling_strategy=0.1)\n",
    "under = RandomUnderSampler(sampling_strategy=0.5)\n",
    "steps = [('o', over), ('u', under)]\n",
    "pipeline = Pipeline(steps=steps)\n",
    "\n",
    "# transform the dataset\n",
    "X, y = pipeline.fit_resample(X, y)\n",
    "# summarize the new class distribution\n",
    "counter = Counter(y)\n",
    "print(counter)\n"
   ]
  },
  {
   "cell_type": "code",
   "execution_count": 13,
   "id": "d2d81fdb-937a-4f47-8acb-d9d3788358e7",
   "metadata": {},
   "outputs": [],
   "source": [
    "df_credit_bal_under = X\n",
    "df_credit_bal_under['Class'] = y"
   ]
  },
  {
   "cell_type": "code",
   "execution_count": 14,
   "id": "d381128c-ea75-4101-ba3e-769c4ee517aa",
   "metadata": {},
   "outputs": [
    {
     "data": {
      "text/html": [
       "<div>\n",
       "<style scoped>\n",
       "    .dataframe tbody tr th:only-of-type {\n",
       "        vertical-align: middle;\n",
       "    }\n",
       "\n",
       "    .dataframe tbody tr th {\n",
       "        vertical-align: top;\n",
       "    }\n",
       "\n",
       "    .dataframe thead th {\n",
       "        text-align: right;\n",
       "    }\n",
       "</style>\n",
       "<table border=\"1\" class=\"dataframe\">\n",
       "  <thead>\n",
       "    <tr style=\"text-align: right;\">\n",
       "      <th></th>\n",
       "      <th>scaled_amount</th>\n",
       "      <th>scaled_time</th>\n",
       "      <th>V1</th>\n",
       "      <th>V2</th>\n",
       "      <th>V3</th>\n",
       "      <th>V4</th>\n",
       "      <th>V5</th>\n",
       "      <th>V6</th>\n",
       "      <th>V7</th>\n",
       "      <th>V8</th>\n",
       "      <th>...</th>\n",
       "      <th>V20</th>\n",
       "      <th>V21</th>\n",
       "      <th>V22</th>\n",
       "      <th>V23</th>\n",
       "      <th>V24</th>\n",
       "      <th>V25</th>\n",
       "      <th>V26</th>\n",
       "      <th>V27</th>\n",
       "      <th>V28</th>\n",
       "      <th>Class</th>\n",
       "    </tr>\n",
       "  </thead>\n",
       "  <tbody>\n",
       "    <tr>\n",
       "      <th>193410</th>\n",
       "      <td>1.259834</td>\n",
       "      <td>0.533759</td>\n",
       "      <td>1.809775</td>\n",
       "      <td>-0.564360</td>\n",
       "      <td>-3.154637</td>\n",
       "      <td>-0.580605</td>\n",
       "      <td>2.436341</td>\n",
       "      <td>3.252096</td>\n",
       "      <td>-0.396497</td>\n",
       "      <td>0.805999</td>\n",
       "      <td>...</td>\n",
       "      <td>0.096316</td>\n",
       "      <td>-0.187252</td>\n",
       "      <td>-0.626876</td>\n",
       "      <td>0.136507</td>\n",
       "      <td>0.589529</td>\n",
       "      <td>-0.066872</td>\n",
       "      <td>-0.078523</td>\n",
       "      <td>-0.007190</td>\n",
       "      <td>-0.010111</td>\n",
       "      <td>0</td>\n",
       "    </tr>\n",
       "    <tr>\n",
       "      <th>241716</th>\n",
       "      <td>-0.279746</td>\n",
       "      <td>0.780754</td>\n",
       "      <td>1.891586</td>\n",
       "      <td>-0.060788</td>\n",
       "      <td>-1.850108</td>\n",
       "      <td>0.190082</td>\n",
       "      <td>1.241229</td>\n",
       "      <td>1.183192</td>\n",
       "      <td>-0.159239</td>\n",
       "      <td>0.372883</td>\n",
       "      <td>...</td>\n",
       "      <td>-0.297931</td>\n",
       "      <td>-0.249715</td>\n",
       "      <td>-0.468267</td>\n",
       "      <td>0.461889</td>\n",
       "      <td>-0.869079</td>\n",
       "      <td>-0.569690</td>\n",
       "      <td>0.303931</td>\n",
       "      <td>0.007856</td>\n",
       "      <td>-0.045961</td>\n",
       "      <td>0</td>\n",
       "    </tr>\n",
       "    <tr>\n",
       "      <th>79659</th>\n",
       "      <td>-0.005589</td>\n",
       "      <td>-0.312245</td>\n",
       "      <td>-1.042461</td>\n",
       "      <td>-0.201261</td>\n",
       "      <td>1.722029</td>\n",
       "      <td>-2.601335</td>\n",
       "      <td>-1.429197</td>\n",
       "      <td>-0.354150</td>\n",
       "      <td>-0.955273</td>\n",
       "      <td>0.665570</td>\n",
       "      <td>...</td>\n",
       "      <td>-0.276842</td>\n",
       "      <td>0.015172</td>\n",
       "      <td>0.198574</td>\n",
       "      <td>-0.252566</td>\n",
       "      <td>-0.039808</td>\n",
       "      <td>0.419139</td>\n",
       "      <td>-0.162309</td>\n",
       "      <td>0.172853</td>\n",
       "      <td>0.032109</td>\n",
       "      <td>0</td>\n",
       "    </tr>\n",
       "    <tr>\n",
       "      <th>260267</th>\n",
       "      <td>-0.254454</td>\n",
       "      <td>0.878535</td>\n",
       "      <td>-0.336478</td>\n",
       "      <td>1.099309</td>\n",
       "      <td>-0.917640</td>\n",
       "      <td>-1.504294</td>\n",
       "      <td>1.786349</td>\n",
       "      <td>-0.750739</td>\n",
       "      <td>1.846176</td>\n",
       "      <td>-0.591555</td>\n",
       "      <td>...</td>\n",
       "      <td>0.314591</td>\n",
       "      <td>0.098397</td>\n",
       "      <td>0.879769</td>\n",
       "      <td>-0.315362</td>\n",
       "      <td>0.317187</td>\n",
       "      <td>-0.257885</td>\n",
       "      <td>0.018494</td>\n",
       "      <td>0.264230</td>\n",
       "      <td>-0.046048</td>\n",
       "      <td>0</td>\n",
       "    </tr>\n",
       "    <tr>\n",
       "      <th>255154</th>\n",
       "      <td>0.409558</td>\n",
       "      <td>0.850550</td>\n",
       "      <td>1.943170</td>\n",
       "      <td>-0.698360</td>\n",
       "      <td>-0.422191</td>\n",
       "      <td>0.373606</td>\n",
       "      <td>-0.558475</td>\n",
       "      <td>0.349388</td>\n",
       "      <td>-0.929695</td>\n",
       "      <td>0.229442</td>\n",
       "      <td>...</td>\n",
       "      <td>-0.136495</td>\n",
       "      <td>-0.021004</td>\n",
       "      <td>-0.097254</td>\n",
       "      <td>0.237225</td>\n",
       "      <td>0.005168</td>\n",
       "      <td>-0.478709</td>\n",
       "      <td>0.177865</td>\n",
       "      <td>-0.013951</td>\n",
       "      <td>-0.029558</td>\n",
       "      <td>0</td>\n",
       "    </tr>\n",
       "  </tbody>\n",
       "</table>\n",
       "<p>5 rows × 31 columns</p>\n",
       "</div>"
      ],
      "text/plain": [
       "        scaled_amount  scaled_time        V1        V2        V3        V4  \\\n",
       "193410       1.259834     0.533759  1.809775 -0.564360 -3.154637 -0.580605   \n",
       "241716      -0.279746     0.780754  1.891586 -0.060788 -1.850108  0.190082   \n",
       "79659       -0.005589    -0.312245 -1.042461 -0.201261  1.722029 -2.601335   \n",
       "260267      -0.254454     0.878535 -0.336478  1.099309 -0.917640 -1.504294   \n",
       "255154       0.409558     0.850550  1.943170 -0.698360 -0.422191  0.373606   \n",
       "\n",
       "              V5        V6        V7        V8  ...       V20       V21  \\\n",
       "193410  2.436341  3.252096 -0.396497  0.805999  ...  0.096316 -0.187252   \n",
       "241716  1.241229  1.183192 -0.159239  0.372883  ... -0.297931 -0.249715   \n",
       "79659  -1.429197 -0.354150 -0.955273  0.665570  ... -0.276842  0.015172   \n",
       "260267  1.786349 -0.750739  1.846176 -0.591555  ...  0.314591  0.098397   \n",
       "255154 -0.558475  0.349388 -0.929695  0.229442  ... -0.136495 -0.021004   \n",
       "\n",
       "             V22       V23       V24       V25       V26       V27       V28  \\\n",
       "193410 -0.626876  0.136507  0.589529 -0.066872 -0.078523 -0.007190 -0.010111   \n",
       "241716 -0.468267  0.461889 -0.869079 -0.569690  0.303931  0.007856 -0.045961   \n",
       "79659   0.198574 -0.252566 -0.039808  0.419139 -0.162309  0.172853  0.032109   \n",
       "260267  0.879769 -0.315362  0.317187 -0.257885  0.018494  0.264230 -0.046048   \n",
       "255154 -0.097254  0.237225  0.005168 -0.478709  0.177865 -0.013951 -0.029558   \n",
       "\n",
       "        Class  \n",
       "193410      0  \n",
       "241716      0  \n",
       "79659       0  \n",
       "260267      0  \n",
       "255154      0  \n",
       "\n",
       "[5 rows x 31 columns]"
      ]
     },
     "execution_count": 14,
     "metadata": {},
     "output_type": "execute_result"
    }
   ],
   "source": [
    "df_credit_bal_under.head()"
   ]
  },
  {
   "cell_type": "code",
   "execution_count": 15,
   "id": "79280f2a",
   "metadata": {},
   "outputs": [],
   "source": [
    "df_credit_bal_under.to_csv(credit_card_data_dir + \"/credit_card_balanced.csv\", index = False)"
   ]
  },
  {
   "cell_type": "code",
   "execution_count": null,
   "id": "0f8ce5e0",
   "metadata": {},
   "outputs": [],
   "source": []
  }
 ],
 "metadata": {
  "kernelspec": {
   "display_name": "Python 3",
   "language": "python",
   "name": "python3"
  },
  "language_info": {
   "codemirror_mode": {
    "name": "ipython",
    "version": 3
   },
   "file_extension": ".py",
   "mimetype": "text/x-python",
   "name": "python",
   "nbconvert_exporter": "python",
   "pygments_lexer": "ipython3",
   "version": "3.10.9"
  }
 },
 "nbformat": 4,
 "nbformat_minor": 5
}
